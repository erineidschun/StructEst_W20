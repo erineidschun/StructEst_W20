{
 "cells": [
  {
   "cell_type": "code",
   "execution_count": 159,
   "metadata": {},
   "outputs": [],
   "source": [
    "import numpy.linalg as lin\n",
    "import scipy.integrate as intgr\n",
    "import numpy as np\n",
    "import pandas as pd\n",
    "import random\n",
    "import scipy.stats as sts\n",
    "from scipy.stats import uniform\n",
    "\n",
    "\n",
    "import requests\n",
    "import statistics\n",
    "import matplotlib.pyplot as plt\n",
    "import scipy.special as spc\n",
    "import scipy.optimize as opt\n",
    "import seaborn as sns\n",
    "\n",
    "sns.set()"
   ]
  },
  {
   "cell_type": "code",
   "execution_count": 160,
   "metadata": {},
   "outputs": [],
   "source": [
    "# import os\n",
    "# os.getcwd()"
   ]
  },
  {
   "cell_type": "code",
   "execution_count": 161,
   "metadata": {},
   "outputs": [
    {
     "data": {
      "text/html": [
       "<div>\n",
       "<style scoped>\n",
       "    .dataframe tbody tr th:only-of-type {\n",
       "        vertical-align: middle;\n",
       "    }\n",
       "\n",
       "    .dataframe tbody tr th {\n",
       "        vertical-align: top;\n",
       "    }\n",
       "\n",
       "    .dataframe thead th {\n",
       "        text-align: right;\n",
       "    }\n",
       "</style>\n",
       "<table border=\"1\" class=\"dataframe\">\n",
       "  <thead>\n",
       "    <tr style=\"text-align: right;\">\n",
       "      <th></th>\n",
       "      <th>c</th>\n",
       "      <th>k</th>\n",
       "      <th>w</th>\n",
       "      <th>r</th>\n",
       "      <th>y</th>\n",
       "    </tr>\n",
       "  </thead>\n",
       "  <tbody>\n",
       "    <tr>\n",
       "      <th>0</th>\n",
       "      <td>1.128323e+07</td>\n",
       "      <td>8.040697e+06</td>\n",
       "      <td>1.120211e+07</td>\n",
       "      <td>1.008852</td>\n",
       "      <td>1.931398e+07</td>\n",
       "    </tr>\n",
       "    <tr>\n",
       "      <th>1</th>\n",
       "      <td>1.215464e+07</td>\n",
       "      <td>8.030754e+06</td>\n",
       "      <td>1.206726e+07</td>\n",
       "      <td>1.088112</td>\n",
       "      <td>2.080561e+07</td>\n",
       "    </tr>\n",
       "    <tr>\n",
       "      <th>2</th>\n",
       "      <td>1.097303e+07</td>\n",
       "      <td>8.650974e+06</td>\n",
       "      <td>1.089414e+07</td>\n",
       "      <td>0.911904</td>\n",
       "      <td>1.878300e+07</td>\n",
       "    </tr>\n",
       "    <tr>\n",
       "      <th>3</th>\n",
       "      <td>9.711635e+06</td>\n",
       "      <td>7.809971e+06</td>\n",
       "      <td>9.641815e+06</td>\n",
       "      <td>0.893986</td>\n",
       "      <td>1.662382e+07</td>\n",
       "    </tr>\n",
       "    <tr>\n",
       "      <th>4</th>\n",
       "      <td>9.245673e+06</td>\n",
       "      <td>6.912184e+06</td>\n",
       "      <td>9.179203e+06</td>\n",
       "      <td>0.961637</td>\n",
       "      <td>1.582621e+07</td>\n",
       "    </tr>\n",
       "  </tbody>\n",
       "</table>\n",
       "</div>"
      ],
      "text/plain": [
       "              c             k             w         r             y\n",
       "0  1.128323e+07  8.040697e+06  1.120211e+07  1.008852  1.931398e+07\n",
       "1  1.215464e+07  8.030754e+06  1.206726e+07  1.088112  2.080561e+07\n",
       "2  1.097303e+07  8.650974e+06  1.089414e+07  0.911904  1.878300e+07\n",
       "3  9.711635e+06  7.809971e+06  9.641815e+06  0.893986  1.662382e+07\n",
       "4  9.245673e+06  6.912184e+06  9.179203e+06  0.961637  1.582621e+07"
      ]
     },
     "execution_count": 161,
     "metadata": {},
     "output_type": "execute_result"
    }
   ],
   "source": [
    "#load data and reshape it\n",
    "macroseries = np.loadtxt('data/NewMacroSeries.txt', delimiter=',')\n",
    "df = pd.DataFrame(macroseries)\n",
    "df.columns = ['c', 'k', 'w', 'r', 'y']\n",
    "df.head()"
   ]
  },
  {
   "cell_type": "code",
   "execution_count": 162,
   "metadata": {},
   "outputs": [],
   "source": [
    "# #Initial vals\n",
    "# alpha_0=0.3\n",
    "# rho_0=0.4\n",
    "# mu_0=0.7\n",
    "# sigma_0=0.6\n",
    "# beta=0.99 #given\n",
    "# np.random.seed(100)\n",
    "\n",
    "# #Parameters\n",
    "# alpha=alpha_0\n",
    "# #beta=beta_0\n",
    "# rho=rho_0\n",
    "# mu=mu_0\n",
    "# sigma=sigma_0\n"
   ]
  },
  {
   "cell_type": "markdown",
   "metadata": {},
   "source": [
    "# Simulate the data"
   ]
  },
  {
   "cell_type": "code",
   "execution_count": 163,
   "metadata": {},
   "outputs": [],
   "source": [
    "# #assumptions (Given). Fixed across simulations\n",
    "# k_1 = df['k'].mean()\n",
    "\n",
    "\n",
    "# #simulation parameters\n",
    "# err_sigma = 0.1\n",
    "# alpha_s = 0.5\n",
    "# beta = 0.99\n",
    "# mu_s = 10\n",
    "# z_0 = mu_s\n",
    "# rho_s = 0.7\n",
    "# err_sigma = 0.1\n",
    "# k_mean = df['k'].mean()"
   ]
  },
  {
   "cell_type": "code",
   "execution_count": 164,
   "metadata": {},
   "outputs": [],
   "source": [
    "#Simulate data\n",
    "def get_sim_vals(alpha_s, mu_s, err_sigma, rho_s):\n",
    "    np.random.seed(100)\n",
    "    T = 100 #100 \n",
    "    S = 1000 #1000\n",
    "    #draw u\n",
    "    u_st = uniform.rvs(size=(T, S))\n",
    "    #calc eps\n",
    "    np.random.seed(100)\n",
    "    eps_st = sts.norm.ppf(u_st, 0, err_sigma)\n",
    "\n",
    "    #calc z_st\n",
    "    z_st = np.zeros((T, S))\n",
    "    z_st[0,:] = z_0 + eps_st[0,:]\n",
    "    for i in range(1,T):\n",
    "        for j in range(0, S):\n",
    "            z_st[i,j] = rho_s*z_st[i-1,j] + (1-rho_s)*mu_s + eps_st[i,j] #5\n",
    "\n",
    "    #calc k_st\n",
    "    k_st = np.zeros((T, S))\n",
    "    k_st[0,:] = df.k.mean()\n",
    "    for i in range(0,T-1):\n",
    "        for j in range(0, S):\n",
    "            k_st[i+1,j] = alpha_s*beta*np.exp(z_st[i,j])*k_st[i,j]**alpha_s #7\n",
    "\n",
    "    # k_test  = np.zeros((T, S))\n",
    "    # k_test[0,:] = df.k.mean()\n",
    "    # for i in range(1,T):\n",
    "    #     for j in range(0, S):\n",
    "    #         k[i,j] = alpha_s*beta*np.exp(z[i,j])*k[i,j]**alpha_s #7\n",
    "\n",
    "\n",
    "\n",
    "\n",
    "    #calc w_st, r_st, c_st, y_st\n",
    "    w_st = np.zeros((T, S))\n",
    "    r_st = np.zeros((T, S))\n",
    "    c_st = np.zeros((T, S))\n",
    "    y_st = np.zeros((T, S))\n",
    "\n",
    "    for i in range(0,T):\n",
    "        for j in range(0, S):\n",
    "            w_st[i,j] = (1-alpha_s)*np.exp(z_st[i,j])*k_st[i,j]**alpha_s #3\n",
    "            r_st[i,j] = alpha_s * np.exp(z_st[i,j])*k_st[i,j]**(alpha_s - 1) #4\n",
    "            y_st[i,j] = np.exp(z_st[i,j])*k_st[i,j]**alpha_s\n",
    "    for i in range(0, T-1):\n",
    "        for j in range(0,S):\n",
    "            c_st[i,j] = r_st[i,j]*k_st[i,j] + w_st[i,j] - k_st[i+1,j] #2\n",
    "            \n",
    "    return c_st, k_st, w_st, r_st, y_st\n",
    "\n",
    "# #winsoriz last value of c\n",
    "# c[T-1,:] = r\n",
    "\n",
    "\n",
    "#         if i != T-1: #Upper bound\n",
    "#             c[i,j] = r[i,j]*k[i,j] + w[i,j] - k[i+1,j] #2 confused how this works with k?\n",
    "#         if i == T-1:\n",
    "#             c[i,j] = c[i-1,j]\n",
    "\n",
    "\n",
    "\n",
    "\n",
    "\n",
    "#note all values are now stored in arrays k, w, r, y, c\n"
   ]
  },
  {
   "cell_type": "markdown",
   "metadata": {},
   "source": [
    "# part a"
   ]
  },
  {
   "cell_type": "code",
   "execution_count": 165,
   "metadata": {},
   "outputs": [
    {
     "data": {
      "text/html": [
       "<div>\n",
       "<style scoped>\n",
       "    .dataframe tbody tr th:only-of-type {\n",
       "        vertical-align: middle;\n",
       "    }\n",
       "\n",
       "    .dataframe tbody tr th {\n",
       "        vertical-align: top;\n",
       "    }\n",
       "\n",
       "    .dataframe thead th {\n",
       "        text-align: right;\n",
       "    }\n",
       "</style>\n",
       "<table border=\"1\" class=\"dataframe\">\n",
       "  <thead>\n",
       "    <tr style=\"text-align: right;\">\n",
       "      <th></th>\n",
       "      <th>c_t-1</th>\n",
       "      <th>c_t</th>\n",
       "    </tr>\n",
       "  </thead>\n",
       "  <tbody>\n",
       "    <tr>\n",
       "      <th>0</th>\n",
       "      <td>1.215464e+07</td>\n",
       "      <td>1.128323e+07</td>\n",
       "    </tr>\n",
       "    <tr>\n",
       "      <th>1</th>\n",
       "      <td>1.097303e+07</td>\n",
       "      <td>1.215464e+07</td>\n",
       "    </tr>\n",
       "    <tr>\n",
       "      <th>2</th>\n",
       "      <td>9.711635e+06</td>\n",
       "      <td>1.097303e+07</td>\n",
       "    </tr>\n",
       "    <tr>\n",
       "      <th>3</th>\n",
       "      <td>9.245673e+06</td>\n",
       "      <td>9.711635e+06</td>\n",
       "    </tr>\n",
       "    <tr>\n",
       "      <th>4</th>\n",
       "      <td>8.065031e+06</td>\n",
       "      <td>9.245673e+06</td>\n",
       "    </tr>\n",
       "  </tbody>\n",
       "</table>\n",
       "</div>"
      ],
      "text/plain": [
       "          c_t-1           c_t\n",
       "0  1.215464e+07  1.128323e+07\n",
       "1  1.097303e+07  1.215464e+07\n",
       "2  9.711635e+06  1.097303e+07\n",
       "3  9.245673e+06  9.711635e+06\n",
       "4  8.065031e+06  9.245673e+06"
      ]
     },
     "execution_count": 165,
     "metadata": {},
     "output_type": "execute_result"
    }
   ],
   "source": [
    "#create c_t-1 and store in same df as c_t, for calculation of moments\n",
    "c_data = pd.DataFrame(df.c.values)\n",
    "c_df = pd.concat([c_data.shift(-1), c_data], axis=1, )\n",
    "c_df.columns = ['c_t-1', 'c_t']\n",
    "c_df.head()\n"
   ]
  },
  {
   "cell_type": "code",
   "execution_count": 166,
   "metadata": {},
   "outputs": [],
   "source": [
    "def moments_calc(c, k, w, r, y):\n",
    "    #calc c_lag\n",
    "    c_lag = pd.DataFrame(c).shift(1)\n",
    "    c_lag_array = np.asarray(c)\n",
    "    #for 1D data (data moments recognized)\n",
    "    if c.ndim == 1:\n",
    "        m1 = c.mean()\n",
    "        m2 = k.mean()\n",
    "        m3 = (c/y).mean()\n",
    "        m4 = y.var()\n",
    "        m5 = sts.pearsonr(c, c_lag_array)[0] # c has dim 6, clag has 100\n",
    "        m6 = sts.pearsonr(c, k)[0]\n",
    "    elif c.ndim ==2:\n",
    "        m1 = statistics.mean(c.mean(axis=0))\n",
    "        m2 = statistics.mean(k.mean(axis=0))\n",
    "        m3 = statistics.mean((c/y).mean(axis=0))\n",
    "        m4 = statistics.mean(y.var(axis=0))\n",
    "\n",
    "        c_mean = c.mean(axis=1)\n",
    "        k_mean = k.mean(axis=1)\n",
    "        c_lag_mean = c_lag_array.mean(axis=1)\n",
    "        m5 = sts.pearsonr(c_mean, c_lag_mean)[0]\n",
    "        m6 = sts.pearsonr(c_mean, k_mean)[0]\n",
    "#         m5 = np.dot(c.mean(axis=0), c_lag.T)\n",
    "#         m6 = np.dot(c.mean(axis=0), k.mean(axis=0).T)\n",
    "    \n",
    "    return m1, m2, m3, m4, m5, m6"
   ]
  },
  {
   "cell_type": "code",
   "execution_count": 169,
   "metadata": {},
   "outputs": [],
   "source": [
    "def err_vec(sim_vals, simple):\n",
    "    c_st, k_st, w_st, r_st, y_st = sim_vals\n",
    "    moms_data =  moments_calc(macroseries[0,:],macroseries[0,:],macroseries[0,:],macroseries[0,:],macroseries[0,:])\n",
    "    moms_model = moments_calc(c_st, k_st, w_st, r_st, y_st)\n",
    "    \n",
    "\n",
    "    if simple:\n",
    "#         #case if m1 - m4 (scalars)\n",
    "#         for i in range (0,6):\n",
    "#             if moms_model[i].ndim ==0:\n",
    "\n",
    "\n",
    "        err_vec = np.subtract(moms_model, moms_data)\n",
    "#             elif moms_model[i].ndim == 2:\n",
    "                \n",
    "    else: #check this case\n",
    "        #case if m1 - m4 (scalars)\n",
    "        err_vec = np.divide(np.subtract(moms_model,moms_data), moms_data)\n",
    "        \n",
    "        #case if m5 - m6 (non-scalars)\n",
    "    return err_vec"
   ]
  },
  {
   "cell_type": "code",
   "execution_count": 170,
   "metadata": {},
   "outputs": [],
   "source": [
    "def criterion(params, *args):\n",
    "    alpha, mu, sigma, rho = params\n",
    "    sim_vals, W_hat = args\n",
    "    sim_vals = get_sim_vals(alpha, mu, sigma, rho)\n",
    "    err = err_vec(sim_vals, simple=True)#returns an array\n",
    "    crit_val = err.T @ W_hat @ err \n",
    "    return crit_val"
   ]
  },
  {
   "cell_type": "code",
   "execution_count": 171,
   "metadata": {},
   "outputs": [
    {
     "name": "stdout",
     "output_type": "stream",
     "text": [
      "alpha_smm= 0.5062479198266697 mu_smm= 5.9487798994111305 sigma_smm= 0.010002908339340331 rho_smm= -0.7050907921830913\n"
     ]
    }
   ],
   "source": [
    "#Estimate by SMM\n",
    "#Initial parameters\n",
    "alpha_init = 0.5\n",
    "beta = 0.99\n",
    "mu_init =  10\n",
    "sigma_init = 0.1\n",
    "rho_init = 0.7\n",
    "\n",
    "params_init = np.array([alpha_init, mu_init, sigma_init, rho_init])\n",
    "W_hat = np.eye(6) #6 for number of moments\n",
    "# data = c, k, w, r, y\n",
    "sim_init = get_sim_vals(alpha_init, mu_init, sigma_init, rho_init)\n",
    "smm_args = (sim_init, W_hat)\n",
    "results = opt.minimize(criterion, params_init, args=(smm_args), method='L-BFGS-B', bounds=((0.01-(1e-10), 0.99+(1e-10)), (5-(1e-10), 14+(1e-10)), (0.01-(1e-10), 1.1+(1e-10)), (-0.99-(1e-10), 0.99+(1e-10))))\n",
    "alpha_smm, mu_smm, sigma_smm, rho_smm = results.x\n",
    "print('alpha_smm=', alpha_smm, 'mu_smm=', mu_smm, 'sigma_smm=', sigma_smm, 'rho_smm=', rho_smm)"
   ]
  },
  {
   "cell_type": "code",
   "execution_count": 173,
   "metadata": {},
   "outputs": [
    {
     "data": {
      "text/plain": [
       "      fun: 183423106142700.7\n",
       " hess_inv: <4x4 LbfgsInvHessProduct with dtype=float64>\n",
       "      jac: array([ 1.44186862e+22,  6.51571736e+16, -5.60120719e+17,  2.22458001e+15])\n",
       "  message: b'ABNORMAL_TERMINATION_IN_LNSRCH'\n",
       "     nfev: 890\n",
       "      nit: 21\n",
       "   status: 2\n",
       "  success: False\n",
       "        x: array([ 0.50624792,  5.9487799 ,  0.01000291, -0.70509079])"
      ]
     },
     "execution_count": 173,
     "metadata": {},
     "output_type": "execute_result"
    }
   ],
   "source": [
    "results"
   ]
  },
  {
   "cell_type": "code",
   "execution_count": 175,
   "metadata": {},
   "outputs": [
    {
     "name": "stdout",
     "output_type": "stream",
     "text": [
      "C data mean =  357989.46114641335\n",
      "K data mean =  426130.8476743191\n",
      "C share data mean =  0.49382641377788017\n",
      "Y data mean =  38735153259660.445\n",
      "\n",
      "C and C lagged value data correlation\n",
      " 1.0\n",
      "\n",
      "C and K  data correlation\n",
      " 0.19716164818699167\n",
      "C data mean =  9281790.485669706\n",
      "K data mean =  6643985.138299068\n",
      "C share data mean =  0.5842000000000002\n",
      "Y data mean =  28377825058899.727\n",
      "C and C lagged value data correlation 0.9999999999999999\n",
      "C and K  data correlation 0.9408030537975819\n",
      "Vector of moment differences at optimum:  [-8.92380102e+06 -6.21785429e+06 -9.03735862e-02  1.03573282e+13\n",
      "  1.11022302e-16 -7.43641406e-01]\n"
     ]
    }
   ],
   "source": [
    "#Vector of moment differences at optimum\n",
    "#compute simulated data moments with 2d data\n",
    "c_opt, k_opt, w_opt, r_opt, y_opt = get_sim_vals(alpha_smm, mu_smm, sigma_smm, rho_smm)\n",
    "sim_m1, sim_m2, sim_m3, sim_m4, sim_m5, sim_m6 = moments_calc(c_opt, k_opt, w_opt, r_opt, y_opt)\n",
    "print(\"C moment mean = \", sim_m1)\n",
    "print(\"K moment mean = \", sim_m2)\n",
    "print(\"C moment data mean = \", sim_m3)\n",
    "print(\"Y moment mean = \", sim_m4)\n",
    "#preview of correlations due to length\n",
    "print(\"\\nC and C lagged value moment correlation\\n\", sim_m5)\n",
    "print(\"\\nC and K  moment correlation\\n\", sim_m6)\n",
    "\n",
    "#compute data moments with 1 dimensinosla data\n",
    "data_m1, data_m2, data_m3, data_m4, data_m5, data_m6 = moments_calc(macroseries[:,0], macroseries[:,1], macroseries[:,2], macroseries[:,3], macroseries[:,4])\n",
    "print(\"C data mean = \", data_m1)\n",
    "print(\"K data mean = \", data_m2)\n",
    "print(\"C share data mean = \", data_m3)\n",
    "print(\"Y data mean = \", data_m4)\n",
    "print(\"C and C lagged value data correlation\", data_m5)\n",
    "print(\"C and K  data correlation\", data_m6)\n",
    "\n",
    "#Vector of moment differences\n",
    "mom_diff = np.array([sim_m1 - data_m1, sim_m2 - data_m2, sim_m3 - data_m3, sim_m4 - data_m4, sim_m5 - data_m5, sim_m6 - data_m6])\n",
    "print(\"Vector of moment differences at optimum: \", mom_diff)"
   ]
  },
  {
   "cell_type": "code",
   "execution_count": 176,
   "metadata": {},
   "outputs": [
    {
     "name": "stdout",
     "output_type": "stream",
     "text": [
      "Criterion function value:  183423106142700.7\n"
     ]
    }
   ],
   "source": [
    "print(\"Criterion function value: \", results.fun)\n",
    "#183423106142700.7 for alpha_s, mu_s, err_sigma, rho_s as initials\n",
    "#128984461473121.52 for 0.5, 8, 0.5, 0 but leads to errors below (check before changing values)"
   ]
  },
  {
   "cell_type": "code",
   "execution_count": 177,
   "metadata": {},
   "outputs": [],
   "source": [
    "def Jac_err2(alpha, mu, sigma, rho, simple=True):\n",
    "    '''\n",
    "    This function computes the Jacobian matrix of partial derivatives of the R x 1 moment\n",
    "    error vector e(x|theta) with respect to the K parameters theta_i in the K x 1 parameter vector\n",
    "    theta. The resulting matrix is R x K Jacobian.\n",
    "    '''\n",
    "    Jac_err = np.zeros((6, 4))\n",
    "    h_alpha = 1e-4 * alpha\n",
    "    h_mu = 1e-4 * mu\n",
    "    h_sig = 1e-4 * sigma\n",
    "    h_rho = 1e-4 * rho\n",
    "\n",
    "    Jac_err[:, 0] = \\\n",
    "        ((err_vec(get_sim_vals(alpha + h_alpha, mu, sigma, rho), simple) -\n",
    "          err_vec(get_sim_vals(alpha - h_alpha, mu, sigma, rho), simple)) / (2 * h_alpha)).flatten()\n",
    "    Jac_err[:, 1] = \\\n",
    "        ((err_vec(get_sim_vals(alpha, mu + h_mu, sigma, rho), simple) -\n",
    "          err_vec(get_sim_vals(alpha, mu - h_mu, sigma, rho), simple)) / (2 * h_mu)).flatten()  \n",
    "    Jac_err[:, 2] = \\\n",
    "    ((err_vec(get_sim_vals(alpha, mu, sigma + h_sig, rho), simple) -\n",
    "      err_vec(get_sim_vals(alpha, mu, sigma - h_sig, rho), simple)) / (2 * h_sig)).flatten()\n",
    "    Jac_err[:, 3] = \\\n",
    "    ((err_vec(get_sim_vals(alpha, mu, sigma, rho + h_rho), simple) -\n",
    "      err_vec(get_sim_vals(alpha, mu, sigma, rho - h_rho), simple)) / (2 * h_rho)).flatten()\n",
    "\n",
    "\n",
    "    return Jac_err"
   ]
  },
  {
   "cell_type": "code",
   "execution_count": 150,
   "metadata": {},
   "outputs": [
    {
     "name": "stdout",
     "output_type": "stream",
     "text": [
      "d_err2 [[ 5.30200462e-01  8.93802046e-03  5.24723202e-04 -1.46734569e-03]\n",
      " [ 6.75616217e-01  8.98050315e-03  5.27217314e-04 -1.47432003e-03]\n",
      " [-9.80100000e-01  0.00000000e+00  0.00000000e+00 -0.00000000e+00]\n",
      " [ 3.13969136e+01 -5.46379938e-03  5.05260020e-02 -1.87741202e-04]\n",
      " [ 1.09652107e-12  9.33151876e-14  5.54950114e-11  7.87290826e-13]\n",
      " [-3.53112210e+00 -1.38229837e-03 -3.18526088e-03  1.00258921e-02]]\n",
      "Weight matrix [[1. 0. 0. 0. 0. 0.]\n",
      " [0. 1. 0. 0. 0. 0.]\n",
      " [0. 0. 1. 0. 0. 0.]\n",
      " [0. 0. 0. 1. 0. 0.]\n",
      " [0. 0. 0. 0. 1. 0.]\n",
      " [0. 0. 0. 0. 0. 1.]]\n",
      "SigHat2 [[ 1.03012372e-03 -5.71539226e-03 -6.40148594e-01  1.58644435e-01]\n",
      " [-5.71539226e-03  6.82334874e+00  4.29407945e+00  1.96161517e+00]\n",
      " [-6.40148594e-01  4.29407945e+00  3.98280724e+02 -9.81146839e+01]\n",
      " [ 1.58644435e-01  1.96161517e+00 -9.81146839e+01  3.52217563e+01]]\n",
      "Std. err. alpha_hat= 0.032095540523940286\n",
      "Std. err. mu_hat= 2.6121540412164843\n",
      "Std. err. sigma_hat= 19.95697182678933\n",
      "Std. err. rho_hat= 5.934792014873299\n"
     ]
    }
   ],
   "source": [
    "# S = unif_vals_2.shape[1]\n",
    "S = 1000\n",
    "d_err2 = Jac_err2(alpha_smm, mu_smm, sigma_smm, rho_smm, False)\n",
    "print(\"d_err2\", d_err2)\n",
    "print(\"Weight matrix\", W_hat)\n",
    "SigHat2 = (1 / S) * lin.inv(d_err2.T @ W_hat @ d_err2)\n",
    "print(\"SigHat2\", SigHat2)\n",
    "print('Std. err. alpha_hat=', np.sqrt(SigHat2[0, 0]))\n",
    "print('Std. err. mu_hat=', np.sqrt(SigHat2[1, 1]))\n",
    "print('Std. err. sigma_hat=', np.sqrt(SigHat2[2, 2]))\n",
    "print('Std. err. rho_hat=', np.sqrt(SigHat2[3, 3]))"
   ]
  },
  {
   "cell_type": "markdown",
   "metadata": {},
   "source": [
    "# part b"
   ]
  },
  {
   "cell_type": "code",
   "execution_count": 151,
   "metadata": {},
   "outputs": [],
   "source": [
    "def get_Err_mat2(sim_vals, alpha, mu, sigma, rho, simple=True):\n",
    "    c_st, k_st, w_st, r_st, y_st = sim_vals\n",
    "    R = 6\n",
    "    S = 1000\n",
    "    Err_mat = np.zeros((R, S))\n",
    "    m1_data, m2_data, m3_data, m4_data, m5_data, m6_data = moments_calc(macroseries[:,0], macroseries[:,1], macroseries[:,2], macroseries[:,3], macroseries[:,4])\n",
    "    m1_model, m2_model, m3_model, m4_model, m5_model, m6_model = moments_calc(c_st, k_st, w_st, r_st, y_st)\n",
    "    if simple:\n",
    "        Err_mat[0, :] = m1_model - m1_data\n",
    "        Err_mat[1, :] = m2_model - m2_data\n",
    "        Err_mat[2, :] = m3_model - m3_data\n",
    "        Err_mat[3, :] = m4_model - m4_data\n",
    "        Err_mat[4, :] = m5_model - m5_data\n",
    "        Err_mat[5, :] = m6_model - m6_data\n",
    "\n",
    "\n",
    "    else:\n",
    "        Err_mat[0, :] = (m1_model - m1_data) / m1_data\n",
    "        Err_mat[1, :] = (m2_model - m2_data) / m2_data\n",
    "        Err_mat[2, :] = (m3_model - m3_data) / m3_data\n",
    "        Err_mat[3, :] = (m4_model - m4_data) / m4_data\n",
    "        Err_mat[4, :] = (m5_model - m5_data) / m5_data\n",
    "        Err_mat[5, :] = (m6_model - m6_data) / m6_data\n",
    "    \n",
    "    return Err_mat"
   ]
  },
  {
   "cell_type": "code",
   "execution_count": 152,
   "metadata": {},
   "outputs": [
    {
     "name": "stdout",
     "output_type": "stream",
     "text": [
      "[[ 7.96342247e+13  5.54868945e+13  8.06475901e+05 -9.24267360e+19\n",
      "  -9.90740936e-10  6.63610794e+06]\n",
      " [ 5.54868945e+13  3.86617120e+13  5.61929791e+05 -6.44003576e+19\n",
      "  -6.90320500e-10  4.62385390e+06]\n",
      " [ 8.06475901e+05  5.61929791e+05  8.16738509e-03 -9.36028893e+11\n",
      "  -1.00334836e-17  6.72055407e-02]\n",
      " [-9.24267360e+19 -6.44003576e+19 -9.36028893e+11  1.07274247e+26\n",
      "   1.14989442e-03 -7.70213810e+12]\n",
      " [-9.90740936e-10 -6.90320500e-10 -1.00334836e-17  1.14989442e-03\n",
      "   1.23259516e-32 -8.25607811e-17]\n",
      " [ 6.63610794e+06  4.62385390e+06  6.72055407e-02 -7.70213810e+12\n",
      "  -8.25607811e-17  5.53002540e-01]]\n",
      "[[ 5.45142482e+00  3.29270823e+00  1.78754226e+08 -2.05005061e-06\n",
      "   6.89821200e+23 -4.02387221e+07]\n",
      " [ 3.40046051e+00 -6.67743478e-02 -3.47248999e+07  3.57915323e-07\n",
      "   4.23917986e+22 -2.47137188e+07]\n",
      " [ 1.51520907e+08 -4.47756127e+07  2.69458614e+16 -1.15549935e+02\n",
      "   2.55396771e+31 -2.51497986e+15]\n",
      " [-1.84417920e-06  4.03428183e-07 -1.14521226e+02  3.10961096e-14\n",
      "  -2.12525445e+17  1.37880013e+00]\n",
      " [ 6.62166503e+23  2.98061051e+22  2.69919573e+31 -2.24853955e+17\n",
      "   6.98362971e+46 -4.18109024e+30]\n",
      " [-3.90914295e+07 -2.34443196e+07 -2.69467457e+15  2.51426177e+00\n",
      "  -4.26998097e+30  3.90138069e+14]]\n"
     ]
    }
   ],
   "source": [
    "sim_vals_2 = get_sim_vals(alpha_smm, mu_smm, sigma_smm, rho_smm)\n",
    "Err_mat2 = get_Err_mat2(sim_vals_2, alpha_smm, mu_smm, sigma_smm, rho_smm, True)\n",
    "VCV2 = (1 / 1000) * (Err_mat2 @ Err_mat2.T)\n",
    "print(VCV2)\n",
    "W_hat2_1 = lin.inv(VCV2)\n",
    "print(W_hat2_1)"
   ]
  },
  {
   "cell_type": "code",
   "execution_count": 153,
   "metadata": {},
   "outputs": [],
   "source": [
    "#Estimate by SMM\n",
    "#Initial parameters\n",
    "\n",
    "\n",
    "params_init_2 = np.array([alpha_smm, mu_smm, sigma_smm, rho_smm])\n",
    "# data = c, k, w, r, y\n",
    "sim_init_2 = get_sim_vals(alpha_smm, mu_smm, sigma_smm, rho_smm)\n",
    "# sim = get_sim_vals(#PARAMS)\n",
    "smm_args_2 = (sim_init_2, W_hat2_1)\n",
    "results_2 = opt.minimize(criterion, params_init_2, args=(smm_args_2), method='L-BFGS-B', bounds=((0.01-(1e-10), 0.99+(1e-10)), (5-(1e-10), 14+(1e-10)), (0.01-(1e-10), 1.1+(1e-10)), (-0.99-(1e-10), 0.99+(1e-10))))\n",
    "alpha_smm_2, mu_smm_2, sigma_smm_2, rho_smm_2 = results_2.x\n"
   ]
  },
  {
   "cell_type": "code",
   "execution_count": 154,
   "metadata": {},
   "outputs": [
    {
     "name": "stdout",
     "output_type": "stream",
     "text": [
      "alpha_smm= 0.5062479198266697 mu_smm= 5.9487798994111305 sigma_smm= 0.010002908339340331 rho_smm= -0.7050907921830913\n"
     ]
    }
   ],
   "source": [
    "print('alpha_smm=', alpha_smm_2, 'mu_smm=', mu_smm_2, 'sigma_smm=', sigma_smm_2, 'rho_smm=', rho_smm_2)"
   ]
  },
  {
   "cell_type": "code",
   "execution_count": 178,
   "metadata": {},
   "outputs": [
    {
     "name": "stdout",
     "output_type": "stream",
     "text": [
      "value of criterion function 6390971898184170.0\n"
     ]
    }
   ],
   "source": [
    "print(\"value of criterion function\", results_2.fun)"
   ]
  },
  {
   "cell_type": "code",
   "execution_count": 180,
   "metadata": {},
   "outputs": [
    {
     "name": "stdout",
     "output_type": "stream",
     "text": [
      "C moments mean =  357989.46114641335\n",
      "K moments mean =  426130.8476743191\n",
      "C share moments mean =  0.49382641377788017\n",
      "Y moments mean =  38735153259660.445\n",
      "\n",
      "C and C lagged value moments correlation\n",
      " 1.0\n",
      "\n",
      "C and K  moments correlation\n",
      " 0.19716164818699167\n",
      "C data mean =  9281790.485669706\n",
      "K data mean =  6643985.138299068\n",
      "C share data mean =  0.5842000000000002\n",
      "Y data mean =  28377825058899.727\n",
      "C and C lagged value data correlation 0.9999999999999999\n",
      "C and K  data correlation 0.9408030537975819\n",
      "Vector of moment differences at optimum:  [-8.92380102e+06 -6.21785429e+06 -9.03735862e-02  1.03573282e+13\n",
      "  1.11022302e-16 -7.43641406e-01]\n"
     ]
    }
   ],
   "source": [
    "#Vector of moment differences at optimum\n",
    "#compute simulated data moments with 2d data\n",
    "c_opt, k_opt, w_opt, r_opt, y_opt = get_sim_vals(alpha_smm_2, mu_smm_2, sigma_smm_2, rho_smm_2)\n",
    "sim_m1, sim_m2, sim_m3, sim_m4, sim_m5, sim_m6 = moments_calc(c_opt, k_opt, w_opt, r_opt, y_opt)\n",
    "print(\"C moments mean = \", sim_m1)\n",
    "print(\"K moments mean = \", sim_m2)\n",
    "print(\"C share moments mean = \", sim_m3)\n",
    "print(\"Y moments mean = \", sim_m4)\n",
    "#preview of correlations due to length\n",
    "print(\"\\nC and C lagged value moments correlation\\n\", sim_m5)\n",
    "print(\"\\nC and K  moments correlation\\n\", sim_m6)\n",
    "\n",
    "#compute data moments with 1 dimensinosla data\n",
    "data_m1, data_m2, data_m3, data_m4, data_m5, data_m6 = moments_calc(macroseries[:,0], macroseries[:,1], macroseries[:,2], macroseries[:,3], macroseries[:,4])\n",
    "print(\"C data mean = \", data_m1)\n",
    "print(\"K data mean = \", data_m2)\n",
    "print(\"C share data mean = \", data_m3)\n",
    "print(\"Y data mean = \", data_m4)\n",
    "print(\"C and C lagged value data correlation\", data_m5)\n",
    "print(\"C and K  data correlation\", data_m6)\n",
    "\n",
    "#Vector of moment differences\n",
    "mom_diff = np.array([sim_m1 - data_m1, sim_m2 - data_m2, sim_m3 - data_m3, sim_m4 - data_m4, sim_m5 - data_m5, sim_m6 - data_m6])\n",
    "print(\"Vector of moment differences at optimum: \", mom_diff)"
   ]
  },
  {
   "cell_type": "code",
   "execution_count": null,
   "metadata": {},
   "outputs": [],
   "source": []
  },
  {
   "cell_type": "code",
   "execution_count": 156,
   "metadata": {},
   "outputs": [
    {
     "name": "stdout",
     "output_type": "stream",
     "text": [
      "d_err2 [[ 5.30200462e-01  8.93802046e-03  5.24723202e-04 -1.46734569e-03]\n",
      " [ 6.75616217e-01  8.98050315e-03  5.27217314e-04 -1.47432003e-03]\n",
      " [-9.80100000e-01  0.00000000e+00  0.00000000e+00 -0.00000000e+00]\n",
      " [ 3.13969136e+01 -5.46379938e-03  5.05260020e-02 -1.87741202e-04]\n",
      " [ 1.09652107e-12  9.33151876e-14  5.54950114e-11  7.87290826e-13]\n",
      " [-3.53112210e+00 -1.38229837e-03 -3.18526088e-03  1.00258921e-02]]\n",
      "Weight matrix [[ 5.45142482e+00  3.29270823e+00  1.78754226e+08 -2.05005061e-06\n",
      "   6.89821200e+23 -4.02387221e+07]\n",
      " [ 3.40046051e+00 -6.67743478e-02 -3.47248999e+07  3.57915323e-07\n",
      "   4.23917986e+22 -2.47137188e+07]\n",
      " [ 1.51520907e+08 -4.47756127e+07  2.69458614e+16 -1.15549935e+02\n",
      "   2.55396771e+31 -2.51497986e+15]\n",
      " [-1.84417920e-06  4.03428183e-07 -1.14521226e+02  3.10961096e-14\n",
      "  -2.12525445e+17  1.37880013e+00]\n",
      " [ 6.62166503e+23  2.98061051e+22  2.69919573e+31 -2.24853955e+17\n",
      "   6.98362971e+46 -4.18109024e+30]\n",
      " [-3.90914295e+07 -2.34443196e+07 -2.69467457e+15  2.51426177e+00\n",
      "  -4.26998097e+30  3.90138069e+14]]\n",
      "SigHat2 [[ 1.10523056e-19  1.65435873e-16 -3.23501657e-20 -1.74822392e-17]\n",
      " [ 1.18628263e-16  3.49034651e-09 -1.26356441e-11  4.76968271e-10]\n",
      " [ 2.03401943e-19 -1.26337850e-11  4.57544325e-14 -1.72772108e-12]\n",
      " [-2.85521060e-17  4.76837158e-10 -1.72750040e-12  6.52510291e-11]]\n",
      "Std. err. alpha_hat= 3.3245008115267315e-10\n",
      "Std. err. mu_hat= 5.9079154633799324e-05\n",
      "Std. err. sigma_hat= 2.139028575155429e-07\n",
      "Std. err. rho_hat= 8.077810911599914e-06\n"
     ]
    }
   ],
   "source": [
    "# S = unif_vals_2.shape[1]\n",
    "S = 1000\n",
    "d_err2 = Jac_err2(alpha_smm_2, mu_smm_2, sigma_smm_2, rho_smm_2, False)\n",
    "print(\"d_err2\", d_err2)\n",
    "print(\"Weight matrix\", W_hat2_1)\n",
    "SigHat2 = (1 / S) * lin.inv(d_err2.T @ W_hat2_1 @ d_err2)\n",
    "print(\"SigHat2\", SigHat2)\n",
    "print('Std. err. alpha_hat=', np.sqrt(SigHat2[0, 0]))\n",
    "print('Std. err. mu_hat=', np.sqrt(SigHat2[1, 1]))\n",
    "print('Std. err. sigma_hat=', np.sqrt(SigHat2[2, 2]))\n",
    "print('Std. err. rho_hat=', np.sqrt(SigHat2[3, 3]))"
   ]
  },
  {
   "cell_type": "code",
   "execution_count": null,
   "metadata": {},
   "outputs": [],
   "source": []
  }
 ],
 "metadata": {
  "kernelspec": {
   "display_name": "Python 3",
   "language": "python",
   "name": "python3"
  },
  "language_info": {
   "codemirror_mode": {
    "name": "ipython",
    "version": 3
   },
   "file_extension": ".py",
   "mimetype": "text/x-python",
   "name": "python",
   "nbconvert_exporter": "python",
   "pygments_lexer": "ipython3",
   "version": "3.7.1"
  }
 },
 "nbformat": 4,
 "nbformat_minor": 2
}
