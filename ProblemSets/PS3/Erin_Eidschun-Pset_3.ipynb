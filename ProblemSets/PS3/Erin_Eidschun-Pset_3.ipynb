{
 "cells": [
  {
   "cell_type": "code",
   "execution_count": 31,
   "metadata": {},
   "outputs": [],
   "source": [
    "# Import the necessary libraries\n",
    "import numpy.linalg as lin\n",
    "import scipy.integrate as intgr\n",
    "import numpy as np\n",
    "import scipy.stats as sts\n",
    "import scipy.optimize as opt\n",
    "import requests\n",
    "import statistics\n",
    "import matplotlib.pyplot as plt\n",
    "import pandas as pd\n",
    "import scipy.special as spc\n",
    "import os\n",
    "# os.getcwd()"
   ]
  },
  {
   "cell_type": "code",
   "execution_count": 32,
   "metadata": {},
   "outputs": [],
   "source": [
    "hh_inc = np.loadtxt('data/hh_inc_synth.txt')\n"
   ]
  },
  {
   "cell_type": "markdown",
   "metadata": {},
   "source": [
    "# 1a)"
   ]
  },
  {
   "cell_type": "code",
   "execution_count": 33,
   "metadata": {},
   "outputs": [],
   "source": [
    "#Create the first 40 bins. Only go to $200k because the ranges on these bins are equivalent\n",
    "hist_first_40, bin_edges_first_40 = np.histogram(hh_inc, bins=40, range=(0, 200000)) #jose different\n",
    "# print(max(hh_inc))\n",
    "# num_bins = 41\n",
    "# bin_width = 350000 / num_bins #based on fact that max value is approx. $350k\n",
    "# weights_800 = ((1 / (hh_inc.shape[0] * bin_width))* np.ones_like(hh_inc)) #hsould they all have same weights?\n",
    "\n",
    "#Create last two bins\n",
    "hist_last_2, bin_edges_last_2 = np.histogram(hh_inc, bins=(200000, 250000, 350000), range=(200000, 350000))\n",
    "\n",
    "\n",
    "#Join bins\n",
    "hist_1b = np.append(hist_first_40, hist_last_2)\n",
    "bin_edges_1b = np.append(bin_edges_first_40, bin_edges_last_2)"
   ]
  },
  {
   "cell_type": "markdown",
   "metadata": {},
   "source": [
    "# 1b)"
   ]
  },
  {
   "cell_type": "code",
   "execution_count": 34,
   "metadata": {},
   "outputs": [],
   "source": [
    "hh_inc_1b = hh_inc/1000"
   ]
  },
  {
   "cell_type": "code",
   "execution_count": 35,
   "metadata": {},
   "outputs": [],
   "source": [
    "# hist_first_40, bin_edges_first_40 = np.histogram(hh_inc, bins=40, range=(0, 194.999)) #jose different\n",
    "# hist_last_2, bin_edges_last_2 = np.histogram(hh_inc, bins=(200, 250, 350), range=(200, 350))\n",
    "\n",
    "#Join bins\n",
    "#hist_dt = np.append(hist_first_40, hist_last_2) #42 values\n",
    "bin_edges_1b = np.append(bin_edges_first_40, bin_edges_last_2) #44 values\n",
    "bin_edges_1b = bin_edges_1b/1000"
   ]
  },
  {
   "cell_type": "code",
   "execution_count": 36,
   "metadata": {},
   "outputs": [
    {
     "data": {
      "text/plain": [
       "dict_keys([1.651732254201594e-06, 8.258661271007969e-08, 1.6517322542015938e-07])"
      ]
     },
     "execution_count": 36,
     "metadata": {},
     "output_type": "execute_result"
    }
   ],
   "source": [
    "from collections import Counter\n",
    "\n",
    "weights = [0]*len(hh_inc_1b)\n",
    "for w in range(0,len(weights)):\n",
    "    #now write so it gets corresponding widths\n",
    "        if hh_inc_1b[w] <= 199.999:\n",
    "            weights[w] = 1/(len(hh_inc_1b) * 5)\n",
    "        if hh_inc_1b[w] <= 249.999 and hh_inc_1b[w] >= 200 :\n",
    "            weights[w] = 1/(len(hh_inc_1b) * 50)\n",
    "        if hh_inc_1b[w] >= 250:\n",
    "            weights[w] = 1/(len(hh_inc_1b) * 100)\n",
    "            \n",
    "#check that weights calculated correctly by identifying 3 unique weights\n",
    "Counter(weights).keys() # equals to list(set(words))\n"
   ]
  },
  {
   "cell_type": "code",
   "execution_count": 37,
   "metadata": {},
   "outputs": [
    {
     "data": {
      "text/plain": [
       "Text(0, 0.5, 'Density (area sums to 1)')"
      ]
     },
     "execution_count": 37,
     "metadata": {},
     "output_type": "execute_result"
    },
    {
     "data": {
      "image/png": "[encoded data removed]",
      "text/plain": [
       "<Figure size 432x288 with 1 Axes>"
      ]
     },
     "metadata": {
      "needs_background": "light"
     },
     "output_type": "display_data"
    }
   ],
   "source": [
    "hist_vals= plt.hist(hh_inc_1b, bin_edges_1b, weights = weights, edgecolor = 'black')\n",
    "plt.xlabel('Household income ($000)')\n",
    "plt.ylabel('Density (area sums to 1)')\n"
   ]
  },
  {
   "cell_type": "markdown",
   "metadata": {},
   "source": [
    "# 1c)"
   ]
  },
  {
   "cell_type": "code",
   "execution_count": 38,
   "metadata": {},
   "outputs": [],
   "source": [
    "def ln_norm_pdf(xvals, mu, sigma):\n",
    "    pdf_vals    = ((1/(xvals * sigma * np.sqrt(2 * np.pi))) *\n",
    "                    np.exp( - (np.log(xvals) - mu)**2 / (2 * sigma**2)))\n",
    "    return pdf_vals"
   ]
  },
  {
   "cell_type": "code",
   "execution_count": 39,
   "metadata": {},
   "outputs": [],
   "source": [
    "def data_moments2(xvals, n, bin_edges):\n",
    "    counts, bins = np.histogram(xvals, bins=bin_edges)\n",
    "    data_moments = counts / n\n",
    "    return data_moments"
   ]
  },
  {
   "cell_type": "code",
   "execution_count": 40,
   "metadata": {},
   "outputs": [],
   "source": [
    "def model_moments2(mu, sigma, n, bin_edges):\n",
    "    x = np.linspace(min(bin_edges), max(bin_edges), max(bin_edges)+1)\n",
    "    pdf_vals = ln_norm_pdf(x[1:], mu, sigma)\n",
    "    #create model moments by summing up number of instances in which each\n",
    "    #pdf_val falls into each bin\n",
    "    model_moments = []\n",
    "    for i in range(len(bin_edges)-1):\n",
    "        val_in_bin = pdf_vals[bin_edges[i] : bin_edges[i+1]]\n",
    "        model_moments.append(np.sum(val_in_bin))\n",
    "    model_moments = np.array(model_moments)\n",
    "    return model_moments"
   ]
  },
  {
   "cell_type": "code",
   "execution_count": 41,
   "metadata": {},
   "outputs": [],
   "source": [
    "def err_vec2(xvals, n, bin_edges, mu, sigma, simple):\n",
    "    moments_data = data_moments2(xvals, n, bin_edges)\n",
    "    moments_model = model_moments2(mu, sigma, n, bin_edges)\n",
    "\n",
    "    if simple:\n",
    "        err_vec = moments_model - moments_data\n",
    "    else:\n",
    "        err_vec = (moments_model - moments_data) / moments_data\n",
    "    \n",
    "    return err_vec"
   ]
  },
  {
   "cell_type": "code",
   "execution_count": 42,
   "metadata": {},
   "outputs": [],
   "source": [
    "def criterion2(params, *args):\n",
    "    mu, sigma = params\n",
    "    xvals, W, n, bin_edges = args\n",
    "    err = err_vec2(xvals, n, bin_edges, mu, sigma, simple=False)\n",
    "    crit_val = err.T @ W @ err\n",
    "    \n",
    "    return crit_val"
   ]
  },
  {
   "cell_type": "code",
   "execution_count": 45,
   "metadata": {
    "scrolled": true
   },
   "outputs": [
    {
     "name": "stdout",
     "output_type": "stream",
     "text": [
      "Initial guesses:  mu_init= 3.780552299347908  sigma_init= 1.0610439509283802\n",
      "GMM output: mu_GMM1= 3.900899700438797  sigma_GMM1= 0.9674675494197709\n",
      "Criterion function value 0.03223736484292869\n",
      "      fun: 0.03223736484292869\n",
      " hess_inv: array([[ 0.53555493, -0.06215296],\n",
      "       [-0.06215296,  0.54778911]])\n",
      "      jac: array([9.77888703e-08, 1.60653144e-07])\n",
      "  message: 'Optimization terminated successfully.'\n",
      "     nfev: 28\n",
      "      nit: 5\n",
      "     njev: 7\n",
      "   status: 0\n",
      "  success: True\n",
      "        x: array([3.9008997 , 0.96746755])\n"
     ]
    }
   ],
   "source": [
    "#trying to do it with values divided by 1000\n",
    "# Initial guess\n",
    "mu_init = np.mean(np.log(hh_inc_1b))\n",
    "sigma_init = np.std(np.log(hh_inc_1b))\n",
    "params_init = (mu_init, sigma_init)\n",
    "\n",
    "#Get bins\n",
    "bin_edges_adj = [i for i in range(0, 200+1, 5)] + [250, 350]\n",
    "\n",
    "#Replace diagonals of identity matrix with data moments, to define W_hat\n",
    "W_hat = np.eye(42) \n",
    "row,col = np.diag_indices(W_hat.shape[0])\n",
    "W_hat[row,col] =  data_moments2(hh_inc_1b, len(hh_inc), bin_edges_adj)\n",
    "\n",
    "gmm_args = (hh_inc_1b, W_hat, len(hh_inc), bin_edges_adj)\n",
    "\n",
    "# Run optimization\n",
    "results = opt.minimize(criterion2, params_init, args=(gmm_args))\n",
    "mu_GMM1, sigma_GMM1 = results.x\n",
    "\n",
    "\n",
    "# Get results\n",
    "print('Initial guesses: ','mu_init=', mu_init, ' sigma_init=', sigma_init)\n",
    "print('GMM output:', 'mu_GMM1=', mu_GMM1, ' sigma_GMM1=', sigma_GMM1)\n",
    "print('Criterion function value', criterion2(results.x, *gmm_args))\n",
    "print(results)"
   ]
  },
  {
   "cell_type": "code",
   "execution_count": 47,
   "metadata": {},
   "outputs": [
    {
     "name": "stdout",
     "output_type": "stream",
     "text": [
      "Initial guesses:  mu_init= 4  sigma_init= 2\n",
      "GMM output: mu_GMM2= 3.9008996592801104  sigma_GMM2= 0.9674674773890501\n",
      "Criterion function value 0.032237364842921536\n",
      "Note that this criterion function is slightly larger than above. This makes sense, as we are starting with a worse initial guess.\n",
      "      fun: 0.032237364842921536\n",
      " hess_inv: array([[ 0.5380762 , -0.05974712],\n",
      "       [-0.05974712,  0.55800796]])\n",
      "      jac: array([6.51925802e-09, 2.09547579e-08])\n",
      "  message: 'Optimization terminated successfully.'\n",
      "     nfev: 44\n",
      "      nit: 10\n",
      "     njev: 11\n",
      "   status: 0\n",
      "  success: True\n",
      "        x: array([3.90089966, 0.96746748])\n"
     ]
    }
   ],
   "source": [
    "#redo this for another guess:\n",
    "# Initial guess\n",
    "mu_init = 4\n",
    "sigma_init = 2\n",
    "params_init = (mu_init, sigma_init)\n",
    "\n",
    "# Run optimization\n",
    "results = opt.minimize(criterion2, params_init, args=(gmm_args))\n",
    "mu_GMM2, sigma_GMM2 = results.x\n",
    "\n",
    "\n",
    "# Get results\n",
    "print('Initial guesses: ','mu_init=', mu_init, ' sigma_init=', sigma_init)\n",
    "print('GMM output:', 'mu_GMM2=', mu_GMM2, ' sigma_GMM2=', sigma_GMM2)\n",
    "print('Criterion function value', criterion2(results.x, *gmm_args))\n",
    "print('Note that this criterion function is slightly larger than above. This makes sense, as we are starting with a worse initial guess.')\n",
    "print(results)\n"
   ]
  },
  {
   "cell_type": "code",
   "execution_count": 15,
   "metadata": {},
   "outputs": [],
   "source": [
    "#this is doing the optimization with values not divided by 1000\n",
    "# # Initial guess\n",
    "# mu_init = np.mean(np.log(hh_inc))\n",
    "# sigma_init = np.std(np.log(hh_inc))\n",
    "# params_init = (mu_init, sigma_init)\n",
    "\n",
    "# #Get bins\n",
    "# bin_edges = [i for i in range(0, 200000+1, 5000)] + [250000, 350000]\n",
    "\n",
    "# #Replace diagonals of identity matrix with data moments, to define W_hat\n",
    "# W_hat = np.eye(42) \n",
    "# row,col = np.diag_indices(W_hat.shape[0])\n",
    "# W_hat[row,col] =  data_moments2(hh_inc, len(hh_inc), bin_edges)\n",
    "\n",
    "# gmm_args = (hh_inc, W_hat, len(hh_inc), bin_edges)\n",
    "\n",
    "# # Run optimization\n",
    "# results = opt.minimize(criterion2, params_init, args=(gmm_args))\n",
    "# mu_GMM1, sigma_GMM1 = results.x\n",
    "\n",
    "\n",
    "# # Get results\n",
    "# print('Initial guesses: ','mu_init=', mu_init, ' sigma_init=', sigma_init)\n",
    "# print('GMM output:', 'mu_GMM1=', mu_GMM1, ' sigma_GMM1=', sigma_GMM1)\n",
    "# print('Criterion function value', results.fun)\n",
    "# print(results)"
   ]
  },
  {
   "cell_type": "code",
   "execution_count": 48,
   "metadata": {},
   "outputs": [
    {
     "data": {
      "text/plain": [
       "<matplotlib.legend.Legend at 0x1197b09b0>"
      ]
     },
     "execution_count": 48,
     "metadata": {},
     "output_type": "execute_result"
    },
    {
     "data": {
      "image/png": "[encoded data removed]",
      "text/plain": [
       "<Figure size 432x288 with 1 Axes>"
      ]
     },
     "metadata": {
      "needs_background": "light"
     },
     "output_type": "display_data"
    }
   ],
   "source": [
    "#plot histogram from 1b with implied histogram from first initial guess\n",
    "bin_edges_adj = [i for i in range(0, 200+1, 5)] + [250, 350]\n",
    "hist_vals= plt.hist(hh_inc_1b, bin_edges_adj, weights = weights, edgecolor = 'black')\n",
    "plt.xlabel('Household income ($000)')\n",
    "plt.ylabel('Density (area sums to 1)')\n",
    "\n",
    "mid_pts = []\n",
    "i = 0\n",
    "for i in range(42):\n",
    "    j = (bin_edges_adj[i+1]/2 - bin_edges_adj[i]/2 + bin_edges_adj[i])\n",
    "    mid_pts.append(j)\n",
    "    i+=1\n",
    "    \n",
    "mid_pts = np.asarray(mid_pts)\n",
    "hist_values = ln_norm_pdf(mid_pts, mu_GMM1, sigma_GMM1)\n",
    "plt.plot(mid_pts, hist_values,\n",
    "         color = 'r', label = '$\\mu = 3.9$, $\\sigma = 0.97$')\n",
    "plt.legend(loc='upper left')"
   ]
  },
  {
   "cell_type": "markdown",
   "metadata": {},
   "source": [
    "# 1d) "
   ]
  },
  {
   "cell_type": "code",
   "execution_count": 49,
   "metadata": {},
   "outputs": [],
   "source": [
    "# Define function that generates values of GA pdf\n",
    "import scipy.special as spc\n",
    "def gamma_pdf(xvals, alpha, beta):\n",
    "    gamma_val = spc.gamma(alpha)\n",
    "    pdf_vals = (1/((beta**alpha) *gamma_val))*(xvals**(alpha-1))*(np.exp(-(xvals/beta)))\n",
    "    pdf_vals[pdf_vals < 1e-10] = 1e-10 #added this\n",
    "    return pdf_vals"
   ]
  },
  {
   "cell_type": "code",
   "execution_count": 50,
   "metadata": {},
   "outputs": [],
   "source": [
    "def data_moments_1d(xvals, n, bin_edges):\n",
    "    counts, bins = np.histogram(xvals, bins=bin_edges)\n",
    "    data_moments = counts / n\n",
    "    return data_moments\n",
    "\n",
    "def model_moments_1d(alpha, beta, n, bin_edges):\n",
    "    x = np.linspace(min(bin_edges), max(bin_edges), max(bin_edges)+1)\n",
    "    pdf_vals = gamma_pdf(x[1:], alpha, beta)\n",
    "    #create model moments by summing up number of instances in which each\n",
    "    #pdf_val falls into each bin\n",
    "    model_moments = []\n",
    "    for i in range(len(bin_edges)-1):\n",
    "        val_in_bin = pdf_vals[bin_edges[i] : bin_edges[i+1]]\n",
    "        model_moments.append(np.sum(val_in_bin))\n",
    "    model_moments = np.array(model_moments)\n",
    "    return model_moments"
   ]
  },
  {
   "cell_type": "code",
   "execution_count": 51,
   "metadata": {},
   "outputs": [],
   "source": [
    "#Define the error vector \n",
    "def err_vec_1d(xvals, n, bin_edges, alpha, beta, simple):\n",
    "    data_moments = data_moments_1d(xvals, n, bin_edges)\n",
    "    model_moments = model_moments_1d(alpha, beta, n, bin_edges)\n",
    "    if simple: #simple difference\n",
    "        err_vec = model_moments - data_moments\n",
    "    else: #pct difference\n",
    "        err_vec = (model_moments - data_moments) / data_moments\n",
    "    \n",
    "    return err_vec"
   ]
  },
  {
   "cell_type": "code",
   "execution_count": 52,
   "metadata": {},
   "outputs": [],
   "source": [
    "#Define criterion function\n",
    "def criterion_1d(params, *args):\n",
    "    alpha, beta = params\n",
    "    xvals, W, n, bin_edges = args\n",
    "    err = err_vec_1d(xvals, n, bin_edges, alpha, beta, simple=False)\n",
    "    crit_val = err.T @ W @ err\n",
    "    \n",
    "    return crit_val"
   ]
  },
  {
   "cell_type": "code",
   "execution_count": 53,
   "metadata": {},
   "outputs": [
    {
     "name": "stderr",
     "output_type": "stream",
     "text": [
      "/Users/erineidschun/anaconda3/lib/python3.7/site-packages/ipykernel_launcher.py:5: RuntimeWarning: invalid value encountered in double_scalars\n",
      "  \"\"\"\n",
      "/Users/erineidschun/anaconda3/lib/python3.7/site-packages/ipykernel_launcher.py:6: RuntimeWarning: invalid value encountered in less\n",
      "  \n",
      "/Users/erineidschun/anaconda3/lib/python3.7/site-packages/ipykernel_launcher.py:5: RuntimeWarning: overflow encountered in power\n",
      "  \"\"\"\n"
     ]
    },
    {
     "name": "stdout",
     "output_type": "stream",
     "text": [
      "Initial guesses:  alpha_init= 3 beta_init= 20000\n",
      "GMM output: alpha_GMM= 0.3926102168315729  beta_GMM= 1587.7798390853495\n",
      "Criterion function value 0.5169734441349287\n",
      "      fun: 0.5169734441349287\n",
      " hess_inv: <2x2 LbfgsInvHessProduct with dtype=float64>\n",
      "      jac: array([-1.82409643e-05, -1.11022302e-08])\n",
      "  message: b'CONVERGENCE: REL_REDUCTION_OF_F_<=_FACTR*EPSMCH'\n",
      "     nfev: 327\n",
      "      nit: 64\n",
      "   status: 0\n",
      "  success: True\n",
      "        x: array([3.92610217e-01, 1.58777984e+03])\n"
     ]
    }
   ],
   "source": [
    "# Initial guess\n",
    "alpha_init = 3\n",
    "beta_init = 20000 #change this\n",
    "params_init = (alpha_init, beta_init)\n",
    "\n",
    "#Replace diagonals of identity matrix with data moments, to define W_hat\n",
    "W_hat = np.eye(42) \n",
    "row,col = np.diag_indices(W_hat.shape[0])\n",
    "W_hat[row,col] =  data_moments_1d(hh_inc_1b, len(hh_inc), bin_edges_adj)\n",
    "\n",
    "gmm_args = (hh_inc_1b, W_hat, len(hh_inc), bin_edges_adj)\n",
    "\n",
    "# Run optimization\n",
    "results = opt.minimize(criterion_1d, params_init, args=(gmm_args), tol = 1e-12, method='L-BFGS-B')\n",
    "alpha_GMM, beta_GMM = results.x\n",
    "\n",
    "# Get results\n",
    "print('Initial guesses: ','alpha_init=', alpha_init, 'beta_init=', beta_init)\n",
    "print('GMM output:', 'alpha_GMM=', alpha_GMM, ' beta_GMM=', beta_GMM)\n",
    "print('Criterion function value', criterion_1d(results.x, *gmm_args))\n",
    "print(results)"
   ]
  },
  {
   "cell_type": "code",
   "execution_count": 54,
   "metadata": {},
   "outputs": [
    {
     "data": {
      "text/plain": [
       "<matplotlib.legend.Legend at 0x11842fa90>"
      ]
     },
     "execution_count": 54,
     "metadata": {},
     "output_type": "execute_result"
    },
    {
     "data": {
      "image/png": "[encoded data removed]",
      "text/plain": [
       "<Figure size 432x288 with 1 Axes>"
      ]
     },
     "metadata": {
      "needs_background": "light"
     },
     "output_type": "display_data"
    }
   ],
   "source": [
    "#plot histogram from 1b with implied histogram from first initial guess\n",
    "bin_edges_adj = [i for i in range(0, 200+1, 5)] + [250, 350]\n",
    "hist_vals= plt.hist(hh_inc_1b, bin_edges_adj, weights = weights, edgecolor = 'black')\n",
    "plt.xlabel('Household income ($000)')\n",
    "plt.ylabel('Density (area sums to 1)')\n",
    "\n",
    "hist_values_GA = gamma_pdf(mid_pts, alpha_GMM, beta_GMM)\n",
    "plt.plot(mid_pts, hist_values_GA,\n",
    "         color = 'r', label = '$alpha = 0.393$, $beta = 1588$')\n",
    "plt.legend(loc='upper left')"
   ]
  },
  {
   "cell_type": "markdown",
   "metadata": {},
   "source": [
    "# 1e)"
   ]
  },
  {
   "cell_type": "code",
   "execution_count": 55,
   "metadata": {},
   "outputs": [
    {
     "data": {
      "text/plain": [
       "<matplotlib.legend.Legend at 0x1192b6c18>"
      ]
     },
     "execution_count": 55,
     "metadata": {},
     "output_type": "execute_result"
    },
    {
     "data": {
      "image/png": "[encoded data removed]",
      "text/plain": [
       "<Figure size 432x288 with 1 Axes>"
      ]
     },
     "metadata": {
      "needs_background": "light"
     },
     "output_type": "display_data"
    }
   ],
   "source": [
    "#plot histogram from 1b with implied histogram from first initial guess\n",
    "bin_edges_adj = [i for i in range(0, 200+1, 5)] + [250, 350]\n",
    "hist_vals= plt.hist(hh_inc_1b, bin_edges_adj, weights = weights, edgecolor = 'black')\n",
    "plt.xlabel('Household income ($000)')\n",
    "plt.ylabel('Density (area sums to 1)')\n",
    "\n",
    "hist_values_GA = gamma_pdf(mid_pts, alpha_GMM, beta_GMM)\n",
    "plt.plot(mid_pts, hist_values_GA,\n",
    "         color = 'y', label = '$alpha_{GA} = 0.393$, $beta_{GA} = 1588$')\n",
    "plt.legend(loc='upper left')\n",
    "\n",
    "plt.plot(mid_pts, hist_values,\n",
    "         color = 'r', label = '$\\mu_{LN} = 3.9$, $\\sigma_{LN} = 0.97$')\n",
    "plt.legend(loc='upper left')"
   ]
  },
  {
   "cell_type": "markdown",
   "metadata": {},
   "source": [
    "We can tell which distribution fits best by looking visually - it is quite obvious that the log normal distribution better fits the data, as it puts more weight on the values between 0 and 50, and less on the right tail of the data. Additionally, the criterion function for the lognormal distribution is much lower: 0.03551, verses the GA distribution, which has a criterion value of 0.516."
   ]
  },
  {
   "cell_type": "markdown",
   "metadata": {},
   "source": [
    "# 1f)"
   ]
  },
  {
   "cell_type": "code",
   "execution_count": 56,
   "metadata": {},
   "outputs": [],
   "source": [
    "def get_err_mat(xvals, n, bin_edges, alpha, beta, simple=False):\n",
    "    R = 42 #number of bins\n",
    "    Err_mat = np.zeros((R, n))\n",
    "    model_points = model_moments_1d(alpha, beta, n, bin_edges) #42 values\n",
    "    data_points = data_moments_1d(xvals, n, bin_edges) #42 values\n",
    "    if simple:\n",
    "        for i in range(0, len(model_points)): #for i in range (0, 42)\n",
    "            Err_mat[i, :] = data_points[i] - model_points[i]\n",
    "    else:\n",
    "        for i in range(0, len(model_points)): #for i in range (0, 42)\n",
    "            Err_mat[i, :] = (data_points[i] - model_points[i])/model_points[i]\n",
    "            \n",
    "    return Err_mat"
   ]
  },
  {
   "cell_type": "code",
   "execution_count": 72,
   "metadata": {},
   "outputs": [
    {
     "name": "stdout",
     "output_type": "stream",
     "text": [
      "alpha_GMM= 5.1481807240182995  beta_GMM= 19980.662185585596\n"
     ]
    },
    {
     "data": {
      "text/plain": [
       "     fun: -1.6618339112473744e+16\n",
       "     jac: array([0., 0.])\n",
       " message: 'Local minimum reached (|pg| ~= 0)'\n",
       "    nfev: 9\n",
       "     nit: 2\n",
       "  status: 0\n",
       " success: True\n",
       "       x: array([5.14818072e+00, 1.99806622e+04])"
      ]
     },
     "execution_count": 72,
     "metadata": {},
     "output_type": "execute_result"
    }
   ],
   "source": [
    "Err_mat = get_err_mat(hh_inc_1b, len(hh_inc), bin_edges_adj, alpha_GMM, beta_GMM, False)\n",
    "VCV2 = (1 / len(hh_inc_1b)) * (Err_mat @ Err_mat.T)\n",
    "W_hat2 = lin.inv(VCV2)\n",
    "\n",
    "alpha_init = 3\n",
    "\n",
    "beta_init = 20000 #change this\n",
    "params_init = np.array([alpha_init, beta_init])\n",
    "gmm_args = (hh_inc_1b, W_hat2, len(hh_inc_1b), bin_edges_adj)\n",
    "\n",
    "results = opt.minimize(criterion_1d, params_init, args=(gmm_args), tol = 1e-18,\n",
    "                       method = 'TNC', bounds=((1e-10, None), (1e-14, None)))#,\n",
    "                      #options = {'ftol': 1e-14, 'eps':1e-14})\n",
    "alpha_GMM_GA_1f, beta_GMM_GA_1f = results.x\n",
    "print('alpha_GMM=', alpha_GMM_GA_1f, ' beta_GMM=', beta_GMM_GA_1f)\n",
    "\n",
    "results\n"
   ]
  },
  {
   "cell_type": "code",
   "execution_count": 30,
   "metadata": {},
   "outputs": [
    {
     "data": {
      "text/plain": [
       "-1.6618339112473744e+16"
      ]
     },
     "execution_count": 30,
     "metadata": {},
     "output_type": "execute_result"
    }
   ],
   "source": [
    "#criterion function calue\n",
    "criterion_1d(results.x, *gmm_args)"
   ]
  },
  {
   "cell_type": "markdown",
   "metadata": {
    "collapsed": true
   },
   "source": [
    "The alpha and beta value are closer to 3 and 20,000, respectively, although I am unsure if my convergence was successful, so this could be why. \n",
    "\n",
    "For goodness of fit, we could compare the criterion function values. It appears the criterion value was much lower in 1d than 1f, so the distribution for 1d, with the weighting matrix weighed by moments, appears to be optimal. \n",
    "\n",
    "i'm assuming that my answer to 1f is not correct given the small amount of iterations, and so that the true answer would actually yield a lower criterion value and so be better than that in 1d . "
   ]
  },
  {
   "cell_type": "markdown",
   "metadata": {},
   "source": [
    "# 2"
   ]
  },
  {
   "cell_type": "code",
   "execution_count": 153,
   "metadata": {},
   "outputs": [],
   "source": [
    "#load data\n",
    "macroseries = np.loadtxt('Data/MacroSeries.txt', delimiter=',')\n",
    "df = pd.DataFrame(macroseries)\n",
    "df.columns = ['c', 'k', 'w', 'r']\n"
   ]
  },
  {
   "cell_type": "code",
   "execution_count": 154,
   "metadata": {},
   "outputs": [],
   "source": [
    "#Define data moments\n",
    "def calc_data_moments(xvals): #doesn't seem to need an argumentb but try for now\n",
    "    \n",
    "    m1_data = 0 #(6)\n",
    "    m2_data = 0 #(7)\n",
    "    m3_data = 0 #(8)\n",
    "    m4_data = 0 #(9)\n",
    "    \n",
    "    data_moments = [m1_data, m2_data, m3_data, m4_data]\n",
    "    return data_moments\n",
    "\n",
    "def calc_model_moments(c, k, w, r, alpha, beta, mu, sigma, rho):\n",
    "    \n",
    "    #Compute z\n",
    "    z = np.log((r/alpha) * (k)**(1-alpha))\n",
    "    z_values = pd.DataFrame(z)\n",
    "    # Lag forward and backward: compute z[t+1] and z[t-1]\n",
    "    z_df = pd.concat([z_values.shift(1), z_values], axis=1)\n",
    "    z_df.columns = ['t-1', 't+1']\n",
    "    #z_lag = z_values.shift(1)\n",
    "    z_fwd = z_values.shift(-1)\n",
    "    \n",
    "    #Compute k[t+1] for model moments\n",
    "    k_values = pd.DataFrame(k)\n",
    "    k_df = pd.concat([k_values.shift(-1), k_values], axis=1)\n",
    "    k_df.columns = ['t-1', 't+1']\n",
    "    k_fwd = k_values.shift(-1)\n",
    "    \n",
    "    #Compute c[t+1] for model moments\n",
    "    c_values = pd.DataFrame(c)\n",
    "    c_df = pd.concat([c_values.shift(-1), c_values], axis=1)\n",
    "    c_df.columns = ['t-1', 't+1']\n",
    "    c_fwd = c_values.shift(-1)\n",
    "\n",
    "    #Compute model moments per entry (100 entries) these are dataframes\n",
    "    m1_mod_individ = (z_fwd-rho*z-(1-rho)*mu) #(6)\n",
    "    m2_mod_individ = ((z_fwd-rho*z-(1-rho)*mu)*z)#(7)\n",
    "    m3_mod_individ = (beta*alpha*np.exp(z_fwd)*(k_fwd**(alpha-1))*(c/c_fwd)-1) #(8)\n",
    "    m4_mod_individ = ((beta*alpha*np.exp(z_fwd)*(k_fwd**(alpha-1))*(c/c_fwd)-1)*w) #(9)\n",
    "    \n",
    "    #now compute expected value of each of the moments above\n",
    "    #divide by 100 because there are 100 observations\n",
    "    sum_m1 = m1_mod_individ.sum().iloc[0]\n",
    "    sum_m2 = m2_mod_individ.sum().iloc[0]\n",
    "    sum_m3 = m3_mod_individ.sum().iloc[0]\n",
    "    sum_m4 = m4_mod_individ.sum().iloc[0]\n",
    "    m1_mod = sum_m1/100\n",
    "    m2_mod = sum_m2/100\n",
    "    m3_mod = sum_m3/100\n",
    "    m4_mod = sum_m4/100\n",
    "\n",
    "    model_moments = [m1_mod, m2_mod, m3_mod, m4_mod] #this is a list\n",
    "    return model_moments\n",
    "    "
   ]
  },
  {
   "cell_type": "code",
   "execution_count": 155,
   "metadata": {},
   "outputs": [],
   "source": [
    "#Define the error vector \n",
    "\n",
    "def err_vec(xvals, c, k, w, r, alpha, beta, mu, sigma, rho):\n",
    "    data_moments = np.asarray(calc_data_moments(xvals)) # 4 0's\n",
    "    model_moments = np.asarray(calc_model_moments(c, k, w, r, alpha, beta, mu, sigma, rho))\n",
    "    \n",
    "    err_vec = model_moments - data_moments\n",
    "#     We do not use this because the data_moments are 0 so we get divide by 0 error\n",
    "#     else:\n",
    "#         err_vec = (model_moments - data_moments) / data_moments\n",
    "    \n",
    "    return err_vec"
   ]
  },
  {
   "cell_type": "code",
   "execution_count": 166,
   "metadata": {},
   "outputs": [],
   "source": [
    "#Define criterion function\n",
    "def criterion(params, *args):\n",
    "    alpha, beta, mu, sigma, rho = params\n",
    "    xvals, c, k, w, r, W = args\n",
    "    err = err_vec(xvals, c, k, w, r, alpha, beta, mu, sigma, rho)\n",
    "    crit_val = err.T @ W @ err\n",
    "    return crit_val"
   ]
  },
  {
   "cell_type": "code",
   "execution_count": 167,
   "metadata": {},
   "outputs": [
    {
     "name": "stdout",
     "output_type": "stream",
     "text": [
      "alpha_hat= 0.3067284755815203 beta_hat= 0.9899999950013124 mu_hat 12.152859823002684 sig_hat 0.6 rho_hat 0.40567785125206995\n"
     ]
    },
    {
     "data": {
      "text/plain": [
       "      fun: 0.002711338350220023\n",
       " hess_inv: <5x5 LbfgsInvHessProduct with dtype=float64>\n",
       "      jac: array([-8.55927344e-02,  2.84762279e+02, -4.99786562e-03,  0.00000000e+00,\n",
       "        1.72395084e-05])\n",
       "  message: b'CONVERGENCE: REL_REDUCTION_OF_F_<=_FACTR*EPSMCH'\n",
       "     nfev: 264\n",
       "      nit: 8\n",
       "   status: 0\n",
       "  success: True\n",
       "        x: array([ 0.30672848,  0.99      , 12.15285982,  0.6       ,  0.40567785])"
      ]
     },
     "execution_count": 167,
     "metadata": {},
     "output_type": "execute_result"
    }
   ],
   "source": [
    "#Estimate through GMM\n",
    "\n",
    "\n",
    "#initial guesses\n",
    "alpha_init=0.3\n",
    "beta_init=0.99 #given\n",
    "mu_init=0.8\n",
    "sigma_init=0.6\n",
    "rho_init=0.4\n",
    "#x_0=np.exp(k) #seems unecessary \n",
    "\n",
    "\n",
    "# err_mu_init=0\n",
    "params_init = np.array([alpha_init, beta_init, mu_init, sigma_init, rho_init])\n",
    "W_hat = np.eye(4) #jose different\n",
    "gmm_args = (1, c, k, w, r, W_hat)#1 is arbitrary, don't really need this arg\n",
    "results = opt.minimize(criterion, params_init, args=(gmm_args), tol=1e-14,\n",
    "                       method='L-BFGS-B',\n",
    "                       bounds=((1e-10, 1-(1e-10)), (1e-10, 1-(1e-10)),\n",
    "                       (1e-10, None), (1e-10, None), (-1+(1e-10), 1-(1e-10))))\n",
    "alpha_2a, beta_2a, mu_2a, sig_2a, rho_2a = results.x\n",
    "print('alpha_hat=', alpha_2a, 'beta_hat=', beta_2a, 'mu_hat', mu_2a, 'sig_hat', sig_2a, 'rho_hat', rho_2a)\n",
    "results"
   ]
  },
  {
   "cell_type": "code",
   "execution_count": 168,
   "metadata": {},
   "outputs": [
    {
     "name": "stdout",
     "output_type": "stream",
     "text": [
      "the value of the criterion funciton is 0.002711338350220023\n"
     ]
    }
   ],
   "source": [
    "print(\"The value of the criterion funciton is\", results.fun)"
   ]
  },
  {
   "cell_type": "code",
   "execution_count": null,
   "metadata": {},
   "outputs": [],
   "source": []
  }
 ],
 "metadata": {
  "kernelspec": {
   "display_name": "Python 3",
   "language": "python",
   "name": "python3"
  },
  "language_info": {
   "codemirror_mode": {
    "name": "ipython",
    "version": 3
   },
   "file_extension": ".py",
   "mimetype": "text/x-python",
   "name": "python",
   "nbconvert_exporter": "python",
   "pygments_lexer": "ipython3",
   "version": "3.7.1"
  }
 },
 "nbformat": 4,
 "nbformat_minor": 2
}
