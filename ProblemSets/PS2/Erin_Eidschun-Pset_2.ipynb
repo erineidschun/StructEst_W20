{
 "cells": [
  {
   "cell_type": "markdown",
   "metadata": {},
   "source": [
    "Health claim amounts and the GB family of distributions (5 points).\n",
    "For this problem, you will use 10,619 health claims amounts from a \f",
    "ctitious\n",
    "sample of households. These data are in a single column of the text \f",
    "le clms.txt\n",
    "in the PS2 folder. Health claim amounts are reported in U.S. dollars. For this\n",
    "exercise, you will need to use the generalized beta family of distributions shown\n",
    "in the \f",
    "gure in Section 7 of your MLE Jupyter notebook.\n",
    "(a) (0.5 points) Calculate and report the mean, median, maximum, minimum,\n",
    "and standard deviation of monthly health expenditures for these data.\n",
    "Plot two histograms of the data in which the y-axis gives the percent\n",
    "of observations in the particular bin of health expenditures and the x-axis\n",
    "gives the value of monthly health expenditures. Use percentage histograms\n",
    "in which the height of each bar is the percent of observations in that bin (see\n",
    "instructions in Jupyter notebook PythonVisualize.ipynb in Section 1.2).\n",
    "In the \f",
    "rst histogram, use 1,000 bins to plot the frequency of all the data.\n",
    "In the second histogram, use 100 bins to plot the frequency of only monthly\n",
    "health expenditures less-than-or-equal-to $800 (xi \u0014 800). Adjust the\n",
    "frequencies of this second histogram to account for the observations that\n",
    "you have not displayed (xi > 800). That is, the heights of the histogram\n",
    "bars in the second histogram should not sum to 1 because you are only\n",
    "displaying a fraction of the data. Comparing the two histograms, why\n",
    "might you prefer the second one?"
   ]
  },
  {
   "cell_type": "markdown",
   "metadata": {},
   "source": [
    "# Question 1"
   ]
  },
  {
   "cell_type": "markdown",
   "metadata": {},
   "source": [
    "### Part a"
   ]
  },
  {
   "cell_type": "code",
   "execution_count": 1,
   "metadata": {},
   "outputs": [],
   "source": [
    "# Import the necessary libraries\n",
    "import numpy as np\n",
    "import scipy.stats as sts\n",
    "import requests\n",
    "import matplotlib.pyplot as plt\n",
    "import pandas as pd\n",
    "from pandas import DataFrame, Series\n",
    "import math\n",
    "import statistics\n"
   ]
  },
  {
   "cell_type": "code",
   "execution_count": 6,
   "metadata": {},
   "outputs": [],
   "source": [
    "pts = np.loadtxt('clms.txt')\n"
   ]
  },
  {
   "cell_type": "code",
   "execution_count": 7,
   "metadata": {},
   "outputs": [
    {
     "name": "stdout",
     "output_type": "stream",
     "text": [
      "Mean: 720.2779753272437\n",
      "Median: 172.21\n",
      "Max: 227967.25\n",
      "Min: 0.01\n",
      "Standard Deviation: 3972.850824119446\n"
     ]
    }
   ],
   "source": [
    "# Calculate simple metrics\n",
    "print(\"Mean:\", np.mean(pts))\n",
    "print(\"Median:\", np.median(pts))\n",
    "print(\"Max:\", np.max(pts))\n",
    "print(\"Min:\", np.min(pts))\n",
    "print(\"Standard Deviation:\", statistics.stdev(pts)) # we are going to assume sample standard deviation"
   ]
  },
  {
   "cell_type": "code",
   "execution_count": 8,
   "metadata": {},
   "outputs": [
    {
     "name": "stdout",
     "output_type": "stream",
     "text": [
      "1.0000000000000322\n"
     ]
    },
    {
     "data": {
      "image/png": "[encoded data removed]",
      "text/plain": [
       "<Figure size 432x288 with 1 Axes>"
      ]
     },
     "metadata": {
      "needs_background": "light"
     },
     "output_type": "display_data"
    }
   ],
   "source": [
    "plt.clf()\n",
    "plt.cla()\n",
    "plt.close()\n",
    "num_bins = 1000\n",
    "#pts.shape is number of observations\n",
    "weights = (1 / pts.shape[0]) * np.ones_like(pts)\n",
    "\n",
    "count, num_bins, patches = plt.hist(pts, num_bins, weights=weights, rwidth = 0.9)\n",
    "plt.title('Histogram 1: Full data', fontsize=17)\n",
    "plt.xlabel(r'Value of monthly health expenditures')\n",
    "plt.ylabel(r'Percent of observations in bin')\n",
    "plt.xlim([0, 15000])  # This gives the xmin and xmax to be plotted\"count, bins, ignored = plt.hist(pts, num_bins, density=True,\n",
    "plt.ylim([0, 0.7])  # This gives the ymin and ymax to be plotted\n",
    "# plt.show()\n",
    "#verify the columns sum to 1\n",
    "print(count.sum())"
   ]
  },
  {
   "cell_type": "code",
   "execution_count": 9,
   "metadata": {},
   "outputs": [
    {
     "name": "stdout",
     "output_type": "stream",
     "text": [
      "0.8494208494208465\n"
     ]
    },
    {
     "data": {
      "image/png": "[encoded data removed]",
      "text/plain": [
       "<Figure size 432x288 with 1 Axes>"
      ]
     },
     "metadata": {
      "needs_background": "light"
     },
     "output_type": "display_data"
    }
   ],
   "source": [
    "plt.clf()\n",
    "plt.cla()\n",
    "plt.close()\n",
    "#subset data\n",
    "subset_800 = pts[pts <= 800]\n",
    "num_bins = 100\n",
    "weights = (1 / pts.shape[0]) * np.ones_like(subset_800)\n",
    "count, num_bins, patches = plt.hist(subset_800, num_bins, weights=weights, rwidth = 0.9)\n",
    "plt.title('Histogram 2: Values <= 800', fontsize=17)\n",
    "plt.xlabel(r'Value of monthly health expenditures')\n",
    "plt.ylabel(r'Percent of observations in bin')\n",
    "plt.xlim([0, 850])\n",
    "\n",
    "#Verify the columns do not sum to 1, as the data is subsetted\n",
    "print(count.sum())\n"
   ]
  },
  {
   "cell_type": "markdown",
   "metadata": {},
   "source": [
    "Why might we prefer the second histogram?\n",
    "Notice that the sum of counts has reduced to about 15%, which means the values that we cut off (>800) did not account for a lot of data. That is why the tail in the first histogram is so long.\n",
    "The second histogram is more informative in terms of seeing the distribution of the data."
   ]
  },
  {
   "cell_type": "markdown",
   "metadata": {},
   "source": [
    "### part b"
   ]
  },
  {
   "cell_type": "markdown",
   "metadata": {},
   "source": [
    "Another two-parameter distribution with strictly positive support is the gamma (GA) distribution. The pdf of the gamma distribution is the following.\n",
    "\n",
    "$$ \\text{(GA):}\\quad f(x;\\alpha,\\beta) = \\frac{1}{\\beta^\\alpha \\Gamma(\\alpha)}x^{\\alpha-1}e^{-\\frac{x}{\\beta}},\\quad x\\in[0,\\infty), \\:\\alpha,\\beta>0 $$\n",
    "$$ \\text{where}\\quad \\Gamma(z)\\equiv\\int_0^\\infty t^{z-1}e^{-t}dt $$\n"
   ]
  },
  {
   "cell_type": "code",
   "execution_count": 10,
   "metadata": {},
   "outputs": [],
   "source": [
    "# Define function that generates values of gamma pdf\n",
    "import scipy.special as spc\n",
    "\n",
    "def gamma_pdf(xvals, alpha, beta):\n",
    "    gamma_val = spc.gamma(alpha)\n",
    "    pdf_vals = (1/((beta**alpha) *gamma_val))*(xvals**(alpha-1))*(np.exp(-(xvals/beta)))\n",
    "\n",
    "    return pdf_vals"
   ]
  },
  {
   "cell_type": "code",
   "execution_count": 11,
   "metadata": {},
   "outputs": [],
   "source": [
    "def log_lik_gamma(xvals, alpha, beta):\n",
    "    pdf_vals = gamma_pdf(xvals, alpha, beta)\n",
    "    pdf_vals[pdf_vals < 1e-10] = 1e-10\n",
    "    ln_pdf_vals = np.log(pdf_vals)\n",
    "    log_lik_val = ln_pdf_vals.sum()\n",
    "    \n",
    "    return log_lik_val"
   ]
  },
  {
   "cell_type": "code",
   "execution_count": 12,
   "metadata": {},
   "outputs": [],
   "source": [
    "def crit(params, *args):\n",
    "    alpha, beta = params\n",
    "    xvals = args\n",
    "    log_lik_val = log_lik_gamma(xvals, alpha, beta)\n",
    "    neg_log_lik_val = -log_lik_val\n",
    "    return neg_log_lik_val"
   ]
  },
  {
   "cell_type": "code",
   "execution_count": 1,
   "metadata": {
    "scrolled": true
   },
   "outputs": [
    {
     "ename": "NameError",
     "evalue": "name 'statistics' is not defined",
     "output_type": "error",
     "traceback": [
      "\u001b[0;31m---------------------------------------------------------------------------\u001b[0m",
      "\u001b[0;31mNameError\u001b[0m                                 Traceback (most recent call last)",
      "\u001b[0;32m<ipython-input-1-4a0046545392>\u001b[0m in \u001b[0;36m<module>\u001b[0;34m\u001b[0m\n\u001b[1;32m      1\u001b[0m \u001b[0;32mimport\u001b[0m \u001b[0mscipy\u001b[0m\u001b[0;34m.\u001b[0m\u001b[0moptimize\u001b[0m \u001b[0;32mas\u001b[0m \u001b[0mopt\u001b[0m\u001b[0;34m\u001b[0m\u001b[0;34m\u001b[0m\u001b[0m\n\u001b[0;32m----> 2\u001b[0;31m \u001b[0msigma\u001b[0m \u001b[0;34m=\u001b[0m \u001b[0mstatistics\u001b[0m\u001b[0;34m.\u001b[0m\u001b[0mstdev\u001b[0m\u001b[0;34m(\u001b[0m\u001b[0mpts\u001b[0m\u001b[0;34m)\u001b[0m\u001b[0;34m\u001b[0m\u001b[0;34m\u001b[0m\u001b[0m\n\u001b[0m\u001b[1;32m      3\u001b[0m \u001b[0mbeta_0\u001b[0m \u001b[0;34m=\u001b[0m \u001b[0msigma\u001b[0m\u001b[0;34m**\u001b[0m\u001b[0;36m2\u001b[0m\u001b[0;34m/\u001b[0m\u001b[0;34m(\u001b[0m\u001b[0mnp\u001b[0m\u001b[0;34m.\u001b[0m\u001b[0mmean\u001b[0m\u001b[0;34m(\u001b[0m\u001b[0mpts\u001b[0m\u001b[0;34m)\u001b[0m\u001b[0;34m)\u001b[0m\u001b[0;34m\u001b[0m\u001b[0;34m\u001b[0m\u001b[0m\n\u001b[1;32m      4\u001b[0m \u001b[0malpha_0\u001b[0m \u001b[0;34m=\u001b[0m \u001b[0;34m(\u001b[0m\u001b[0mnp\u001b[0m\u001b[0;34m.\u001b[0m\u001b[0mmean\u001b[0m\u001b[0;34m(\u001b[0m\u001b[0mpts\u001b[0m\u001b[0;34m)\u001b[0m\u001b[0;34m)\u001b[0m\u001b[0;34m/\u001b[0m\u001b[0mbeta_0\u001b[0m\u001b[0;34m\u001b[0m\u001b[0;34m\u001b[0m\u001b[0m\n\u001b[1;32m      5\u001b[0m \u001b[0mprint\u001b[0m\u001b[0;34m(\u001b[0m\u001b[0;34m'initial alpha: '\u001b[0m\u001b[0;34m,\u001b[0m\u001b[0malpha_0\u001b[0m\u001b[0;34m)\u001b[0m\u001b[0;34m\u001b[0m\u001b[0;34m\u001b[0m\u001b[0m\n",
      "\u001b[0;31mNameError\u001b[0m: name 'statistics' is not defined"
     ]
    }
   ],
   "source": [
    "import scipy.optimize as opt\n",
    "sigma = statistics.stdev(pts)\n",
    "beta_0 = sigma**2/(np.mean(pts))\n",
    "alpha_0 = (np.mean(pts))/beta_0\n",
    "print('initial alpha: ',alpha_0)\n",
    "print('initial beta: ',beta_0)\n",
    "params_init = np.array([alpha_0, beta_0])\n",
    "mle_args = pts\n",
    "#drop xvals <= 0 if the following is satisfied\n",
    "if (alpha_0 < 1 and alpha_0 > 0):\n",
    "    subset_pts_0 = pts[pts > 0]\n",
    "else:\n",
    "    subset_pts_0 = pts\n",
    "mle_args = subset_pts_0\n",
    "\n",
    "results_uncstr = opt.minimize(crit, params_init, args=(mle_args), method = 'TNC',\n",
    "                              bounds=((1e-10, None), (1e-10, None)), tol=1e-12)\n",
    "alpha_GA_MLE, beta_GA_MLE = results_uncstr.x\n",
    "print('alpha_GA_MLE=', alpha_GA_MLE, ' beta_GA_MLE=', beta_GA_MLE)"
   ]
  },
  {
   "cell_type": "code",
   "execution_count": 14,
   "metadata": {},
   "outputs": [
    {
     "name": "stdout",
     "output_type": "stream",
     "text": [
      "Log-likelihood for GA:  -77001.36878468955\n"
     ]
    }
   ],
   "source": [
    "print('Log-likelihood for GA: ', log_lik_gamma(pts, alpha_GA_MLE, beta_GA_MLE))"
   ]
  },
  {
   "cell_type": "code",
   "execution_count": 15,
   "metadata": {},
   "outputs": [
    {
     "data": {
      "text/plain": [
       "<matplotlib.legend.Legend at 0x126693160>"
      ]
     },
     "execution_count": 15,
     "metadata": {},
     "output_type": "execute_result"
    },
    {
     "data": {
      "image/png": "[encoded data removed]",
      "text/plain": [
       "<Figure size 432x288 with 1 Axes>"
      ]
     },
     "metadata": {
      "needs_background": "light"
     },
     "output_type": "display_data"
    }
   ],
   "source": [
    "# Plot two different truncated normal distributions on top of the\n",
    "# histogram of the data\n",
    "subset_800 = pts[pts <= 800]\n",
    "num_bins = 100\n",
    "weights = (1 / pts.shape[0]) * np.ones_like(subset_800)\n",
    "count, num_bins, patches = plt.hist(subset_800, num_bins, weights=weights, rwidth = 0.9)\n",
    "plt.title('Histogram 2: Values <= 800, GA', fontsize=12)\n",
    "plt.xlabel(r'Value of monthly health expenditures')\n",
    "plt.ylabel(r'Percent of observations in bin')\n",
    "plt.xlim([0, 850])\n",
    "\n",
    "# Plot smooth line with distribution solved for above\n",
    "dist_pts = np.linspace(1, 800, 100) #not sure this is right\n",
    "# dist_pts = np.random.gamma(0, 100, 100)\n",
    "alpha_GA_round = round(alpha_GA_MLE,3)\n",
    "beta_GA_round = round(beta_GA_MLE,3)\n",
    "\n",
    "plt.plot(dist_pts, gamma_pdf(dist_pts, alpha_GA_MLE, beta_GA_MLE),\n",
    "         linewidth=2, color='r', label=('alpha=' ,alpha_GA_round,'beta=',beta_GA_round))\n",
    "plt.legend(loc='upper left')\n"
   ]
  },
  {
   "cell_type": "markdown",
   "metadata": {},
   "source": [
    "# 1c"
   ]
  },
  {
   "cell_type": "markdown",
   "metadata": {},
   "source": [
    "Another two-parameter distribution with strictly positive support is the gamma (GA) distribution. The pdf of the gamma distribution is the following.\n",
    "\n",
    "$$ \\text{(GA):}\\quad f(x;\\alpha,\\beta) = \\frac{1}{\\beta^\\alpha \\Gamma(\\alpha)}x^{\\alpha-1}e^{-\\frac{x}{\\beta}},\\quad x\\in[0,\\infty), \\:\\alpha,\\beta>0 $$\n",
    "$$ \\text{where}\\quad \\Gamma(z)\\equiv\\int_0^\\infty t^{z-1}e^{-t}dt $$\n",
    "\n",
    "The gamma function $\\Gamma(\\cdot)$ within the gamma (GA) distribution is a common function that has a preprogrammed function in most programming languages.\n",
    "\n",
    "The lognormal (LN) and gamma (GA) distributions are both two-parameter distributions and are both special cases of the three-parameter generalized gamma (GG) distribution. The pdf of the generalized gamma distribution is the following.\n",
    "\n",
    "$$ \\text{(GG):}\\quad f(x;\\alpha,\\beta,m) = \\frac{m}{\\beta^\\alpha \\Gamma\\left(\\frac{\\alpha}{m}\\right)}x^{\\alpha-1}e^{-\\left(\\frac{x}{\\beta}\\right)^m},\\quad x\\in[0,\\infty), \\:\\alpha,\\beta,m>0 $$\n",
    "$$ \\text{where}\\quad \\Gamma(z)\\equiv\\int_0^\\infty t^{z-1}e^{-t}dt $$"
   ]
  },
  {
   "cell_type": "code",
   "execution_count": 16,
   "metadata": {},
   "outputs": [],
   "source": [
    "def generalized_gamma_pdf(xvals, alpha, beta, m):\n",
    "    #pdf_vals = (1/((beta**alpha) *math.gamma(alpha)))*(xvals**(alpha-1))*(np.exp(-(xvals/beta)))\n",
    "    gamma_val = spc.gamma(alpha/m)\n",
    "    pdf_vals = (m/((beta**alpha) *gamma_val))*(xvals**(alpha-1))*(np.exp(-((xvals/beta)**m)))\n",
    "    return pdf_vals"
   ]
  },
  {
   "cell_type": "code",
   "execution_count": 17,
   "metadata": {},
   "outputs": [],
   "source": [
    "def log_lik_gen_gamma(xvals, alpha, beta, m):\n",
    "    pdf_vals = generalized_gamma_pdf(xvals, alpha, beta, m)\n",
    "    pdf_vals[pdf_vals < 1e-10] = 1e-10\n",
    "    ln_pdf_vals = np.log(pdf_vals)\n",
    "    log_lik_val = ln_pdf_vals.sum()\n",
    "    \n",
    "    return log_lik_val"
   ]
  },
  {
   "cell_type": "code",
   "execution_count": 18,
   "metadata": {},
   "outputs": [],
   "source": [
    "def gen_gamma_crit(params, *args):\n",
    "    alpha, beta, m = params\n",
    "    xvals = args\n",
    "    log_lik_val = log_lik_gen_gamma(xvals, alpha, beta, m)\n",
    "    neg_log_lik_val = -log_lik_val\n",
    "    return neg_log_lik_val"
   ]
  },
  {
   "cell_type": "code",
   "execution_count": 19,
   "metadata": {
    "scrolled": false
   },
   "outputs": [
    {
     "name": "stdout",
     "output_type": "stream",
     "text": [
      "alpha_GG_MLE= 1.201863829651293  beta_GG_MLE= 6.125170836345546  m_GG_MLE= 0.337753516697089\n"
     ]
    }
   ],
   "source": [
    "m_0 = 1\n",
    "mle_args = pts\n",
    "\n",
    "params_init = np.array([alpha_GA_MLE, beta_GA_MLE, m_0])\n",
    "results_uncstr = opt.minimize(gen_gamma_crit, params_init, args=(mle_args), method = 'TNC',\n",
    "                              bounds=((1e-10, None), (1e-10, None), (1e-10, None)),tol=1e-12)\n",
    "alpha_GG_MLE, beta_GG_MLE, m_GG_MLE = results_uncstr.x\n",
    "print('alpha_GG_MLE=', alpha_GG_MLE, ' beta_GG_MLE=', beta_GG_MLE, ' m_GG_MLE=', m_GG_MLE)\n",
    "\n"
   ]
  },
  {
   "cell_type": "code",
   "execution_count": 20,
   "metadata": {},
   "outputs": [
    {
     "name": "stdout",
     "output_type": "stream",
     "text": [
      "Log-likelihood for GG:  -75295.2588187889\n"
     ]
    }
   ],
   "source": [
    "print('Log-likelihood for GG: ', log_lik_gen_gamma(pts, alpha_GG_MLE, beta_GG_MLE, m_GG_MLE))"
   ]
  },
  {
   "cell_type": "code",
   "execution_count": 21,
   "metadata": {},
   "outputs": [
    {
     "data": {
      "text/plain": [
       "<matplotlib.legend.Legend at 0x126713860>"
      ]
     },
     "execution_count": 21,
     "metadata": {},
     "output_type": "execute_result"
    },
    {
     "data": {
      "image/png": "[encoded data removed]",
      "text/plain": [
       "<Figure size 432x288 with 1 Axes>"
      ]
     },
     "metadata": {
      "needs_background": "light"
     },
     "output_type": "display_data"
    }
   ],
   "source": [
    "subset_800 = pts[pts <= 800]\n",
    "num_bins = 100\n",
    "weights = (1 / pts.shape[0]) * np.ones_like(subset_800)\n",
    "count, num_bins, patches = plt.hist(subset_800, num_bins, weights=weights, rwidth = 0.9)\n",
    "plt.title('Histogram 2: Values <= 800, GG', fontsize=12)\n",
    "plt.xlabel(r'Bin of value')\n",
    "plt.ylabel(r'Percent of observations in bin')\n",
    "plt.xlim([0, 850])\n",
    "\n",
    "# Plot smooth line with distribution solved for above\n",
    "dist_pts = np.linspace(1, 800, 100) #not sure this is right\n",
    "# dist_pts = np.random.gamma(0, 100, 100)\n",
    "alpha_GG_round = round(alpha_GG_MLE,3)\n",
    "beta_GG_round = round(beta_GG_MLE,3)\n",
    "m_GG_round = round(m_GG_MLE,3)\n",
    "\n",
    "plt.plot(dist_pts, generalized_gamma_pdf(dist_pts, alpha_GG_MLE, beta_GG_MLE, m_GG_MLE),\n",
    "         linewidth=2, color='r', label=('alpha=' ,alpha_GG_round,'beta=',beta_GG_round, 'm=',m_GG_round))\n",
    "plt.legend(loc='upper left')\n"
   ]
  },
  {
   "cell_type": "markdown",
   "metadata": {},
   "source": [
    "# 1d"
   ]
  },
  {
   "cell_type": "markdown",
   "metadata": {},
   "source": [
    "$$ \\text{(GB2):}\\quad f(x;a,b,p,q) = \\frac{a x^{ap-1}}{b^{ap}B(p,q)\\left(1 + \\left(\\frac{x}{b}\\right)^a\\right)^{p+q}},\\quad x\\in[0,\\infty), \\:a,b,p,q>0 $$\n",
    "$$ \\quad\\text{where}\\quad B(v,w)\\equiv\\int_0^1 t^{v-1}(1-t)^{w-1}dt $$\n",
    "\n",
    "The beta function $B(\\cdot,\\cdot)$ within the GB2 distribution is a common function that has a preprogrammed function in most programming languages. The three-parameter generalized gamma (GG) distribution is a nested case of the four-parameter generalized beta 2 (GB2) distribution as $q$ goes to $\\infty$ and for $a=m$, $b=q^{1/m}\\beta$, and $p=\\frac{\\alpha}{m}$. See McDonald (1984, p. 662) for a derivation.\n",
    "\n",
    "$$ GG(\\alpha,\\beta,m) = \\lim_{q\\rightarrow\\infty}GB2\\left(a=m,b=q^{1/m}\\beta,p=\\frac{\\alpha}{m},q\\right) $$\n"
   ]
  },
  {
   "cell_type": "code",
   "execution_count": 22,
   "metadata": {},
   "outputs": [],
   "source": [
    "def generalized_beta_2_pdf(xvals, a, b, p, q):\n",
    "    #pdf_vals = (1/((beta**alpha) *math.gamma(alpha)))*(xvals**(alpha-1))*(np.exp(-(xvals/beta)))\n",
    "    beta_val = spc.beta(p,q)\n",
    "    pdf_vals = (a*(xvals**(a*p - 1)))/((b**(a*p))*beta_val*\n",
    "                                  (1+(xvals/b)**a)**(p+q))\n",
    "\n",
    "    return pdf_vals"
   ]
  },
  {
   "cell_type": "code",
   "execution_count": 23,
   "metadata": {},
   "outputs": [],
   "source": [
    "def log_lik_gen_beta_2(xvals, alpha, beta, p, q):\n",
    "    pdf_vals = generalized_beta_2_pdf(xvals, alpha, beta, p, q)\n",
    "    ln_pdf_vals = np.log(pdf_vals)\n",
    "    log_lik_val = ln_pdf_vals.sum()\n",
    "    \n",
    "    return log_lik_val"
   ]
  },
  {
   "cell_type": "code",
   "execution_count": 24,
   "metadata": {},
   "outputs": [],
   "source": [
    "def gen_beta_2_crit(params, *args):\n",
    "    alpha, beta, p, q = params\n",
    "    xvals = args\n",
    "    log_lik_val = log_lik_gen_beta_2(xvals, alpha, beta, p, q)\n",
    "    neg_log_lik_val = -log_lik_val\n",
    "    return neg_log_lik_val"
   ]
  },
  {
   "cell_type": "code",
   "execution_count": 25,
   "metadata": {},
   "outputs": [
    {
     "name": "stdout",
     "output_type": "stream",
     "text": [
      "alpha_GB2_MLE= 0.33846272072182587  beta_GB2_MLE= 4266523049842.794  p_GB2_MLE= 3.5585731869884434 q_GP2_MLE= 9991.33886619025\n"
     ]
    }
   ],
   "source": [
    "q_0 = 10000\n",
    "alpha_init_GG = m_GG_MLE\n",
    "beta_init_GG = q_0**(1/m_GG_MLE)*beta_GG_MLE\n",
    "p_init = alpha_GG_MLE/m_GG_MLE\n",
    "params_init = np.array([alpha_init_GG, beta_init_GG, p_init, q_0])\n",
    "results_uncstr = opt.minimize(gen_beta_2_crit, params_init, args=(mle_args), method = 'TNC',\n",
    "                              bounds=((1e-10, None), (1e-10, None), (None, None), (None,None)),tol=1e-12)\n",
    "alpha_GB2_MLE, beta_GB2_MLE, p_GB2_MLE, q_GB2_MLE = results_uncstr.x\n",
    "print('alpha_GB2_MLE=', alpha_GB2_MLE, ' beta_GB2_MLE=', beta_GB2_MLE,\n",
    "      ' p_GB2_MLE=', p_GB2_MLE, 'q_GP2_MLE=', q_GB2_MLE)\n"
   ]
  },
  {
   "cell_type": "code",
   "execution_count": 26,
   "metadata": {},
   "outputs": [
    {
     "name": "stdout",
     "output_type": "stream",
     "text": [
      "Log-likelihood for GB2:  -75326.55542814193\n"
     ]
    }
   ],
   "source": [
    "print('Log-likelihood for GB2: ', log_lik_gen_beta_2(pts, alpha_GB2_MLE, beta_GB2_MLE, p_GB2_MLE, q_GB2_MLE))"
   ]
  },
  {
   "cell_type": "code",
   "execution_count": 27,
   "metadata": {},
   "outputs": [
    {
     "ename": "NameError",
     "evalue": "name 'm_GB2_MLE' is not defined",
     "output_type": "error",
     "traceback": [
      "\u001b[0;31m---------------------------------------------------------------------------\u001b[0m",
      "\u001b[0;31mNameError\u001b[0m                                 Traceback (most recent call last)",
      "\u001b[0;32m<ipython-input-27-d41f848edad0>\u001b[0m in \u001b[0;36m<module>\u001b[0;34m\u001b[0m\n\u001b[1;32m     16\u001b[0m \u001b[0mq_GB2_round\u001b[0m \u001b[0;34m=\u001b[0m \u001b[0mround\u001b[0m\u001b[0;34m(\u001b[0m\u001b[0mq_GB2_MLE\u001b[0m\u001b[0;34m,\u001b[0m \u001b[0;36m3\u001b[0m\u001b[0;34m)\u001b[0m\u001b[0;34m\u001b[0m\u001b[0;34m\u001b[0m\u001b[0m\n\u001b[1;32m     17\u001b[0m \u001b[0;34m\u001b[0m\u001b[0m\n\u001b[0;32m---> 18\u001b[0;31m plt.plot(dist_pts, generalized_beta_2_pdf(dist_pts, alpha_GB2_MLE, beta_GB2_MLE, m_GB2_MLE, q_GB2_MLE),\n\u001b[0m\u001b[1;32m     19\u001b[0m          linewidth=2, color='r', label=('alpha=' ,alpha_GB2_round,'beta=',beta_GB2_round,\n\u001b[1;32m     20\u001b[0m                                         'p=',p_GB2_round, 'q=',q_GB2_round))\n",
      "\u001b[0;31mNameError\u001b[0m: name 'm_GB2_MLE' is not defined"
     ]
    },
    {
     "data": {
      "image/png": "[encoded data removed]",
      "text/plain": [
       "<Figure size 432x288 with 1 Axes>"
      ]
     },
     "metadata": {
      "needs_background": "light"
     },
     "output_type": "display_data"
    }
   ],
   "source": [
    "subset_800 = pts[pts <= 800]\n",
    "num_bins = 100\n",
    "weights = (1 / pts.shape[0]) * np.ones_like(subset_800)\n",
    "count, num_bins, patches = plt.hist(subset_800,  num_bins, weights=weights, rwidth = 0.9)\n",
    "plt.title('Histogram 2: Values <= 800, GB2', fontsize=12)\n",
    "plt.xlabel(r'Bin of value')\n",
    "plt.ylabel(r'Percent of observations in bin')\n",
    "plt.xlim([0, 800])\n",
    "\n",
    "# Plot smooth line with distribution solved for above\n",
    "dist_pts = np.linspace(1, 800, 100) #not sure this is right\n",
    "# dist_pts = np.random.gamma(0, 100, 100)\n",
    "alpha_GB2_round = round(alpha_GB2_MLE,3)\n",
    "beta_GB2_round = round(beta_GB2_MLE,3)\n",
    "p_GB2_round = round(p_GB2_MLE,3)\n",
    "q_GB2_round = round(q_GB2_MLE, 3)\n",
    "\n",
    "plt.plot(dist_pts, generalized_beta_2_pdf(dist_pts, alpha_GB2_MLE, beta_GB2_MLE, m_GB2_MLE, q_GB2_MLE),\n",
    "         linewidth=2, color='r', label=('alpha=' ,alpha_GB2_round,'beta=',beta_GB2_round,\n",
    "                                        'p=',p_GB2_round, 'q=',q_GB2_round))\n",
    "plt.legend(loc='upper left')\n"
   ]
  },
  {
   "cell_type": "markdown",
   "metadata": {},
   "source": [
    "# 1e"
   ]
  },
  {
   "cell_type": "code",
   "execution_count": null,
   "metadata": {},
   "outputs": [],
   "source": [
    "# b vs. d\n",
    "log_lik_GA = log_lik_gamma(pts, alpha_GA_MLE, beta_GA_MLE)\n",
    "print('MLE log likelihood in (b)', log_lik_GA)\n",
    "log_lik_beta = log_lik_gen_beta_2(pts, alpha_GB2_MLE, beta_GB2_MLE, m_GB2_MLE, q_GB2_MLE)\n",
    "print('MLE log likelihood in (d)', log_lik_beta)\n",
    "LR_val = 2 * (log_lik_beta - log_lik_GA)\n",
    "print('likelihood ratio value', LR_val)\n",
    "pval_GA = 1.0 - sts.chi2.cdf(LR_val, 4)\n",
    "print('chi squared of H0 with 4 degrees of freedom p-value = ', pval_GA)"
   ]
  },
  {
   "cell_type": "code",
   "execution_count": null,
   "metadata": {},
   "outputs": [],
   "source": [
    "# c vs. d\n",
    "log_lik_GG = log_lik_gen_gamma(pts, alpha_GG_MLE, beta_GG_MLE, m_GG_MLE)\n",
    "print('MLE log likelihood in (c)', log_lik_GG)\n",
    "log_lik_beta = log_lik_gen_beta_2(pts, alpha_GB2_MLE, beta_GB2_MLE, p_GB2_MLE, q_GB2_MLE)\n",
    "print('MLE log likelihood in (d)', log_lik_beta)\n",
    "LR_val = 2 * (log_lik_beta - log_lik_GG)\n",
    "print('likelihood ratio value', LR_val)\n",
    "pval_GG = 1.0 - sts.chi2.cdf(LR_val, 4)\n",
    "print('chi squared of H0 with 4 degrees of freedom p-value = ', pval_GG)"
   ]
  },
  {
   "cell_type": "markdown",
   "metadata": {},
   "source": [
    "# 1f"
   ]
  },
  {
   "cell_type": "code",
   "execution_count": null,
   "metadata": {},
   "outputs": [],
   "source": [
    "import scipy.integrate as integrate\n",
    "#For GB2\n",
    "pr_less_1000_gb2 = integrate.quad(generalized_beta_2_pdf, 0.001, 1000,args=(alpha_GB2_MLE, beta_GB2_MLE, m_GB2_MLE, q_GB2_MLE))\n",
    "pr_great_eq_1000_gb2 = 1 - pr_less_1000_gb2[0]\n",
    "pr_eq_1000_gb2 = generalized_beta_2_pdf(1000, alpha_GB2_MLE,beta_GB2_MLE, m_GB2_MLE, q_GB2_MLE)\n",
    "pr_great_1000_gb2 = pr_great_eq_1000_gb2 - pr_eq_1000_gb2\n",
    "print('Probability of having claims greater than $1000, using GB2:', round(pr_great_1000_gb2, 4)*100, \"%\")\n",
    "\n",
    "#For GA\n",
    "pr_less_1000_ga = integrate.quad(gamma_pdf, 0.001, 1000,args=(alpha_GA_MLE, beta_GA_MLE))\n",
    "pr_great_eq_1000_ga = 1 - pr_less_1000_ga[0]\n",
    "pr_eq_1000_ga = gamma_pdf(1000, alpha_GA_MLE,beta_GA_MLE)\n",
    "pr_great_1000_ga = pr_great_eq_1000_ga - pr_eq_1000_ga\n",
    "print('Probability of having claims greater than $1000, using GA:', round(pr_great_1000_ga, 4)*100, \"%\")\n"
   ]
  },
  {
   "cell_type": "markdown",
   "metadata": {},
   "source": [
    "# 2"
   ]
  },
  {
   "cell_type": "code",
   "execution_count": 2,
   "metadata": {},
   "outputs": [
    {
     "data": {
      "text/html": [
       "<div>\n",
       "<style scoped>\n",
       "    .dataframe tbody tr th:only-of-type {\n",
       "        vertical-align: middle;\n",
       "    }\n",
       "\n",
       "    .dataframe tbody tr th {\n",
       "        vertical-align: top;\n",
       "    }\n",
       "\n",
       "    .dataframe thead th {\n",
       "        text-align: right;\n",
       "    }\n",
       "</style>\n",
       "<table border=\"1\" class=\"dataframe\">\n",
       "  <thead>\n",
       "    <tr style=\"text-align: right;\">\n",
       "      <th></th>\n",
       "      <th>c_t</th>\n",
       "      <th>k_t</th>\n",
       "      <th>w_t</th>\n",
       "      <th>r_t</th>\n",
       "    </tr>\n",
       "  </thead>\n",
       "  <tbody>\n",
       "    <tr>\n",
       "      <th>0</th>\n",
       "      <td>1.067109e+07</td>\n",
       "      <td>8.040697e+06</td>\n",
       "      <td>1.059438e+07</td>\n",
       "      <td>0.954120</td>\n",
       "    </tr>\n",
       "    <tr>\n",
       "      <th>1</th>\n",
       "      <td>1.169487e+07</td>\n",
       "      <td>7.595072e+06</td>\n",
       "      <td>1.161079e+07</td>\n",
       "      <td>1.107009</td>\n",
       "    </tr>\n",
       "    <tr>\n",
       "      <th>2</th>\n",
       "      <td>9.292394e+06</td>\n",
       "      <td>8.323735e+06</td>\n",
       "      <td>9.225588e+06</td>\n",
       "      <td>0.802596</td>\n",
       "    </tr>\n",
       "    <tr>\n",
       "      <th>3</th>\n",
       "      <td>7.913165e+06</td>\n",
       "      <td>6.613792e+06</td>\n",
       "      <td>7.856274e+06</td>\n",
       "      <td>0.860176</td>\n",
       "    </tr>\n",
       "    <tr>\n",
       "      <th>4</th>\n",
       "      <td>8.140994e+06</td>\n",
       "      <td>5.632136e+06</td>\n",
       "      <td>8.082466e+06</td>\n",
       "      <td>1.039183</td>\n",
       "    </tr>\n",
       "  </tbody>\n",
       "</table>\n",
       "</div>"
      ],
      "text/plain": [
       "            c_t           k_t           w_t       r_t\n",
       "0  1.067109e+07  8.040697e+06  1.059438e+07  0.954120\n",
       "1  1.169487e+07  7.595072e+06  1.161079e+07  1.107009\n",
       "2  9.292394e+06  8.323735e+06  9.225588e+06  0.802596\n",
       "3  7.913165e+06  6.613792e+06  7.856274e+06  0.860176\n",
       "4  8.140994e+06  5.632136e+06  8.082466e+06  1.039183"
      ]
     },
     "execution_count": 2,
     "metadata": {},
     "output_type": "execute_result"
    }
   ],
   "source": [
    "#Turn into dataframe for readability\n",
    "# macro_data = np.loadtxt('MacroSeries.txt',delimiter=\",\")\n",
    "macro_df = pd.read_csv('MacroSeries.txt',delimiter=\",\", header = None)\n",
    "macro_df.columns = [\"c_t\", \"k_t\", \"w_t\", \"r_t\"]\n",
    "macro_df.head()\n",
    "\n",
    "#macro_data\n",
    "#100 rows by 4 columns\n",
    "#ct | kt | wt | rt"
   ]
  },
  {
   "cell_type": "markdown",
   "metadata": {},
   "source": [
    "### 2a"
   ]
  },
  {
   "cell_type": "markdown",
   "metadata": {},
   "source": [
    "$$ Pr(x|\\theta) = \\frac{1}{\\sigma\\sqrt{2\\pi}}e^{-\\frac{(x - \\mu)^2}{2\\sigma^2}} $$\n"
   ]
  },
  {
   "cell_type": "code",
   "execution_count": 3,
   "metadata": {},
   "outputs": [],
   "source": [
    "#generate normal pdf\n",
    "def normal_pdf(xvals, e_mu, e_sigma):\n",
    "    e_mu = 0\n",
    "    pdf_vals= (1/(e_sigma*np.sqrt(2*np.pi)))*np.exp((-((xvals-e_mu)**2)/(2*e_sigma**2)))\n",
    "    return pdf_vals\n"
   ]
  },
  {
   "cell_type": "code",
   "execution_count": 4,
   "metadata": {},
   "outputs": [],
   "source": [
    "# Define log likelihood function for the normal distribution\n",
    "def log_lik_normal(xvals, e_mu, e_sigma):\n",
    "    e_mu = 0\n",
    "    pdf_vals = normal_pdf(xvals, e_mu, e_sigma)\n",
    "    pdf_vals[pdf_vals < 1e-10] = 1e-10\n",
    "    ln_pdf_vals = np.log(pdf_vals)\n",
    "    log_lik_val = ln_pdf_vals.sum()\n",
    "    \n",
    "    return log_lik_val"
   ]
  },
  {
   "cell_type": "code",
   "execution_count": 5,
   "metadata": {},
   "outputs": [],
   "source": [
    "def normal_crit_2a(params, *data):\n",
    "    alpha, row, mu, sigma = params\n",
    "    c_t, k_t, w_t, r_t = data\n",
    "    macro_df['z_t_2a'] = np.log((w_t/(1-alpha))*(k_t)**(-alpha))\n",
    "    #now create z_t_lag (z_(t - 1) column in macro_df)\n",
    "    macro_df['z_t_lag_2a'] = macro_df.z_t_2a.shift(1)\n",
    "    #Drop nas\n",
    "    macro_df.loc[0, 'z_t_lag_2a'] = macro_df.z_t_lag_2a[macro_df.z_t_lag_2a.notnull()].values[0]\n",
    "    \n",
    "    \n",
    "    z_t_2a = macro_df.z_t_2a.values\n",
    "    z_t_lag_2a = macro_df.z_t_lag_2a.values\n",
    "    \n",
    "    e_t_2a = z_t_2a - (row*z_t_lag_2a) - (1-row)*mu\n",
    "    log_lik_val = log_lik_normal(e_t_2a, e_mu=0, e_sigma=sigma)\n",
    "    neg_log_lik_val = -log_lik_val\n",
    "    return neg_log_lik_val"
   ]
  },
  {
   "cell_type": "code",
   "execution_count": 42,
   "metadata": {},
   "outputs": [
    {
     "name": "stdout",
     "output_type": "stream",
     "text": [
      "alpha_MLE= 0.2483566224733045\n",
      "row_MLE= 0.9999999999\n",
      "mu_MLE= 0.5286396149158589\n",
      "sigma_MLE= 0.09681960611629749\n"
     ]
    }
   ],
   "source": [
    "import scipy.optimize as opt\n",
    "\n",
    "\n",
    "# Can't find a good initial guess\n",
    "\n",
    "# #rick's answers commented\n",
    "# alpha_init =  .7\n",
    "# row_init = .48\n",
    "# mu_init = .57\n",
    "# sigma_init = .09\n",
    "\n",
    "#my guesses\n",
    "# alpha_init = 0.24\n",
    "# row_init = 0.7\n",
    "# mu_init = .2\n",
    "# sigma_init = 1\n",
    "\n",
    "alpha_init = 0.6\n",
    "row_init = .6\n",
    "mu_init = .5\n",
    "sigma_init = .7\n",
    "\n",
    "params_init = np.array([alpha_init, row_init, mu_init, sigma_init])\n",
    "mle_args = macro_df.c_t.values, macro_df.k_t.values, macro_df.w_t.values, macro_df.r_t.values\n",
    "# results_a = opt.minimize(normal_crit_2a, params_init, args=(mle_args), method = 'L-BFGS-B',\n",
    "#                       bounds = ((1e-10,1 - 1e-10), (-1 + 1e-10,1 - 1e-10), (1e-10, None), (1e-10, None)))\n",
    "results_a = opt.minimize(normal_crit_2a, params_init, args=(mle_args), method = 'L-BFGS-B',\n",
    "                      bounds = ((1e-10,1 - 1e-10), (-1 + 1e-10,1 - 1e-10), (1e-10, None), (1e-10, None)),\n",
    "                         options = {'ftol': 1e-20, 'eps': 1e-13})\n",
    "\n",
    "alpha_MLE_a = results_a.x[0]\n",
    "row_MLE_a = results_a.x[1]\n",
    "mu_MLE_a = results_a.x[2]\n",
    "sigma_MLE_a = results_a.x[3]\n",
    "print('alpha_MLE=', alpha_MLE_a)\n",
    "print('row_MLE=', row_MLE_a)\n",
    "print('mu_MLE=', mu_MLE_a)\n",
    "print('sigma_MLE=', sigma_MLE_a)\n"
   ]
  },
  {
   "cell_type": "code",
   "execution_count": 80,
   "metadata": {},
   "outputs": [
    {
     "name": "stdout",
     "output_type": "stream",
     "text": [
      "Inverse Hessian Results\n"
     ]
    },
    {
     "data": {
      "text/plain": [
       "array([[18.72827957, -4.19468962, -1.71312199,  0.63715762],\n",
       "       [-4.19468962,  0.94007427,  0.38287435, -0.14275004],\n",
       "       [-1.71312199,  0.38287435,  1.14898638, -0.05849437],\n",
       "       [ 0.63715762, -0.14275004, -0.05849437,  0.02174351]])"
      ]
     },
     "execution_count": 80,
     "metadata": {},
     "output_type": "execute_result"
    }
   ],
   "source": [
    "print('Inverse Hessian Results')\n",
    "results_a.hess_inv.todense()\n",
    "\n",
    "#this is fine, as this is an interior solution"
   ]
  },
  {
   "cell_type": "code",
   "execution_count": 81,
   "metadata": {},
   "outputs": [
    {
     "data": {
      "text/plain": [
       "      fun: -91.591444871783\n",
       " hess_inv: <4x4 LbfgsInvHessProduct with dtype=float64>\n",
       "      jac: array([-2.70006240e-05, -2.02430938e+02,  0.00000000e+00, -9.03810360e-04])\n",
       "  message: b'CONVERGENCE: REL_REDUCTION_OF_F_<=_FACTR*EPSMCH'\n",
       "     nfev: 90\n",
       "      nit: 11\n",
       "   status: 0\n",
       "  success: True\n",
       "        x: array([0.25106358, 1.        , 0.16811167, 0.09682467])"
      ]
     },
     "execution_count": 81,
     "metadata": {},
     "output_type": "execute_result"
    }
   ],
   "source": [
    "results_a"
   ]
  },
  {
   "cell_type": "markdown",
   "metadata": {},
   "source": [
    "### 2b"
   ]
  },
  {
   "cell_type": "code",
   "execution_count": 82,
   "metadata": {},
   "outputs": [],
   "source": [
    "def normal_crit_2b(params, *data):\n",
    "    alpha, row, mu, sigma = params\n",
    "    c_t, k_t, w_t, r_t = data\n",
    "    macro_df['z_t_2b'] = np.log((r_t/alpha)*(k_t)**(1-alpha))\n",
    "    #now create z_t_lag (z_(t - 1) column in macro_df)\n",
    "    macro_df['z_t_lag_2b'] = macro_df.z_t_2b.shift(1)\n",
    "    #Drop nas\n",
    "    macro_df.loc[0, 'z_t_lag_2b'] = macro_df.z_t_lag_2b[macro_df.z_t_lag_2b.notnull()].values[0]\n",
    "    \n",
    "    \n",
    "    z_t_2b = macro_df.z_t_2b.values\n",
    "    z_t_lag_2b = macro_df.z_t_lag_2b.values\n",
    "    e_t_2b = z_t_2b - (row*z_t_lag_2b) - (1-row)*mu\n",
    "    log_lik_val = log_lik_normal(e_t_2b, e_mu=0, e_sigma=sigma)\n",
    "    neg_log_lik_val = -log_lik_val\n",
    "    return neg_log_lik_val\n",
    "\n",
    "    "
   ]
  },
  {
   "cell_type": "code",
   "execution_count": 97,
   "metadata": {},
   "outputs": [
    {
     "name": "stdout",
     "output_type": "stream",
     "text": [
      "alpha_MLE= 0.7\n",
      "row_MLE= 0.48\n",
      "mu_MLE= 0.57\n",
      "sigma_MLE= 0.09\n"
     ]
    }
   ],
   "source": [
    "# #rick's answers commented\n",
    "# alpha_init = 0.5 #.7\n",
    "# row_init = .5 #.48\n",
    "# mu_init = 8.93 #.57\n",
    "# sigma_init = 0.126 #.09\n",
    "\n",
    "alpha_init = 0.7\n",
    "row_init = .48\n",
    "mu_init = .57\n",
    "sigma_init = 0.09 #.09\n",
    "\n",
    "params_init = np.array([alpha_init, row_init, mu_init, sigma_init])\n",
    "mle_args = macro_df.c_t.values, macro_df.k_t.values, macro_df.w_t.values, macro_df.r_t.values\n",
    "results_b = opt.minimize(normal_crit_2b, params_init, args=(mle_args), method = 'L-BFGS-B',\n",
    "                      bounds = ((1e-10,1 - 1e-10), (-1 + 1e-10,1 - 1e-10), (1e-10, None), (1e-10, None)), \n",
    "                        options = {'ftol': 1e-20})\n",
    "alpha_MLE_b = results_b.x[0]\n",
    "row_MLE_b = results_b.x[1]\n",
    "mu_MLE_b = results_b.x[2]\n",
    "sigma_MLE_b = results_b.x[3]\n",
    "\n",
    "\n",
    "\n",
    "print('alpha_MLE=', alpha_MLE_b)\n",
    "print('row_MLE=', row_MLE_b)\n",
    "print('mu_MLE=', mu_MLE_b)\n",
    "print('sigma_MLE=', sigma_MLE_b)\n"
   ]
  },
  {
   "cell_type": "code",
   "execution_count": 89,
   "metadata": {},
   "outputs": [
    {
     "name": "stdout",
     "output_type": "stream",
     "text": [
      "Inverse Hessian Results\n"
     ]
    },
    {
     "data": {
      "text/plain": [
       "array([[1., 0., 0., 0.],\n",
       "       [0., 1., 0., 0.],\n",
       "       [0., 0., 1., 0.],\n",
       "       [0., 0., 0., 1.]])"
      ]
     },
     "execution_count": 89,
     "metadata": {},
     "output_type": "execute_result"
    }
   ],
   "source": [
    "print('Inverse Hessian Results')\n",
    "results_b.hess_inv.todense()"
   ]
  },
  {
   "cell_type": "code",
   "execution_count": 274,
   "metadata": {},
   "outputs": [
    {
     "data": {
      "text/plain": [
       "      fun: -96.70950310225443\n",
       " hess_inv: <4x4 LbfgsInvHessProduct with dtype=float64>\n",
       "      jac: array([ 0.00087965, -0.00104592, -0.01734577,  0.002305  ])\n",
       "  message: b'CONVERGENCE: REL_REDUCTION_OF_F_<=_FACTR*EPSMCH'\n",
       "     nfev: 140\n",
       "      nit: 19\n",
       "   status: 0\n",
       "  success: True\n",
       "        x: array([0.48273438, 0.70159414, 8.9187659 , 0.09199394])"
      ]
     },
     "execution_count": 274,
     "metadata": {},
     "output_type": "execute_result"
    }
   ],
   "source": [
    "results_b"
   ]
  },
  {
   "cell_type": "markdown",
   "metadata": {},
   "source": [
    "### 2c"
   ]
  },
  {
   "cell_type": "markdown",
   "metadata": {},
   "source": [
    "what is the probability that the interest\n",
    "rate this period will be greater than rt = 1. That is, solve for Pr(rt >\n",
    "1|theta hat; kt; zt-1). [HINT: Use equation (4) to solve for the zt = z* such that\n",
    "rt = 1. Then use (5) to solve for the probability that zt > z*\n",
    ".]"
   ]
  },
  {
   "cell_type": "markdown",
   "metadata": {},
   "source": [
    "$$r_t - \\alpha e^{z_t}(k_t)^{\\alpha - 1} = 0$$\n",
    "$$r_t = 1, k_t = 7,500,000$$\n",
    "$$z_t = \\ln(\\frac{1}{\\alpha} 7,500,000^{1-\\alpha})$$\n",
    "$$\\epsilon_t = \\ln(\\frac{1}{\\alpha} 7,500,000^{1-\\alpha}) - \\rho *10 - (1-\\rho)\\mu$$\n",
    "\n",
    "We are interested in solving:\n",
    "$$ LR(\\tilde{\\theta}|\\hat{\\theta}_{MLE}, k_t, z_{t-1}) = 2\\Bigl(\\ln\\ell(\\hat{\\theta}_{MLE}) - \\ln\\ell(\\tilde{\\theta})\\Bigr) \\sim \\chi^2(p) $$"
   ]
  },
  {
   "cell_type": "markdown",
   "metadata": {},
   "source": [
    "1. we will create a new crit function using the equation derived above.\n",
    "2. we will back out an estimate for $\\hat{\\theta}$\n",
    "3. We will compare the likelihoods of the new estimate of $\\hat{\\theta}$ and the estimate from part 2a."
   ]
  },
  {
   "cell_type": "code",
   "execution_count": 275,
   "metadata": {},
   "outputs": [],
   "source": [
    "from scipy.stats import norm\n",
    "r_0 = 1\n",
    "k_t = 7500000\n",
    "z_t_1 = 10\n",
    "z_star = np.log((k_t**(1-alpha_MLE_a))/alpha_MLE_a)\n",
    "err_term = z_star - row_MLE_a*z_t_1 - (1-row_MLE_a)*mu_MLE_a\n",
    "cdf_val = norm.cdf(err_term, 0, sigma_MLE_a)\n",
    "prob_h0 = 1 - cdf_val"
   ]
  },
  {
   "cell_type": "code",
   "execution_count": 276,
   "metadata": {},
   "outputs": [
    {
     "name": "stdout",
     "output_type": "stream",
     "text": [
      "z star 9.289546123624167\n",
      "error term -0.5582956573471445\n",
      "Probability:  0.9999999993565916\n"
     ]
    }
   ],
   "source": [
    "print('z star', z_star)\n",
    "print('error term', err_term)\n",
    "print('Probability: ', prob_h0)"
   ]
  },
  {
   "cell_type": "code",
   "execution_count": null,
   "metadata": {},
   "outputs": [],
   "source": [
    "#scratch work for this part\n",
    "# def normal_crit_2c(params, *data):\n",
    "#     alpha, row, mu, sigma = params\n",
    "#     c_t, k_t, w_t, r_t = data\n",
    "#     #plug in values for r_t and k_t\n",
    "#     macro_df['z_t_2c'] = np.log((1/alpha)*(7_500_000)**(1-alpha))\n",
    "#     #now create z_t_lag (z_(t - 1) column in macro_df)\n",
    "#     macro_df['z_t_lag_2c'] = macro_df.z_t_2c.shift(1)\n",
    "#     macro_df['z_t_lag_2c']=10\n",
    "#     #Drop nas\n",
    "#     macro_df.loc[0, 'z_t_lag_2c'] = macro_df.z_t_lag_2c[macro_df.z_t_lag_2c.notnull()].values[0]\n",
    "    \n",
    "    \n",
    "#     z_t_2c = macro_df.z_t_2c.values\n",
    "#     z_t_lag_2c = macro_df.z_t_lag_2c.values\n",
    "#     e_t_2c = z_t_2c - (row*z_t_lag_2c) - (1-row)*mu\n",
    "#     log_lik_val = log_lik_normal(e_t_2c, e_mu=0, e_sigma=sigma)\n",
    "#     neg_log_lik_val = -log_lik_val\n",
    "#     return neg_log_lik_val\n",
    "\n",
    "    "
   ]
  },
  {
   "cell_type": "code",
   "execution_count": null,
   "metadata": {},
   "outputs": [],
   "source": [
    "# # Can't find a good initial guess\n",
    "# alpha_init = 0.5\n",
    "# row_init = .5\n",
    "# mu_init = 8.93\n",
    "# sigma_init = 0.126\n",
    "\n",
    "# params_init = np.array([alpha_init, row_init, mu_init, sigma_init])\n",
    "# mle_args = macro_df.c_t.values, macro_df.k_t.values, macro_df.w_t.values, macro_df.r_t.values\n",
    "# results_c = opt.minimize(normal_crit_2c, params_init, args=(mle_args), method = 'L-BFGS-B',\n",
    "#                       bounds = ((1e-10,1 - 1e-10), (-1 + 1e-10,1 - 1e-10), (1e-10, None), (1e-10, None)))\n",
    "# alpha_MLE_c = results_b.x[0]\n",
    "# row_MLE_c = results_b.x[1]\n",
    "# mu_MLE_c = results_b.x[2]\n",
    "# sigma_MLE_c = results_b.x[3]\n",
    "\n",
    "\n",
    "\n",
    "# print('alpha_MLE=', alpha_MLE_c)\n",
    "# print('row_MLE=', row_MLE_c)\n",
    "# print('mu_MLE=', mu_MLE_c)\n",
    "# print('sigma_MLE=', sigma_MLE_c)\n",
    "\n"
   ]
  },
  {
   "cell_type": "code",
   "execution_count": null,
   "metadata": {},
   "outputs": [],
   "source": [
    "# k_t_current = 7_500_000\n",
    "# z_t_minus_1 = 10\n",
    "\n",
    "# #Since we are interested in r_t > 1 and not r_t > = 1, we must subtract the probability at r_t = 1\n",
    "\n",
    "\n",
    "# log_lik_h0_c = log_lik_normal(pts, e_mu = 0, e_sigma = sigma_MLE_c)\n",
    "# log_lik_mle_a = log_lik_normal(pts, e_mu = 0, e_sigma = sigma_MLE_a)\n",
    "# LR_val = 2 * (log_lik_mle_a - log_lik_h0_c)\n",
    "# pval_h0 = 1.0 - sts.chi2.cdf(LR_val, 2)\n",
    "# print('chi squared of H0 with 2 degrees of freedom p-value = ', pval_h0)"
   ]
  }
 ],
 "metadata": {
  "kernelspec": {
   "display_name": "Python 3",
   "language": "python",
   "name": "python3"
  },
  "language_info": {
   "codemirror_mode": {
    "name": "ipython",
    "version": 3
   },
   "file_extension": ".py",
   "mimetype": "text/x-python",
   "name": "python",
   "nbconvert_exporter": "python",
   "pygments_lexer": "ipython3",
   "version": "3.7.1"
  }
 },
 "nbformat": 4,
 "nbformat_minor": 2
}
