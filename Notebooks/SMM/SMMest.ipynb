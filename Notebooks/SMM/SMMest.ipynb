{
 "cells": [
  {
   "cell_type": "markdown",
   "metadata": {},
   "source": [
    "# Simulated Method of Moments (SMM) Estimation\n",
    "### by [Richard W. Evans](https://sites.google.com/site/rickecon/), February 2020\n",
    "The code in this Jupyter notebook was written using Python 3.7. It also uses data file `Econ381totpts.txt` and the image file `MLEplots.png`. This data file and image file are stored along with the Jupyter notebook file `SMMest.ipynb` in the public GitHub repository [https://github.com/rickecon/Notebooks/tree/master/SMM](https://github.com/rickecon/Notebooks/tree/master/SMM).\n",
    "\n",
    "For teaching and learning purposes, it is best to clear all cell output by selecting `Cell` then `All Output` then `Clear` from the menu across the top of this notebook. However, this notebook comes with all the cells' output displayed."
   ]
  },
  {
   "cell_type": "markdown",
   "metadata": {},
   "source": [
    "## 1. The SMM estimator\n",
    "Simulated method of moments (SMM) is analogous to the generalized method of moments (GMM) estimator. SMM could really be thought of as a particular type of GMM estimator. The SMM estimator chooses model parameters $\\theta$ to make simulated model moments match data moments. Seminal papers developing SMM are McFadden (1989), Lee and Ingram (1991), and Duffie and Singleton (1993). Good textbook treatments of SMM are found in Adda and Cooper (2003, pp. 87-100) and Davidson and MacKinnon (2004, pp. 383-394).\n",
    "\n",
    "In ML estimation, we used data $x$ and model parameters $\\theta$ to maximize the likelihood of drawing that data $x$ from the model given parameters $\\theta$.\n",
    "\n",
    "$$ \\hat{\\theta}_{ML} = \\theta:\\quad \\max_{\\theta}\\ln\\mathcal{L} = \\sum_{i=1}^N\\ln\\Bigl(f(x_i|\\theta)\\Bigr) $$\n",
    "\n",
    "In GMM estimation, we used data $x$ and model parameters $\\theta$ to minimize the distance between model moments $m(x|\\theta)$ and data moments $m(x)$.\n",
    "\n",
    "$$ \\hat{\\theta}_{GMM} = \\theta:\\quad \\min_{\\theta}||m(x|\\theta) - m(x)|| $$\n",
    "\n",
    "The following difficulties can arise with GMM making it not possible or very difficult.\n",
    "\n",
    "* The model moment function $m(x|\\theta)$ is not known analytically.\n",
    "* The data moments you are trying to match come from another model (indirect inference).\n",
    "* The model moments $m(x|\\theta)$ are derived from *latent variables* that are not observed by the modeler. You only have moments, not the underlying data. See Laroque and Salanie (1993).\n",
    "* The model moments $m(x|\\theta)$ are derived from *censored variables* that are only partially observed by the modeler.\n",
    "* The model moments $m(x|\\theta)$ are just difficult to derive analytically. Examples include moments that include multiple integrals over nonlinear functions as in McFadden (1989).\n",
    "\n",
    "SMM estimation is simply to simulate the model data $S$ times, and use the average values of the moments from the simulated data as the estimator for the model moments. Let $\\tilde{x}=\\{\\tilde{x}_1,\\tilde{x}_2,...\\tilde{x}_s,...\\tilde{x}_S\\}$ be the $S$ simulations of the model data.  \n",
    "\n",
    "$$ \\hat{m}\\left(\\tilde{x}|\\theta\\right) = \\frac{1}{S}\\sum_{s=1}^S m\\left(\\tilde{x}_s|\\theta\\right) $$\n",
    "\n",
    "Once we have an estimate of the model moments $\\hat{m}\\left(\\tilde{x}|\\theta\\right)$ from our $S$ simulations, SMM estimation is very similar to our presentation of GMM. The SMM approach of estimating the parameter vector $\\hat{\\theta}_{SMM}$ is to choose $\\theta$ to minimize some distance measure of the data moments $m(x)$ from the simulated model moments $\\hat{m}(\\tilde{x}|\\theta)$.\n",
    "\n",
    "$$ \\hat{\\theta}_{SMM}=\\theta:\\quad \\min_{\\theta}\\: ||\\hat{m}(\\tilde{x}|\\theta)-m(x)|| $$\n",
    "\n",
    "The distance measure $||\\hat{m}(\\tilde{x}|\\theta)-m(x)||$ can be any kind of norm. But it is important to recognize that your estimates $\\hat{\\theta}_{SMM}$ will be dependent on what distance measure (norm) you choose. The most widely studied and used distance metric in GMM and SMM estimation is the $L^2$ norm or the sum of squared errors in moments. Define the moment error function $e(\\tilde{x},x|\\theta)$ as the percent difference in the vector of simulated model moments from the data moments.\n",
    "\n",
    "$$ e(\\tilde{x},x|\\theta) \\equiv \\frac{\\hat{m}(\\tilde{x}|\\theta)-m(x)}{m(x)} \\quad\\text{or}\\quad \\hat{m}(\\tilde{x}|\\theta)-m(x) $$\n",
    "\n",
    "It is important that the error function $e(\\tilde{x},x|\\theta)$ be a percent deviation of the moments (given that none of the data moments are 0). This puts all the moments in the same units, which helps make sure that no moments receive unintended weighting simply due to its units. This ensures that the problem is scaled properly and will suffer from as little as possible ill conditioning.\n",
    "\n",
    "In this case, the SMM estimator is the following,\n",
    "\n",
    "$$ \\hat{\\theta}_{SMM}=\\theta:\\quad \\min_{\\theta}\\:e(\\tilde{x},x|\\theta)^T \\, W \\, e(\\tilde{x},x|\\theta) $$\n",
    "\n",
    "where $W$ is a $R\\times R$ weighting matrix in the criterion function. For now, think of this weighting matrix as the identity matrix. But we will show in Section 2 a more optimal weighting matrix. We call the quadratic form expression $e(\\tilde{x},x|\\theta)^T \\, W \\, e(\\tilde{x},x|\\theta)$ the *criterion function* because it is a strictly positive scalar that is the object of the minimization in the SMM problem statement. The $R\\times R$ weighting matrix $W$ in the criterion function allows the econometrician to control how each moment is weighted in the minimization problem. For example, an $R\\times R$ identity matrix for $W$ would give each moment equal weighting, and the criterion function would be a simply sum of squared percent deviations (errors). Other weighting strategies can be dictated by the nature of the problem or model.\n",
    "\n",
    "One last item to emphasize with SMM, which we will highlight in the examples in this notebook, is that the errors that are drawn for the $S$ simulations of the model must be drawn only once so that the minimization problem for $\\hat{\\theta}_{SMM}$ does not have the underlying sampling changing for each guess of a value of $\\theta$. Put more simply, you want the random draws for all the simulations to be held constant so that the only thing changing in the minimization problem is the value of the vector of parameters $\\theta$."
   ]
  },
  {
   "cell_type": "markdown",
   "metadata": {},
   "source": [
    "## 2. The Weighting Matrix (W)\n",
    "In the SMM criterion function in the problem statement above, some weighting matrices $W$ produce precise estimates while others produce poor estimates with large variances. We want to choose the optimal weighting matrix $W$ with the smallest possible asymptotic variance. This is an efficient or optimal SMM estimator. The optimal weighting matrix is the inverse variance covariance matrix of the moments at the optimal moments,\n",
    "\n",
    "$$ W^{opt} \\equiv \\Omega^{-1}(\\tilde{x},x|\\hat{\\theta}_{SMM}) $$\n",
    "\n",
    "where $\\Omega(\\tilde{x},x|\\theta)$ is the variance covariance matrix of the moment condition errors $e(\\tilde{x},x|\\theta)$. The intuition for using the inverse variance covariance matrix $\\Omega^{-1}$ as the optimal weighting matrix is the following. You want to downweight moments that have a high variance, and you want to weight more heavily the moments that are generated more precisely.\n",
    "\n",
    "Notice that this definition of the optimal weighting matrix is circular. $W^{opt}$ is a function of the SMM estimates $\\hat{\\theta}_{SMM}$, but the optimal weighting matrix is used in the estimation of $\\hat{\\theta}_{SMM}$. This means that one has to use some kind of iterative fixed point method to find the true optimal weighting matrix $W^{opt}$. Below are some examples of weighting matrices to use."
   ]
  },
  {
   "cell_type": "markdown",
   "metadata": {},
   "source": [
    "### 2.1. The identity matrix (W = I)\n",
    "Many times, you can get away with just using the identity matrix as your weighting matrix $W = I$. This changes the criterion function to a simple sum of squared error functions such that each moment has the same weight.\n",
    "\n",
    "$$ \\hat{\\theta}_{SMM}=\\theta:\\quad \\min_{\\theta}\\:e(\\tilde{x},x|\\theta)^T \\, e(\\tilde{x},x|\\theta) $$\n",
    "\n",
    "If the problem is well conditioned and well identified, then your SMM estimates $\\hat{\\theta}_{SMM}$ will not be greatly affected by this simplest of weighting matrices."
   ]
  },
  {
   "cell_type": "markdown",
   "metadata": {},
   "source": [
    "### 2.2. Two-step variance covariance estimator of W\n",
    "The most common method of estimating the optimal weighting matrix for SMM estimates is the two-step variance covariance estimator. The name \"two-step\" refers to the two steps used to get the weighting matrix.\n",
    "\n",
    "The first step is to estimate the SMM parameter vector $\\hat{\\theta}_{1,SMM}$ using the simple identity matrix as the weighting matrix $W = I$.\n",
    "\n",
    "$$ \\hat{\\theta}_{1,SMM}=\\theta:\\quad \\min_{\\theta}\\:e(\\tilde{x},x|\\theta)^T \\, I \\, e(\\tilde{x},x|\\theta) $$\n",
    "\n",
    "Because we are simulating data, we can generate an estimator for the variance covariance matrix of the moment error vector $\\hat{\\Omega}$ using just the simulated data moments and the data moments. This $E(\\tilde{x},x|\\theta)$ matrix represents the contribution of the $s$th simulated moment to the $r$th moment error. Define $E(\\tilde{x},x|\\theta)$ as the $R\\times S$ matrix of moment error functions from each simulation.\n",
    "\n",
    "$$ E(\\tilde{x},x|\\theta) =\n",
    "  \\begin{bmatrix}\n",
    "    m_1(\\tilde{x}_1|\\theta) - m_1(x) & m_1(\\tilde{x}_2|\\theta) - m_1(x) & ... & m_1(\\tilde{x}_S|\\theta) - m_1(x) \\\\\n",
    "    m_2(\\tilde{x}_1|\\theta) - m_2(x) & m_2(\\tilde{x}_2|\\theta) - m_2(x) & ... & m_2(\\tilde{x}_S|\\theta) - m_2(x) \\\\\n",
    "    \\vdots & \\vdots & \\ddots & \\vdots \\\\\n",
    "    m_R(\\tilde{x}_1|\\theta) - m_R(x) & m_R(\\tilde{x}_2|\\theta) - m_R(x) & ... & m_R(\\tilde{x}_S|\\theta) - m_R(x) \\\\\n",
    "  \\end{bmatrix} $$\n",
    "\n",
    "where $m_r(x)$ is the $r$th data moment which is constant across each row, and $m_r(\\tilde{x}_s|\\theta)$ is the $r$th model moment from the $s$th simulation which are changing across each row. When the errors are percent deviations, the $E(\\tilde{x},x|\\theta)$ matrix is the following.\n",
    "\n",
    "$$ E(\\tilde{x},x|\\theta) =\n",
    "  \\begin{bmatrix}\n",
    "    \\frac{m_1(\\tilde{x}_1|\\theta) - m_1(x)}{m_1(x)} & \\frac{m_1(\\tilde{x}_2|\\theta) - m_1(x)}{m_1(x)} & ... & \\frac{m_1(\\tilde{x}_S|\\theta) - m_1(x)}{m_1(x)} \\\\\n",
    "    \\frac{m_2(\\tilde{x}_1|\\theta) - m_2(x)}{m_2(x)} & \\frac{m_2(\\tilde{x}_2|\\theta) - m_2(x)}{m_2(x)} & ... & \\frac{m_2(\\tilde{x}_S|\\theta) - m_2(x)}{m_2(x)} \\\\\n",
    "    \\vdots & \\vdots & \\ddots & \\vdots \\\\\n",
    "    \\frac{m_R(\\tilde{x}_1|\\theta) - m_R(x)}{m_R(x)} & \\frac{m_R(\\tilde{x}_2|\\theta) - m_R(x)}{m_R(x)} & ... & \\frac{m_R(\\tilde{x}_S|\\theta) - m_R(x)}{m_R(x)} \\\\\n",
    "  \\end{bmatrix} $$\n",
    "\n",
    "where the denominator of the percentage deviation or baseline is the model moment that does not change. We use the $E(\\tilde{x},x|\\theta)$ data matrix and the Step 1 SMM estimate $e(x|\\hat{\\theta}_{1,SMM})$ to get a new estimate of the variance covariance matrix.\n",
    "\n",
    "$$ \\hat{\\Omega}_2 = \\frac{1}{S}E(\\tilde{x},x|\\hat{\\theta}_{1,SMM})\\,E(\\tilde{x},x|\\hat{\\theta}_{1,SMM})^T $$\n",
    "  \n",
    "This is simply saying that the $(r,s)$-element of the estimator of the variance-covariance matrix of the moment vector is the following.\n",
    "\n",
    "$$\\hat{\\Omega}_{r,s} = \\frac{1}{S}\\sum_{i=1}^S\\Bigl[m_r(\\tilde{x}_i|\\theta) - m_{r}(x)\\Bigr]\\Bigl[ m_s(\\tilde{x}_i|\\theta) - m_s(x)\\Bigr] $$\n",
    "\n",
    "The optimal weighting matrix is the inverse of the two-step variance covariance matrix.\n",
    "\n",
    "$$ \\hat{W}^{two-step} \\equiv \\hat{\\Omega}_2^{-1} $$\n",
    "\n",
    "Lastly, re-estimate the SMM estimator using the optimal two-step weighting matrix.\n",
    "\n",
    "$$ \\hat{\\theta}_{2,SMM}=\\theta:\\quad \\min_{\\theta}\\:e(\\tilde{x},x|\\theta)^T \\, \\hat{W}^{two-step} \\, e(\\tilde{x},x|\\theta) $$\n",
    "\n",
    "$\\hat{\\theta}_{2, SMM}$ is called the two-step SMM estimator."
   ]
  },
  {
   "cell_type": "markdown",
   "metadata": {},
   "source": [
    "### 2.3. Iterated variance covariance estimator of W\n",
    "The truly optimal weighting matrix $W^{opt}$ is the iterated variance-covariance estimator of $W$. This procedure is to just repeat the process described in the two-step SMM estimator until the estimated weighting matrix no longer changes between iterations. Let $i$ index the $i$th iterated SMM estimator,\n",
    "\n",
    "$$ \\hat{\\theta}_{i, SMM}=\\theta:\\quad \\min_{\\theta}\\:e(\\tilde{x},x|\\theta)^T \\, \\hat{W}_{i} \\, e(\\tilde{x},x|\\theta) $$\n",
    "\n",
    "and the $i+1$th estimate of the optimal weighting matrix is defined as the following.\n",
    "\n",
    "$$ \\hat{W}_{i+1} \\equiv \\hat{\\Omega}_{i+1} = \\frac{1}{S}E(\\tilde{x},x|\\hat{\\theta}_{i,SMM})\\,E(\\tilde{x},x|\\hat{\\theta}_{i,SMM})^T $$\n",
    "\n",
    "The iterated SMM estimator is the $\\hat{\\theta}_{i,SMM}$ such that $\\hat{W}_{i+1}$ is very close to $\\hat{W}_{i}$ for some distance metric (norm).\n",
    "\n",
    "$$ \\hat{\\theta}_{it,SMM} = \\hat{\\theta}_{i,SMM}: \\quad || \\hat{W}_{i+1} - \\hat{W}_{i} || < \\varepsilon $$"
   ]
  },
  {
   "cell_type": "markdown",
   "metadata": {},
   "source": [
    "### 2.4. Newey-West consistent estimator of $\\Omega$ and W\n",
    "The Newey-West estimator of the optimal weighting matrix and variance covariance matrix is consistent in the presence of heteroskedasticity and autocorrelation in the data (See Newey and West, 1987). Adda and Cooper (2003, p. 82) have a nice exposition of how to compute the Newey-West weighting matrix $\\hat{W}_{nw}$. The asymptotic representation of the optimal weighting matrix $\\hat{W}^{opt}$ is the following:\n",
    "\n",
    "$$ \\hat{W}^{opt} = \\lim_{S\\rightarrow\\infty}\\frac{1}{S}\\sum_{i=1}^S \\sum_{l=-\\infty}^\\infty E(\\tilde{x}_i,x|\\theta)E(\\tilde{x}_{i-l},x|\\theta)^T $$\n",
    "\n",
    "The Newey-West consistend estimator of $\\hat{W}^{opt}$ is:\n",
    "\n",
    "$$ \\hat{W}_{nw} = \\Gamma_{0,S} + \\sum_{v=1}^q \\left(1 - \\left[\\frac{v}{q+1}\\right]\\right)\\left(\\Gamma_{v,S} + \\Gamma^T_{v,S}\\right) $$\n",
    "\n",
    "where\n",
    "\n",
    "$$ \\Gamma_{v,S} = \\frac{1}{S}\\sum_{i=v+1}^S E(\\tilde{x}_i,x|\\theta)E(\\tilde{x}_{i-v},x|\\theta)^T $$\n",
    "\n",
    "Of course, for autocorrelation, the subscript $i$ can be changed to $t$."
   ]
  },
  {
   "cell_type": "markdown",
   "metadata": {},
   "source": [
    "## 3. The SMM Variance-Covariance Estimator of the Estimated Parameters\n",
    "The estimated variance-covariance matrix $\\hat{\\Sigma}$ of the estimated parameter vector $\\hat{\\theta}_{SMM}$ is different from the variance-covariance matrix $\\hat{\\Omega}$ of the $R\\times 1$ moment vector $e(\\tilde{x},x|\\theta)$ from the previous section. Recall that each element of $e(\\tilde{x},x|\\theta)$ is an average moment error across all simulations. $\\hat{\\Omega}$ from the previous section is the $R\\times R$ variance-covariance matrix of the $R$ moment errors used to identify the $K$ parameters $\\theta$ to be estimated. The estimated variance-covariance matrix of the estimated parameter vector $\\hat{\\Sigma}$ is a $K\\times K$ matrix. We say the model is exactly identified if $K = R$. We say the model is overidentified if $K<R$.\n",
    "\n",
    "Similar to the inverse Hessian estimator of the variance-covariance matrix of the maximum likelihood estimator from the [maximum likelihood estimation notebook](https://github.com/rickecon/Notebooks/blob/master/MLE/MLest.ipynb), the SMM variance-covariance matrix is related to the derivative of the criterion function with respect to each parameter. The intuition is that if the second derivative of the criterion function with respect to the parameters is large, there is a lot of curvature around the criterion minimizing estimate. In other words, the parameters of the model are precisely estimated. The inverse of the Hessian matrix will be small."
   ]
  },
  {
   "cell_type": "markdown",
   "metadata": {},
   "source": [
    "calculate hessian for criterion function, across each row you are looking at chnange in error vector wrt parameters. \n",
    "Down each col, you are looking at change in diff. moments\n",
    "Instead of divide by N, divide by root S for the plim part\n",
    "THe estimator of the dTWd-1 "
   ]
  },
  {
   "cell_type": "markdown",
   "metadata": {},
   "source": [
    "Define $R\\times K$ matrix $d(\\tilde{x},x|\\theta)$ as the Jacobian matrix of derivatives of the $R\\times 1$ error vector $e(\\tilde{x},x|\\theta)$.\n",
    "\n",
    "\\begin{equation}\n",
    "  d(\\tilde{x},x|\\theta) \\equiv\n",
    "    \\begin{bmatrix}\n",
    "      \\frac{\\partial e_1(\\tilde{x},x|\\theta)}{\\partial \\theta_1} & \\frac{\\partial e_1(\\tilde{x},x|\\theta)}{\\partial \\theta_2} & ... & \\frac{\\partial e_1(\\tilde{x},x|\\theta)}{\\partial \\theta_K} \\\\\n",
    "      \\frac{\\partial e_2(\\tilde{x},x|\\theta)}{\\partial \\theta_1} & \\frac{\\partial e_2(\\tilde{x},x|\\theta)}{\\partial \\theta_2} & ... & \\frac{\\partial e_2(\\tilde{x},x|\\theta)}{\\partial \\theta_K} \\\\\n",
    "      \\vdots & \\vdots & \\ddots & \\vdots \\\\\n",
    "      \\frac{\\partial e_R(\\tilde{x},x|\\theta)}{\\partial \\theta_1} & \\frac{\\partial e_R(\\tilde{x},x|\\theta)}{\\partial \\theta_2} & ... & \\frac{\\partial e_R(x|\\theta)}{\\partial \\theta_K}\n",
    "    \\end{bmatrix}\n",
    "\\end{equation}\n",
    "\n",
    "The SMM estimates of the parameter vector $\\hat{\\theta}_{SMM}$ are assymptotically normal. If $\\theta_0$ is the true value of the parameters, then the following holds,\n",
    "\n",
    "\\begin{equation}\n",
    "  \\text{plim}_{S\\rightarrow\\infty}\\sqrt{S}\\left(\\hat{\\theta}_{SMM} - \\theta_0\\right) \\sim \\text{N}\\left(0, \\left[d(\\tilde{x},x|\\theta)^T W d(\\tilde{x},x|\\theta)\\right]^{-1}\\right)\n",
    "\\end{equation}\n",
    "\n",
    "where $W$ is the optimal weighting matrix from the SMM criterion function. The SMM estimator for the variance-covariance matrix $\\hat{\\Sigma}_{SMM}$ of the parameter vector $\\hat{\\theta}_{SMM}$ is the following.\n",
    "\n",
    "\\begin{equation}\n",
    "  \\hat{\\Sigma}_{SMM} = \\frac{1}{S}\\left[d(\\tilde{x},x|\\theta)^T W d(\\tilde{x},x|\\theta)\\right]^{-1}\n",
    "\\end{equation}"
   ]
  },
  {
   "cell_type": "markdown",
   "metadata": {},
   "source": [
    "In the examples below, we will use a finite difference method to compute numerical versions of the Jacobian matrix $d(\\tilde{x},x|\\theta)$.\n",
    "\n",
    "$$ f'(x_0) = \\lim_{h\\rightarrow 0} \\frac{f(x_0 + h) - f(x_0)}{h} $$\n",
    "\n",
    "The following is a centered second-order numerical approximation of the derivative of a function. (See [BYU ACME numerical differentiation lab](https://github.com/UC-MACSS/persp-model-econ_W19/blob/master/Notes/ACME_NumDiff.pdf) for more details.)\n",
    "\n",
    "$$ f'(x_0) \\approx \\frac{f(x_0 + h) - f(x_0 - h)}{2h} $$"
   ]
  },
  {
   "cell_type": "markdown",
   "metadata": {},
   "source": [
    "## 4. Examples\n",
    "In this section, we will use SMM to estimate parameters of the models from the [maximum likelihood notebook](https://github.com/rickecon/Notebooks/blob/master/MLE/MLest.ipynb) and from the [GMM notebook](https://github.com/rickecon/Notebooks/blob/master/GMM/GMMest.ipynb)."
   ]
  },
  {
   "cell_type": "markdown",
   "metadata": {},
   "source": [
    "### 4.1. Fitting a truncated normal to intermediate macroeconomics test scores\n",
    "Let's revisit the problem from the MLE and GMM notebooks of fitting a truncated normal distribution to intermediate macroeconomics test scores. The data are in the text file `Econ381totpts.txt`. Recall that these test scores are between 0 and 450. The figure below shows a histogram of the data, as well as three truncated normal PDF's. The black line is the ML estimate of $\\mu$ and $\\sigma$ of the truncated normal pdf. The red and the green lines are just the PDF's of two \"arbitrarily\" chosen combinations of the truncated normal parameters $\\mu$ and $\\sigma$."
   ]
  },
  {
   "cell_type": "code",
   "execution_count": 1,
   "metadata": {},
   "outputs": [
    {
     "data": {
      "image/png": "[encoded data removed]",
      "text/plain": [
       "<IPython.core.display.Image object>"
      ]
     },
     "execution_count": 1,
     "metadata": {},
     "output_type": "execute_result"
    }
   ],
   "source": [
    "import requests\n",
    "from IPython.display import Image\n",
    "\n",
    "# Download and save the data file MLEplots.png\n",
    "url = ('https://raw.githubusercontent.com/rickecon/Notebooks/' +\n",
    "       'master/SMM/images/MLEplots.png')\n",
    "image_file = requests.get(url, allow_redirects=True)\n",
    "open('images/MLEplots.png', 'wb').write(image_file.content)\n",
    "Image('images/MLEplots.png')"
   ]
  },
  {
   "cell_type": "markdown",
   "metadata": {},
   "source": [
    "### 4.1.1. Two moments, identity weighting matrix\n",
    "Let's try estimating the parameters $\\mu$ and $\\sigma$ from the truncated normal distribution by SMM. What moments should we use? Let's try the mean and variance of the data. These two statistics of the data are defined by:\n",
    "\n",
    "$$ mean(scores_i) = \\frac{1}{N}\\sum_{i=1}^N scores_i $$\n",
    "\n",
    "$$ var(scores_i) = \\frac{1}{N-1}\\sum_{i=1}^{N} \\left(scores_i - mean(scores_i)\\right)^2 $$\n",
    "\n",
    "So the data moment vector $m(x)$ for SMM is the following.\n",
    "\n",
    "$$ m(scores_i) \\equiv \\begin{bmatrix} mean(scores_i) \\\\ var(scores_i) \\end{bmatrix} $$\n",
    "\n",
    "And the model moment vector $m(x|\\theta)$ for GMM is the following.\n",
    "\n",
    "$$ m(scores_i|\\mu,\\sigma) \\equiv \\begin{bmatrix} mean(scores_i|\\mu,\\sigma) \\\\ var(scores_i|\\mu,\\sigma) \\end{bmatrix} $$\n",
    "\n",
    "But let's assume that we need to simulate the data from the model (test scores) $S$ times in order to get the model moments. In this case, we don't need to simulate. But we will do so to show how SMM works."
   ]
  },
  {
   "cell_type": "markdown",
   "metadata": {},
   "source": [
    "What would one simulation (the $s$th simulation) of the test scores look like? There are 161 test score observations in the data file `Econ381totpts.txt`. So one simulation (the $s$th simulation) would be a draw of 161 test scores from a truncated normal distribution with parameters $\\mu$, $\\sigma$, and $cutoff=450$."
   ]
  },
  {
   "cell_type": "code",
   "execution_count": 2,
   "metadata": {},
   "outputs": [],
   "source": [
    "# Import packages and load the data\n",
    "import numpy as np\n",
    "import numpy.random as rnd\n",
    "import numpy.linalg as lin\n",
    "import scipy.stats as sts\n",
    "import scipy.integrate as intgr\n",
    "import scipy.optimize as opt\n",
    "import matplotlib\n",
    "import matplotlib.pyplot as plt\n",
    "from mpl_toolkits.mplot3d import Axes3D\n",
    "from matplotlib import cm\n",
    "cmap1 = matplotlib.cm.get_cmap('summer')\n",
    "# This next command is specifically for Jupyter Notebook\n",
    "%matplotlib notebook"
   ]
  },
  {
   "cell_type": "code",
   "execution_count": 3,
   "metadata": {},
   "outputs": [],
   "source": [
    "# Download and save the data file Econ381totpts.txt\n",
    "url = ('https://raw.githubusercontent.com/rickecon/Notebooks/' +\n",
    "       'master/SMM/data/Econ381totpts.txt')\n",
    "data_file = requests.get(url, allow_redirects=True)\n",
    "open('data/Econ381totpts.txt', 'wb').write(data_file.content)\n",
    "\n",
    "# Load the data as a NumPy array\n",
    "pts = np.loadtxt('data/Econ381totpts.txt')"
   ]
  },
  {
   "cell_type": "markdown",
   "metadata": {},
   "source": [
    "Let random variable $y\\sim N(\\mu,\\sigma)$ be distributed normally with mean $\\mu$ and standard deviation $\\sigma$ with PDF given by $\\phi(y|\\mu,\\sigma)$ and CDF given by $\\Phi(y|\\mu,\\sigma)$. The truncated normal distribution of random variable $x\\in(a,b)$ based on $y$ but with cutoff values of $a\\geq -\\infty$ as a lower bound and $a < b\\leq\\infty$ as an upper bound has the following probability density function.\n",
    "\n",
    "This is analytical specification of trunc. normal distribution\n",
    "\n",
    "$$ f(x|\\mu,\\sigma,a,b) = \\begin{cases} 0 \\quad\\text{if}\\quad x\\leq a \\\\ \\frac{\\phi(x|\\mu,\\sigma)}{\\Phi(b|\\mu,\\sigma) - \\Phi(a|\\mu,\\sigma)}\\quad\\text{if}\\quad a < x < b \\\\ 0 \\quad\\text{if}\\quad x\\geq b \\end{cases} $$\n",
    "\n",
    "The CDF of the truncated normal can be shown to be the following:\n",
    "\n",
    "$$ F(x|\\mu,\\sigma,a,b) = \\begin{cases} 0 \\quad\\text{if}\\quad x\\leq a \\\\ \\frac{\\Phi(x|\\mu,\\sigma) - \\Phi(a|\\mu,\\sigma)}{\\Phi(b|\\mu,\\sigma) - \\Phi(a|\\mu,\\sigma)}\\quad\\text{if}\\quad a < x < b \\\\ 0 \\quad\\text{if}\\quad x\\geq b \\end{cases} $$\n",
    "\n",
    "The inverse CDF of the truncated normal takes a value $p$ between 0 and 1 and solves for the value of $x$ for which $p=F(x|\\mu,\\sigma,a,b)$. The expression for the inverse CDF of the truncated normal is the following:\n",
    "\n",
    "$$ x = \\Phi^{-1}(z|\\mu,\\sigma) \\quad\\text{where}\\quad z = p\\Bigl[\\Phi(b|\\mu,\\sigma) - \\Phi(a|\\mu,\\sigma)\\Bigr] + \\Phi(a|\\mu,\\sigma) $$\n",
    "\n",
    "Note that $z$ is just a transformation of $p$ such that $z\\sim U\\Bigl(\\Phi^{-1}(a|\\mu,\\sigma), \\Phi^{-1}(b|\\mu,\\sigma)\\Bigr)$."
   ]
  },
  {
   "cell_type": "code",
   "execution_count": 4,
   "metadata": {},
   "outputs": [],
   "source": [
    "# Define function that generates values of a normal pdf\n",
    "def trunc_norm_pdf(xvals, mu, sigma, cut_lb, cut_ub):\n",
    "    '''\n",
    "    --------------------------------------------------------------------\n",
    "    Generate pdf values from the normal pdf with mean mu and standard\n",
    "    deviation sigma. If the cutoff is given, then the PDF values are\n",
    "    inflated upward to reflect the zero probability on values above the\n",
    "    cutoff. If there is no cutoff given, this function does the same\n",
    "    thing as sp.stats.norm.pdf(x, loc=mu, scale=sigma).\n",
    "    --------------------------------------------------------------------\n",
    "    INPUTS:\n",
    "    xvals  = (N,) vector, values of the normally distributed random\n",
    "             variable\n",
    "    mu     = scalar, mean of the normally distributed random variable\n",
    "    sigma  = scalar > 0, standard deviation of the normally distributed\n",
    "             random variable\n",
    "    cut_lb = scalar or string, ='None' if no cutoff is given, otherwise\n",
    "             is scalar lower bound value of distribution. Values below\n",
    "             this value have zero probability\n",
    "    cut_ub = scalar or string, ='None' if no cutoff is given, otherwise\n",
    "             is scalar upper bound value of distribution. Values above\n",
    "             this value have zero probability\n",
    "    \n",
    "    OTHER FUNCTIONS AND FILES CALLED BY THIS FUNCTION: None\n",
    "    \n",
    "    OBJECTS CREATED WITHIN FUNCTION:\n",
    "    prob_notcut = scalar \n",
    "    pdf_vals = (N,) vector, normal PDF values for mu and sigma\n",
    "               corresponding to xvals data\n",
    "    \n",
    "    FILES CREATED BY THIS FUNCTION: None\n",
    "    \n",
    "    RETURNS: pdf_vals\n",
    "    --------------------------------------------------------------------\n",
    "    '''\n",
    "    if cut_ub == 'None' and cut_lb == 'None':\n",
    "        prob_notcut = 1.0\n",
    "    elif cut_ub == 'None' and cut_lb != 'None':\n",
    "        prob_notcut = 1.0 - sts.norm.cdf(cut_lb, loc=mu, scale=sigma)\n",
    "    elif cut_ub != 'None' and cut_lb == 'None':\n",
    "        prob_notcut = sts.norm.cdf(cut_ub, loc=mu, scale=sigma)\n",
    "    elif cut_ub != 'None' and cut_lb != 'None':\n",
    "        prob_notcut = (sts.norm.cdf(cut_ub, loc=mu, scale=sigma) -\n",
    "                       sts.norm.cdf(cut_lb, loc=mu, scale=sigma))\n",
    "            \n",
    "    pdf_vals    = ((1/(sigma * np.sqrt(2 * np.pi)) *\n",
    "                    np.exp( - (xvals - mu)**2 / (2 * sigma**2))) /\n",
    "                    prob_notcut)\n",
    "    \n",
    "    return pdf_vals"
   ]
  },
  {
   "cell_type": "code",
   "execution_count": 5,
   "metadata": {},
   "outputs": [],
   "source": [
    "# Define function that draws N x S test score values from a truncated\n",
    "# normal distribution\n",
    "def trunc_norm_draws(unif_vals, mu, sigma, cut_lb, cut_ub):\n",
    "    #feed in same unif_vals always but minimizer will feed in diff mu and sigma\n",
    "    '''\n",
    "    --------------------------------------------------------------------\n",
    "    Draw (N x S) matrix of random draws from a truncated normal\n",
    "    distribution based on a normal distribution with mean mu and\n",
    "    standard deviation sigma and cutoffs (cut_lb, cut_ub). These draws\n",
    "    correspond to an (N x S) matrix of randomly generated draws from a\n",
    "    uniform distribution U(0,1).\n",
    "    --------------------------------------------------------------------\n",
    "    INPUTS:\n",
    "    unif_vals = (N, S) matrix, (N,) vector, or scalar in (0,1), random\n",
    "                draws from uniform U(0,1) distribution\n",
    "    mu        = scalar, mean of the nontruncated normal distribution\n",
    "                from which the truncated normal is derived\n",
    "    sigma     = scalar > 0, standard deviation of the nontruncated\n",
    "                normal distribution from which the truncated normal is\n",
    "                derived\n",
    "    cut_lb    = scalar or string, ='None' if no lower bound cutoff is\n",
    "                given, otherwise is scalar lower bound value of\n",
    "                distribution. Values below this cutoff have zero\n",
    "                probability\n",
    "    cut_ub    = scalar or string, ='None' if no upper bound cutoff is\n",
    "                given, otherwise is scalar lower bound value of\n",
    "                distribution. Values below this cutoff have zero\n",
    "                probability\n",
    "    \n",
    "    OTHER FUNCTIONS AND FILES CALLED BY THIS FUNCTION:\n",
    "        scipy.stats.norm()\n",
    "    \n",
    "    OBJECTS CREATED WITHIN FUNCTION:\n",
    "    cut_ub_cdf  = scalar in [0, 1], cdf of N(mu, sigma) at upper bound\n",
    "                  cutoff of truncated normal distribution\n",
    "    cut_lb_cdf  = scalar in [0, 1], cdf of N(mu, sigma) at lower bound\n",
    "                  cutoff of truncated normal distribution\n",
    "    unif2_vals  = (N, S) matrix, (N,) vector, or scalar in (0,1),\n",
    "                  rescaled uniform derived from original.\n",
    "    tnorm_draws = (N, S) matrix, (N,) vector, or scalar in (0,1),\n",
    "                  values drawn from truncated normal PDF with base\n",
    "                  normal distribution N(mu, sigma) and cutoffs\n",
    "                  (cut_lb, cut_ub)\n",
    "    \n",
    "    FILES CREATED BY THIS FUNCTION: None\n",
    "    \n",
    "    RETURNS: tnorm_draws\n",
    "    --------------------------------------------------------------------\n",
    "    '''\n",
    "    # No cutoffs: truncated normal = normal\n",
    "    if (cut_lb == None) & (cut_ub == None):\n",
    "        cut_ub_cdf = 1.0\n",
    "        cut_lb_cdf = 0.0\n",
    "    # Lower bound truncation, no upper bound truncation\n",
    "    elif (cut_lb != None) & (cut_ub == None):\n",
    "        cut_ub_cdf = 1.0\n",
    "        cut_lb_cdf = sts.norm.cdf(cut_lb, loc=mu, scale=sigma)\n",
    "    # Upper bound truncation, no lower bound truncation\n",
    "    elif (cut_lb == None) & (cut_ub != None):\n",
    "        cut_ub_cdf = sts.norm.cdf(cut_ub, loc=mu, scale=sigma)\n",
    "        cut_lb_cdf = 0.0\n",
    "    # Lower bound and upper bound truncation\n",
    "    elif (cut_lb != None) & (cut_ub != None):\n",
    "        cut_ub_cdf = sts.norm.cdf(cut_ub, loc=mu, scale=sigma)\n",
    "        cut_lb_cdf = sts.norm.cdf(cut_lb, loc=mu, scale=sigma)\n",
    "    \n",
    "    unif2_vals = unif_vals * (cut_ub_cdf - cut_lb_cdf) + cut_lb_cdf\n",
    "    tnorm_draws = sts.norm.ppf(unif2_vals, loc=mu, scale=sigma) #ppf is inverse cdf\n",
    "    \n",
    "    return tnorm_draws #truncated normal associated with the uniform dist"
   ]
  },
  {
   "cell_type": "markdown",
   "metadata": {},
   "source": [
    "What would we do if we didn't have the ppf function?"
   ]
  },
  {
   "cell_type": "markdown",
   "metadata": {},
   "source": [
    "What would one simulation of 161 test scores look like from a truncated normal with mean $\\mu=300$, $\\sigma=30$?"
   ]
  },
  {
   "cell_type": "code",
   "execution_count": 7,
   "metadata": {},
   "outputs": [
    {
     "name": "stdout",
     "output_type": "stream",
     "text": [
      "Mean score = 298.5159956269502\n",
      "Variance of scores = 922.3969747176388\n",
      "Standard deviation of scores = 30.370989030942653\n"
     ]
    },
    {
     "data": {
      "text/plain": [
       "<matplotlib.legend.Legend at 0x116191ba8>"
      ]
     },
     "execution_count": 7,
     "metadata": {},
     "output_type": "execute_result"
    },
    {
     "data": {
      "image/png": "[encoded data removed]",
      "text/plain": [
       "<Figure size 432x288 with 1 Axes>"
      ]
     },
     "metadata": {
      "needs_background": "light"
     },
     "output_type": "display_data"
    }
   ],
   "source": [
    "mu_1 = 300.0\n",
    "sig_1 = 30.0\n",
    "cut_lb_1 = 0.0\n",
    "cut_ub_1 = 450.0\n",
    "unif_vals_1 = sts.uniform.rvs(0, 1, size=161)\n",
    "draws_1 = trunc_norm_draws(unif_vals_1, mu_1, sig_1,\n",
    "                           cut_lb_1, cut_ub_1)\n",
    "\n",
    "#he prints these to show that when you resimulate, you'll hae different values\n",
    "print('Mean score =', draws_1.mean())\n",
    "print('Variance of scores =', draws_1.var())\n",
    "print('Standard deviation of scores =', draws_1.std())\n",
    "\n",
    "# Plot data histogram vs. simulated data histogram\n",
    "count_d, bins_d, ignored_d = \\\n",
    "    plt.hist(pts, 30, density=True, color='b', edgecolor='black',\n",
    "             linewidth=0.8, label='Data')\n",
    "count_m, bins_m, ignored_m = \\\n",
    "    plt.hist(draws_1, 30, density=True, color='r', edgecolor='black',\n",
    "             linewidth=0.8, label='Simulated data')\n",
    "xvals = np.linspace(0, 450, 500)\n",
    "plt.plot(xvals, trunc_norm_pdf(xvals, mu_1, sig_1, cut_lb_1, cut_ub_1),\n",
    "         linewidth=2, color='k', label='PDF')\n",
    "plt.title('Econ 381 scores: 2011-2012', fontsize=20)\n",
    "plt.xlabel('Total points')\n",
    "plt.ylabel('Percent of scores')\n",
    "plt.xlim([0, 550])  # This gives the xmin and xmax to be plotted\"\n",
    "plt.legend(loc='upper left')"
   ]
  },
  {
   "cell_type": "markdown",
   "metadata": {},
   "source": [
    "So we can see this is not a perfect model\n",
    "If we simulate again, we will get same black line, and similar red bars\n",
    "because the simulated data changes(red changes)"
   ]
  },
  {
   "cell_type": "markdown",
   "metadata": {},
   "source": [
    "From that simulation, we can calculate moments from the simulated data just like we did from the actual data."
   ]
  },
  {
   "cell_type": "code",
   "execution_count": 8,
   "metadata": {},
   "outputs": [],
   "source": [
    "def data_moments2(xvals):\n",
    "    '''\n",
    "    --------------------------------------------------------------------\n",
    "    This function computes the two data moments for SMM\n",
    "    (mean(data), variance(data)) from both the actual data and from the\n",
    "    simulated data.\n",
    "    --------------------------------------------------------------------\n",
    "    INPUTS:\n",
    "    xvals = (N, S) matrix or (N,) vector, or scalar in (cut_lb, cut_ub),\n",
    "            test scores data, either real world or simulated. Real world\n",
    "            data will come in the form (N,). Simulated data comes in the\n",
    "            form (N,) or (N, S).\n",
    "    \n",
    "    OTHER FUNCTIONS AND FILES CALLED BY THIS FUNCTION: None\n",
    "    \n",
    "    OBJECTS CREATED WITHIN FUNCTION:\n",
    "    mean_data = scalar or (S,) vector, mean value of test scores data\n",
    "    var_data  = scalar > 0 or (S,) vector, variance of test scores data\n",
    "    \n",
    "    FILES CREATED BY THIS FUNCTION: None\n",
    "    \n",
    "    RETURNS: mean_data, var_data\n",
    "    --------------------------------------------------------------------\n",
    "    '''\n",
    "    if xvals.ndim == 1: #data moments case (if you feed in a vector)\n",
    "        mean_data = xvals.mean()\n",
    "        var_data = xvals.var()\n",
    "    #SEE NOTES FOR BELOW (SEE ****)\n",
    "    elif xvals.ndim == 2: #if you put in a simulated matrix, it's 2d so they know this is model moments\n",
    "        mean_data = xvals.mean(axis=0) #average across rwos, making vector of all means \n",
    "        var_data = xvals.var(axis=0) #var across rows, making vector of all variances\n",
    "        # we will avg these below (2 cells down)\n",
    "    #in this case we odn't need a model moments function because you can\n",
    "    #calculate them in same say as data_moments2\n",
    "    return mean_data, var_data"
   ]
  },
  {
   "cell_type": "code",
   "execution_count": 9,
   "metadata": {},
   "outputs": [
    {
     "name": "stdout",
     "output_type": "stream",
     "text": [
      "Data mean = 341.90869565217395\n",
      "Data variance = 7827.997292398056\n",
      "Sim. mean = 298.5159956269502\n",
      "Sim. variance = 922.3969747176388\n"
     ]
    }
   ],
   "source": [
    "mean_data, var_data = data_moments2(pts)#scalar mean and variance\n",
    "print('Data mean =', mean_data)\n",
    "print('Data variance =', var_data)\n",
    "mean_sim, var_sim = data_moments2(draws_1)#single vector draw of 100 obs\n",
    "print('Sim. mean =', mean_sim)\n",
    "print('Sim. variance =', var_sim)"
   ]
  },
  {
   "cell_type": "markdown",
   "metadata": {},
   "source": [
    "We can also simulate many $(S)$ data sets of test scores, each with $N=161$ test scores. The estimate of the model moments will be the average of the simulated data moments across the simulations."
   ]
  },
  {
   "cell_type": "code",
   "execution_count": 10,
   "metadata": {},
   "outputs": [
    {
     "name": "stdout",
     "output_type": "stream",
     "text": [
      "[299.17667999 298.61052796 304.45608507 301.37072845 299.66868577\n",
      " 303.44257561 298.68174796 297.94014672 297.47566228 299.63490045\n",
      " 298.57207266 299.13235013 296.63826526 300.44460537 302.98678012\n",
      " 301.09166082 302.89663118 301.50056988 299.56091107 301.94919604\n",
      " 296.58486163 300.109284   303.35295389 300.4763979  298.52345697\n",
      " 299.37526236 298.54462388 301.20756546 301.23182905 297.92082255\n",
      " 302.0881712  300.37792528 302.69523093 298.92838232 296.03376169\n",
      " 299.9335839  302.69026345 302.0934371  299.70288418 300.88610536\n",
      " 304.86283252 299.10407269 303.11654222 302.07027394 299.29923542\n",
      " 298.74552083 297.79965311 301.59852312 300.15616963 301.59864217\n",
      " 295.52781074 303.98090953 300.31248226 301.44867717 297.78114307\n",
      " 302.64825256 303.68061798 300.12495043 299.80104697 305.78334207\n",
      " 300.95811329 297.94097772 303.02458302 300.24287686 305.55084554\n",
      " 296.62551538 301.73820461 303.91841652 305.97485316 300.25235036\n",
      " 298.6490962  299.80907094 301.66541992 298.66699545 298.68524191\n",
      " 301.45696273 301.27407424 298.22269311 301.22887168 299.54314562\n",
      " 299.85171183 299.26405411 298.87330671 301.59708796 298.46696222\n",
      " 299.01431864 299.27736899 299.20186117 297.60298908 299.34134778\n",
      " 296.56023236 300.36842728 299.81705203 300.234357   296.93063956\n",
      " 301.60442391 299.68503428 298.32917874 300.93011523 298.78807296]\n",
      "[ 854.27400514  793.0403989   841.76252205  819.86183015 1055.80239074\n",
      "  834.52746835  955.01586149 1033.93476802  804.86989439  715.96784403\n",
      "  927.66459495  594.40100934  974.32315671  903.2658217   877.78145497\n",
      "  900.13017505  871.56069402  835.1365732   849.46651395  835.02582303\n",
      "  939.66718613  654.80578245  998.41113837  815.81618606 1002.68353273\n",
      "  907.56790563  724.85910396  813.70435378 1015.31786118  975.59759144\n",
      "  888.63526849  881.81187368  842.94152651  976.74617301  978.23045295\n",
      "  790.85144559  933.04687473  987.37433204  980.14458376 1003.34539581\n",
      "  859.63957381 1050.9870203   901.66724764  967.15290016 1133.2532708\n",
      " 1033.60468078  810.90856957  930.53152973  921.0020767   802.31271115\n",
      "  928.68723732 1046.31773806  932.0434472  1025.05965686  951.23678849\n",
      "  839.58583279  941.39252702  751.71431141  841.4610679  1021.10990195\n",
      "  863.80405021  849.16404517  819.12655726 1095.10022731  848.76703098\n",
      "  797.43467707  823.16623979 1056.73087072  821.12496192  917.86308975\n",
      "  841.00526807  862.52415389  937.44315325  884.41413606  933.28154226\n",
      "  864.67286651  992.96039373  856.4044805   868.37693837  954.32843377\n",
      "  814.35548352  758.33184649  861.16008799  917.8168036   980.31470517\n",
      "  821.32422902 1057.5979759   843.6883495   941.15291878  925.33449079\n",
      "  778.30674576  856.47550771  920.80553617  902.19187292  918.9232\n",
      "  880.47284712  841.07711245  925.82668059 1037.04590733  925.75216207]\n",
      "Estimated model mean = 300.28595134427394\n",
      "Estimated model variance = 898.7468703753616\n"
     ]
    }
   ],
   "source": [
    "N = 161\n",
    "S = 100\n",
    "mu_2 = 300.0\n",
    "sig_2 = 30.0\n",
    "cut_lb = 0.0\n",
    "cut_ub = 450.0\n",
    "np.random.seed(25)  # Set the random number seed so it gives same answers every time\n",
    "unif_vals_2 = sts.uniform.rvs(0, 1, size=(N, S))\n",
    "draws_2 = trunc_norm_draws(unif_vals_2, mu_2, sig_2,\n",
    "                           cut_lb, cut_ub)\n",
    "\n",
    "mean_sim, var_sim = data_moments2(draws_2)\n",
    "print(mean_sim)\n",
    "print(var_sim)\n",
    "mean_mod = mean_sim.mean()\n",
    "var_mod = var_sim.mean()\n",
    "print('Estimated model mean =', mean_mod)\n",
    "print('Estimated model variance =', var_mod)"
   ]
  },
  {
   "cell_type": "markdown",
   "metadata": {},
   "source": [
    "Our SMM model moments $\\hat{m}(\\tilde{scores}_i|\\mu,\\sigma)$ are an estimate of the true models moments that we got in the GMM case by integrating using the PDF of the truncated normal distribution. Our SMM moments we got by simulating the data $S$ times and taking the average of the simulated data moments across the simulations as our estimator of the model moments.\n",
    "\n",
    "Define the error vector as the vector of percent deviations of the model moments from the data moments.\n",
    "\n",
    "$$ e(\\tilde{scores}_i,scores_i|\\mu,\\sigma) \\equiv \\frac{\\hat{m}(\\tilde{scores}_i|\\mu,\\sigma) - m(scores_i)}{m(scores_i)} $$\n",
    "\n",
    "The SMM estimator for this moment vector is the following.\n",
    "\n",
    "$$ (\\hat{\\mu}_{SMM},\\hat{\\sigma}_{SMM}) = (\\mu,\\sigma):\\quad \\min_{\\mu,\\sigma} e(\\tilde{scores}_i,scores_i|\\mu,\\sigma)^T \\, W \\, e(\\tilde{scores}_i,scores_i|\\mu,\\sigma) $$"
   ]
  },
  {
   "cell_type": "markdown",
   "metadata": {},
   "source": [
    "Now let's define a criterion function that takes as inputs the parameters and the estimator for the weighting matrix $\\hat{W}$."
   ]
  },
  {
   "cell_type": "code",
   "execution_count": 11,
   "metadata": {},
   "outputs": [],
   "source": [
    "def err_vec2(data_vals, unif_vals, mu, sigma, cut_lb, cut_ub, simple):\n",
    "    '''\n",
    "    --------------------------------------------------------------------\n",
    "    This function computes the vector of moment errors (in percent\n",
    "    deviation from the data moment vector) for SMM.\n",
    "    --------------------------------------------------------------------\n",
    "    INPUTS:\n",
    "    data_vals = (N,) vector, test scores data\n",
    "    sim_vals  = (N, S) matrix, S simulations of test scores data\n",
    "    mu        = scalar, mean of the nontruncated normal distribution\n",
    "                from which the truncated normal is derived\n",
    "    sigma     = scalar > 0, standard deviation of the nontruncated\n",
    "                normal distribution from which the truncated normal is\n",
    "                derived\n",
    "    cut_lb    = scalar or string, ='None' if no lower bound cutoff is\n",
    "                given, otherwise is scalar lower bound value of\n",
    "                distribution. Values below this cutoff have zero\n",
    "                probability\n",
    "    cut_ub    = scalar or string, ='None' if no upper bound cutoff is\n",
    "                given, otherwise is scalar lower bound value of\n",
    "                distribution. Values below this cutoff have zero\n",
    "                probability\n",
    "    simple    = boolean, =True if errors are simple difference, =False\n",
    "                if errors are percent deviation from data moments\n",
    "    \n",
    "    OTHER FUNCTIONS AND FILES CALLED BY THIS FUNCTION:\n",
    "        trunc_norm_draws()\n",
    "        data_moments()\n",
    "        \n",
    "    OBJECTS CREATED WITHIN FUNCTION:\n",
    "    mean_data  = scalar, mean value of data\n",
    "    var_data   = scalar > 0, variance of data\n",
    "    moms_data  = (2, 1) matrix, column vector of two data moments\n",
    "    mean_model = scalar, estimated mean value from model\n",
    "    var_model  = scalar > 0, estimated variance from model\n",
    "    moms_model = (2, 1) matrix, column vector of two model moments\n",
    "    err_vec    = (2, 1) matrix, column vector of two moment error\n",
    "                 functions\n",
    "    \n",
    "    FILES CREATED BY THIS FUNCTION: None\n",
    "    \n",
    "    RETURNS: err_vec\n",
    "    --------------------------------------------------------------------\n",
    "    '''\n",
    "    sim_vals = trunc_norm_draws(unif_vals, mu, sigma, cut_lb, cut_ub)\n",
    "    mean_data, var_data = data_moments2(data_vals)\n",
    "    moms_data = np.array([[mean_data], [var_data]])\n",
    "    mean_sim, var_sim = data_moments2(sim_vals)\n",
    "    mean_model = mean_sim.mean()\n",
    "    var_model = var_sim.mean()\n",
    "    moms_model = np.array([[mean_model], [var_model]])\n",
    "    if simple:\n",
    "        err_vec = moms_model - moms_data\n",
    "    else:\n",
    "        err_vec = (moms_model - moms_data) / moms_data\n",
    "    \n",
    "    return err_vec\n",
    "\n",
    "\n",
    "def criterion(params, *args):\n",
    "    '''\n",
    "    --------------------------------------------------------------------\n",
    "    This function computes the SMM weighted sum of squared moment errors\n",
    "    criterion function value given parameter values and an estimate of\n",
    "    the weighting matrix.\n",
    "    --------------------------------------------------------------------\n",
    "    INPUTS:\n",
    "    params    = (2,) vector, ([mu, sigma])\n",
    "    mu        = scalar, mean of the normally distributed random variable\n",
    "    sigma     = scalar > 0, standard deviation of the normally\n",
    "                distributed random variable\n",
    "    args      = length 5 tuple,\n",
    "                (xvals, unif_vals, cut_lb, cut_ub, W_hat)\n",
    "    xvals     = (N,) vector, values of the truncated normally\n",
    "                distributed random variable\n",
    "    unif_vals = (N, S) matrix, matrix of draws from U(0,1) distribution.\n",
    "                This fixes the seed of the draws for the simulations\n",
    "    cut_lb    = scalar or string, ='None' if no lower bound cutoff is\n",
    "                given, otherwise is scalar lower bound value of\n",
    "                distribution. Values below this cutoff have zero\n",
    "                probability\n",
    "    cut_ub    = scalar or string, ='None' if no upper bound cutoff is\n",
    "                given, otherwise is scalar lower bound value of\n",
    "                distribution. Values below this cutoff have zero\n",
    "                probability\n",
    "    W_hat     = (R, R) matrix, estimate of optimal weighting matrix\n",
    "    \n",
    "    OTHER FUNCTIONS AND FILES CALLED BY THIS FUNCTION:\n",
    "        err_vec2()\n",
    "    \n",
    "    OBJECTS CREATED WITHIN FUNCTION:\n",
    "    err        = (2, 1) matrix, column vector of two moment error\n",
    "                 functions\n",
    "    crit_val   = scalar > 0, GMM criterion function value\n",
    "    \n",
    "    FILES CREATED BY THIS FUNCTION: None\n",
    "    \n",
    "    RETURNS: crit_val\n",
    "    --------------------------------------------------------------------\n",
    "    '''\n",
    "    mu, sigma = params\n",
    "    xvals, unif_vals, cut_lb, cut_ub, W_hat = args\n",
    "    err = err_vec2(xvals, unif_vals, mu, sigma, cut_lb, cut_ub,\n",
    "                  simple=False)\n",
    "    crit_val = err.T @ W_hat @ err \n",
    "    \n",
    "    return crit_val"
   ]
  },
  {
   "cell_type": "code",
   "execution_count": 12,
   "metadata": {},
   "outputs": [
    {
     "name": "stdout",
     "output_type": "stream",
     "text": [
      "372.0777280048037 2663.8708280174988\n",
      "[[0.44298931]]\n"
     ]
    }
   ],
   "source": [
    "mu_test = 400\n",
    "sig_test = 70\n",
    "cut_lb = 0.0\n",
    "cut_ub = 450.0\n",
    "# unif_vals_2 = sts.uniform.rvs(0, 1, size=(N, S))\n",
    "sim_vals = trunc_norm_draws(unif_vals_2, mu_test, sig_test, cut_lb, cut_ub)\n",
    "mean_sim, var_sim = data_moments2(sim_vals)\n",
    "mean_mod = mean_sim.mean()\n",
    "var_mod = var_sim.mean()\n",
    "print(mean_mod, var_mod)\n",
    "err_vec2(pts, sim_vals, mu_test, sig_test, cut_lb, cut_ub, simple=False)\n",
    "crit_test = criterion(np.array([mu_test, sig_test]), pts, unif_vals_2,\n",
    "                      0.0, 450.0, np.eye(2))\n",
    "print(crit_test)"
   ]
  },
  {
   "cell_type": "markdown",
   "metadata": {},
   "source": [
    "Now we can perform the SMM estimation. Let's start with the identity matrix as our estimate for the optimal weighting matrix $W = I$."
   ]
  },
  {
   "cell_type": "code",
   "execution_count": 13,
   "metadata": {},
   "outputs": [
    {
     "name": "stdout",
     "output_type": "stream",
     "text": [
      "mu_SMM1_1= 612.342179756052  sig_SMM1_1= 197.26560601962547\n"
     ]
    }
   ],
   "source": [
    "mu_init_1 = 300\n",
    "sig_init_1 = 30\n",
    "params_init_1 = np.array([mu_init_1, sig_init_1])\n",
    "W_hat1_1 = np.eye(2)\n",
    "smm_args1_1 = (pts, unif_vals_2, cut_lb, cut_ub, W_hat1_1)\n",
    "results1_1 = opt.minimize(criterion, params_init_1, args=(smm_args1_1),\n",
    "                          method='L-BFGS-B',\n",
    "                          bounds=((1e-10, None), (1e-10, None)))\n",
    "mu_SMM1_1, sig_SMM1_1 = results1_1.x\n",
    "print('mu_SMM1_1=', mu_SMM1_1, ' sig_SMM1_1=', sig_SMM1_1)"
   ]
  },
  {
   "cell_type": "code",
   "execution_count": 14,
   "metadata": {},
   "outputs": [
    {
     "name": "stdout",
     "output_type": "stream",
     "text": [
      "Data mean of scores = 341.90869565217395 , Data variance of scores = 7827.997292398056\n",
      "Model mean 1 = 341.6694082524975 , Model variance 1 = 7827.8618757146305\n",
      "Error vector 1 = [nan nan]\n",
      "      fun: array([[4.90099918e-07]])\n",
      " hess_inv: <2x2 LbfgsInvHessProduct with dtype=float64>\n",
      "      jac: array([-7.41228601e-07,  2.34145023e-06])\n",
      "  message: b'CONVERGENCE: NORM_OF_PROJECTED_GRADIENT_<=_PGTOL'\n",
      "     nfev: 72\n",
      "      nit: 17\n",
      "   status: 0\n",
      "  success: True\n",
      "        x: array([612.34217976, 197.26560602])\n"
     ]
    }
   ],
   "source": [
    "mean_data, var_data = data_moments2(pts)\n",
    "print('Data mean of scores =', mean_data, ', Data variance of scores =', var_data)\n",
    "sim_vals_1 = trunc_norm_draws(unif_vals_2, mu_SMM1_1, sig_SMM1_1, cut_lb, cut_ub)\n",
    "mean_sim_1, var_sim_1 = data_moments2(sim_vals_1)\n",
    "mean_model_1 = mean_sim_1.mean()\n",
    "var_model_1 = var_sim_1.mean()\n",
    "err_1 = err_vec2(pts, sim_vals_1, mu_SMM1_1, sig_SMM1_1, cut_lb, cut_ub,\n",
    "                False).reshape(2,)\n",
    "\n",
    "print('Model mean 1 =', mean_model_1, ', Model variance 1 =', var_model_1)\n",
    "print('Error vector 1 =', err_1)\n",
    "print(results1_1)"
   ]
  },
  {
   "cell_type": "markdown",
   "metadata": {},
   "source": [
    "Let's plot the PDF implied by these results against the histogram."
   ]
  },
  {
   "cell_type": "code",
   "execution_count": 15,
   "metadata": {
    "scrolled": false
   },
   "outputs": [
    {
     "data": {
      "text/plain": [
       "array([ 17.        ,  31.42666667,  45.85333333,  60.28      ,\n",
       "        74.70666667,  89.13333333, 103.56      , 117.98666667,\n",
       "       132.41333333, 146.84      , 161.26666667, 175.69333333,\n",
       "       190.12      , 204.54666667, 218.97333333, 233.4       ,\n",
       "       247.82666667, 262.25333333, 276.68      , 291.10666667,\n",
       "       305.53333333, 319.96      , 334.38666667, 348.81333333,\n",
       "       363.24      , 377.66666667, 392.09333333, 406.52      ,\n",
       "       420.94666667, 435.37333333, 449.8       ])"
      ]
     },
     "execution_count": 15,
     "metadata": {},
     "output_type": "execute_result"
    },
    {
     "data": {
      "image/png": "[encoded data removed]",
      "text/plain": [
       "<Figure size 432x288 with 1 Axes>"
      ]
     },
     "metadata": {
      "needs_background": "light"
     },
     "output_type": "display_data"
    }
   ],
   "source": [
    "# Plot the histogram of the data\n",
    "count, bins, ignored = plt.hist(pts, 30, density=True,\n",
    "                                edgecolor='black', linewidth=1.2)\n",
    "plt.title('Econ 381 scores: 2011-2012', fontsize=20)\n",
    "plt.xlabel('Total points')\n",
    "plt.ylabel('Percent of scores')\n",
    "plt.xlim([0, 550])  # This gives the xmin and xmax to be plotted\"\n",
    "\n",
    "# Plot the estimated SMM PDF\n",
    "dist_pts = np.linspace(0, 450, 500)\n",
    "plt.plot(dist_pts, trunc_norm_pdf(dist_pts, mu_SMM1_1, sig_SMM1_1, 0.0, 450.0),\n",
    "         linewidth=2, color='k', label='1: $\\mu_{SMM1}$,$\\sigma_{SMM1}$')\n",
    "plt.legend(loc='upper left')\n",
    "bins"
   ]
  },
  {
   "cell_type": "markdown",
   "metadata": {},
   "source": [
    "That looks just like the ML estimate from the previous notebook. Let's see what the criterion function looks like for different values of $\\mu$ and $\\sigma$."
   ]
  },
  {
   "cell_type": "code",
   "execution_count": 16,
   "metadata": {
    "scrolled": false
   },
   "outputs": [
    {
     "data": {
      "text/plain": [
       "Text(0.5, 0, 'Crit. func.')"
      ]
     },
     "execution_count": 16,
     "metadata": {},
     "output_type": "execute_result"
    },
    {
     "data": {
      "image/png": "[encoded data removed]",
      "text/plain": [
       "<Figure size 432x288 with 1 Axes>"
      ]
     },
     "metadata": {
      "needs_background": "light"
     },
     "output_type": "display_data"
    }
   ],
   "source": [
    "# Note that this will take a few minutes because the intgr.quad() commands\n",
    "# are a little slow\n",
    "mu_vals = np.linspace(60, 700, 50)\n",
    "sig_vals = np.linspace(20, 250, 50)\n",
    "# mu_vals = np.linspace(600, 610, 50)\n",
    "# sig_vals = np.linspace(190, 196, 50)\n",
    "crit_vals = np.zeros((50, 50))\n",
    "for mu_ind in range(50):\n",
    "    for sig_ind in range(50):\n",
    "        crit_vals[mu_ind, sig_ind] = \\\n",
    "            criterion(np.array([mu_vals[mu_ind], sig_vals[sig_ind]]),\n",
    "                      pts, unif_vals_2, cut_lb, cut_ub, W_hat1_1)\n",
    "\n",
    "mu_mesh, sig_mesh = np.meshgrid(mu_vals, sig_vals)\n",
    "\n",
    "fig = plt.figure()\n",
    "ax = fig.gca(projection='3d')\n",
    "ax.plot_surface(sig_mesh, mu_mesh, crit_vals, rstride=8,\n",
    "                cstride=1, cmap=cmap1)\n",
    "ax.set_title('Criterion function for values of mu and sigma')\n",
    "ax.set_xlabel(r'$\\sigma$')\n",
    "ax.set_ylabel(r'$\\mu$')\n",
    "ax.set_zlabel(r'Crit. func.')"
   ]
  },
  {
   "cell_type": "markdown",
   "metadata": {},
   "source": [
    "Let's compute the SMM estimator for the variance-covariance matrix $\\hat{\\Sigma}_{SMM}$ of our SMM estimates $\\hat{\\theta}_{SMM}$ using the equation in Section 3 based on the Jacobian $d(\\tilde{x},x|\\hat{\\theta}_{SMM})$ of the moment error vector $e(\\tilde{x},x|\\hat{\\theta}_{SMM})$ from the criterion function at the estimated (optimal) parameter values $\\hat{\\theta}_{SMM}$. We first write a function that computes the Jacobian $d(x|\\hat{\\theta}_{SMM})$."
   ]
  },
  {
   "cell_type": "code",
   "execution_count": 17,
   "metadata": {},
   "outputs": [],
   "source": [
    "def Jac_err2(data_vals, unif_vals, mu, sigma, cut_lb, cut_ub, simple=False):\n",
    "    '''\n",
    "    This function computes the Jacobian matrix of partial derivatives of the R x 1 moment\n",
    "    error vector e(x|theta) with respect to the K parameters theta_i in the K x 1 parameter vector\n",
    "    theta. The resulting matrix is R x K Jacobian.\n",
    "    '''\n",
    "    Jac_err = np.zeros((2, 2))\n",
    "    h_mu = 1e-4 * mu\n",
    "    h_sig = 1e-4 * sigma\n",
    "    Jac_err[:, 0] = \\\n",
    "        ((err_vec2(xvals, unif_vals, mu + h_mu, sigma, cut_lb, cut_ub, simple) -\n",
    "          err_vec2(xvals, unif_vals, mu - h_mu, sigma, cut_lb, cut_ub, simple)) / (2 * h_mu)).flatten()\n",
    "    Jac_err[:, 1] = \\\n",
    "        ((err_vec2(xvals, unif_vals, mu, sigma + h_sig, cut_lb, cut_ub, simple) -\n",
    "          err_vec2(xvals, unif_vals, mu, sigma - h_sig, cut_lb, cut_ub, simple)) / (2 * h_sig)).flatten()\n",
    "    \n",
    "    return Jac_err"
   ]
  },
  {
   "cell_type": "code",
   "execution_count": 18,
   "metadata": {},
   "outputs": [
    {
     "name": "stdout",
     "output_type": "stream",
     "text": [
      "[[ 0.00089748 -0.00290432]\n",
      " [-0.00114131  0.00445697]]\n",
      "[[1. 0.]\n",
      " [0. 1.]]\n",
      "[[602569.14116544 163810.21465827]\n",
      " [163810.21465827  44885.65604294]]\n",
      "Std. err. mu_hat= 776.2532712751926\n",
      "Std. err. sig_hat= 211.86235164120674\n"
     ]
    }
   ],
   "source": [
    "S = unif_vals_2.shape[1]\n",
    "d_err2 = Jac_err2(pts, unif_vals_2, mu_SMM1_1, sig_SMM1_1, 0.0, 450.0, False)\n",
    "print(d_err2)\n",
    "print(W_hat1_1)\n",
    "SigHat2 = (1 / S) * lin.inv(d_err2.T @ W_hat1_1 @ d_err2)\n",
    "print(SigHat2)\n",
    "print('Std. err. mu_hat=', np.sqrt(SigHat2[0, 0]))\n",
    "print('Std. err. sig_hat=', np.sqrt(SigHat2[1, 1]))"
   ]
  },
  {
   "cell_type": "markdown",
   "metadata": {},
   "source": [
    "#### 4.1.2. Two moments, two-step optimal weighting matrix\n",
    "Similar to the ML problem, it looks like the criterion function is roughly equal for a specific portion increase of $\\mu$ and $\\sigma$ together. That is, with these two moments probably have a correspondence of values of $\\mu$ and $\\sigma$ that give roughly the same criterion function value. This issue has two possible solutions.\n",
    "\n",
    "1. Maybe we need the two-step variance covariance estimator to calculate a \"more\" optimal weighting matrix $W$.\n",
    "2. Maybe our two moments aren't very good moments for fitting the data.\n",
    "\n",
    "Let's first try the two-step weighting matrix."
   ]
  },
  {
   "cell_type": "code",
   "execution_count": 19,
   "metadata": {},
   "outputs": [],
   "source": [
    "def get_Err_mat2(pts, unif_vals, mu, sigma, cut_lb, cut_ub, simple=False):\n",
    "    '''\n",
    "    --------------------------------------------------------------------\n",
    "    This function computes the R x S matrix of errors from each\n",
    "    simulated moment for each moment error. In this function, we have\n",
    "    hard coded R = 2.\n",
    "    --------------------------------------------------------------------\n",
    "    INPUTS:\n",
    "    xvals     = (N,) vector, test scores data\n",
    "    unif_vals = (N, S) matrix, uniform random variables that generate\n",
    "                the N observations of simulated data for S simulations\n",
    "    mu        = scalar, mean of the normally distributed random variable\n",
    "    sigma     = scalar > 0, standard deviation of the normally\n",
    "                distributed random variable\n",
    "    cut_lb    = scalar or string, ='None' if no cutoff is given,\n",
    "                otherwise is scalar lower bound value of distribution.\n",
    "                Values below this value have zero probability\n",
    "    cut_ub    = scalar or string, ='None' if no cutoff is given,\n",
    "                otherwise is scalar upper bound value of distribution.\n",
    "                Values above this value have zero probability\n",
    "    simple    = boolean, =True if errors are simple difference, =False\n",
    "                if errors are percent deviation from data moments\n",
    "    \n",
    "    OTHER FUNCTIONS AND FILES CALLED BY THIS FUNCTION:\n",
    "        model_moments()\n",
    "    \n",
    "    OBJECTS CREATED WITHIN FUNCTION:\n",
    "    R          = integer = 2, hard coded number of moments\n",
    "    S          = integer >= R, number of simulated datasets\n",
    "    Err_mat    = (R, S) matrix, error by moment and simulated data\n",
    "    mean_model = scalar, mean value from model\n",
    "    var_model  = scalar > 0, variance from model\n",
    "    \n",
    "    FILES CREATED BY THIS FUNCTION: None\n",
    "    \n",
    "    RETURNS: Err_mat\n",
    "    --------------------------------------------------------------------\n",
    "    '''\n",
    "    R = 2\n",
    "    S = unif_vals.shape[1]\n",
    "    Err_mat = np.zeros((R, S))\n",
    "    mean_data, var_data = data_moments2(pts)\n",
    "    sim_vals = trunc_norm_draws(unif_vals, mu, sigma, cut_lb, cut_ub)\n",
    "    mean_model, var_model = data_moments2(sim_vals)\n",
    "    if simple:\n",
    "        Err_mat[0, :] = mean_model - mean_data\n",
    "        Err_mat[1, :] = var_model - var_data\n",
    "    else:\n",
    "        Err_mat[0, :] = (mean_model - mean_data) / mean_data\n",
    "        Err_mat[1, :] = (var_model - var_data) / var_data\n",
    "    \n",
    "    return Err_mat"
   ]
  },
  {
   "cell_type": "code",
   "execution_count": 20,
   "metadata": {},
   "outputs": [
    {
     "name": "stdout",
     "output_type": "stream",
     "text": [
      "[[ 0.0003341  -0.00142289]\n",
      " [-0.00142289  0.01592884]]\n",
      "[[4830.91749547  431.53677995]\n",
      " [ 431.53677995  101.32759549]]\n"
     ]
    }
   ],
   "source": [
    "Err_mat2 = get_Err_mat2(pts, unif_vals_2, mu_SMM1_1, sig_SMM1_1, 0.0, 450.0, False)\n",
    "VCV2 = (1 / unif_vals_2.shape[1]) * (Err_mat2 @ Err_mat2.T)\n",
    "print(VCV2)\n",
    "W_hat2_1 = lin.inv(VCV2)\n",
    "print(W_hat2_1)"
   ]
  },
  {
   "cell_type": "code",
   "execution_count": 21,
   "metadata": {},
   "outputs": [
    {
     "name": "stdout",
     "output_type": "stream",
     "text": [
      "mu_SMM2_1= 619.430314736335  sig_SMM2_1= 199.07478370142596\n"
     ]
    }
   ],
   "source": [
    "params_init2_1 = np.array([mu_SMM1_1, sig_SMM1_1])\n",
    "smm_args2_1 = (pts, unif_vals_2, cut_lb, cut_ub, W_hat2_1)\n",
    "results2_1 = opt.minimize(criterion, params_init2_1, args=(smm_args2_1),\n",
    "                         method='L-BFGS-B',\n",
    "                         bounds=((1e-10, None), (1e-10, None)))\n",
    "mu_SMM2_1, sig_SMM2_1 = results2_1.x\n",
    "print('mu_SMM2_1=', mu_SMM2_1, ' sig_SMM2_1=', sig_SMM2_1)"
   ]
  },
  {
   "cell_type": "markdown",
   "metadata": {},
   "source": [
    "Look at how much smaller (more efficient) the estimated standard errors are in this case with the two-step optimal weighting matrix $\\hat{W}_{2step}$."
   ]
  },
  {
   "cell_type": "code",
   "execution_count": 22,
   "metadata": {},
   "outputs": [
    {
     "name": "stdout",
     "output_type": "stream",
     "text": [
      "[[ 0.00088129 -0.00288863]\n",
      " [-0.0011259   0.00443426]]\n",
      "[[4830.91749547  431.53677995]\n",
      " [ 431.53677995  101.32759549]]\n",
      "[[2397.38645019  745.29858907]\n",
      " [ 745.29858907  232.01817018]]\n",
      "Std. err. mu_hat= 48.963113158664044\n",
      "Std. err. sig_hat= 15.232142665284327\n"
     ]
    }
   ],
   "source": [
    "d_err2_2 = Jac_err2(pts, unif_vals_2, mu_SMM2_1, sig_SMM2_1, 0.0, 450.0, False)\n",
    "print(d_err2_2)\n",
    "print(W_hat2_1)\n",
    "SigHat2_2 = (1 / S) * lin.inv(d_err2_2.T @ W_hat2_1 @ d_err2_2)\n",
    "print(SigHat2_2)\n",
    "print('Std. err. mu_hat=', np.sqrt(SigHat2_2[0, 0]))\n",
    "print('Std. err. sig_hat=', np.sqrt(SigHat2_2[1, 1]))"
   ]
  },
  {
   "cell_type": "markdown",
   "metadata": {},
   "source": [
    "#### 4.1.3. Four moments, identity matrix weighting matrix\n",
    "Using a better weighting matrix didn't improve our estimates or fit very much, but it did improve our standard errors. But even with the optimal weighting matrix, our standard errors still look pretty big. This might mean that we did not choose good moments for fitting the data. Let's try some different moments. How about four moments to match.\n",
    "\n",
    "1. The percent of observations greater than 430 (between 430 and 450)\n",
    "2. The percent of observations between 320 and 430\n",
    "3. The percent of observations between 220 and 320\n",
    "4. The percent of observations less than 220 (between 0 and 220)"
   ]
  },
  {
   "cell_type": "code",
   "execution_count": 23,
   "metadata": {},
   "outputs": [],
   "source": [
    "def data_moments4(xvals):\n",
    "    '''\n",
    "    --------------------------------------------------------------------\n",
    "    This function computes the four data moments for SMM\n",
    "    (binpct_1, binpct_2, binpct_3, binpct_4) from both the actual data\n",
    "    and from the simulated data.\n",
    "    --------------------------------------------------------------------\n",
    "    INPUTS:\n",
    "    xvals = (N, S) matrix, (N,) vector, or scalar in (cut_lb, cut_ub),\n",
    "            test scores data, either real world or simulated. Real world\n",
    "            data will come in the form (N,). Simulated data comes in the\n",
    "            form (N,) or (N, S).\n",
    "\n",
    "    OTHER FUNCTIONS AND FILES CALLED BY THIS FUNCTION: None\n",
    "\n",
    "    OBJECTS CREATED WITHIN FUNCTION:\n",
    "    bpct_1 = scalar in [0, 1] or (S,) vector, percent of observations\n",
    "             0 <= x < 220\n",
    "    bpct_2 = scalar in [0, 1] or (S,) vector, percent of observations\n",
    "             220 <= x < 320\n",
    "    bpct_3 = scalar in [0, 1] or (S,) vector, percent of observations\n",
    "             320 <= x < 430\n",
    "    bpct_4 = scalar in [0, 1] or (S,) vector, percent of observations\n",
    "             430 <= x <= 450\n",
    "\n",
    "    FILES CREATED BY THIS FUNCTION: None\n",
    "\n",
    "    RETURNS: bpct_1, bpct_2, bpct_3, bpct_4\n",
    "    --------------------------------------------------------------------\n",
    "    '''\n",
    "    if xvals.ndim == 1:\n",
    "        bpct_1 = (xvals < 220).sum() / xvals.shape[0]\n",
    "        bpct_2 = ((xvals >=220) & (xvals < 320)).sum() / xvals.shape[0]\n",
    "        bpct_3 = ((xvals >=320) & (xvals < 430)).sum() / xvals.shape[0]\n",
    "        bpct_4 = (xvals >= 430).sum() / xvals.shape[0]\n",
    "    if xvals.ndim == 2:\n",
    "        bpct_1 = (xvals < 220).sum(axis=0) / xvals.shape[0]\n",
    "        bpct_2 = (((xvals >=220) & (xvals < 320)).sum(axis=0) /\n",
    "                    xvals.shape[0])\n",
    "        bpct_3 = (((xvals >=320) & (xvals < 430)).sum(axis=0) /\n",
    "                    xvals.shape[0])\n",
    "        bpct_4 = (xvals >= 430).sum(axis=0) / xvals.shape[0]\n",
    "\n",
    "    return bpct_1, bpct_2, bpct_3, bpct_4"
   ]
  },
  {
   "cell_type": "code",
   "execution_count": 24,
   "metadata": {},
   "outputs": [],
   "source": [
    "def err_vec4(data_vals, unif_vals, mu, sigma, cut_lb, cut_ub, simple):\n",
    "    '''\n",
    "    --------------------------------------------------------------------\n",
    "    This function computes the vector of moment errors (in percent\n",
    "    deviation from the data moment vector) for SMM.\n",
    "    --------------------------------------------------------------------\n",
    "    INPUTS:\n",
    "    data_vals = (N,) vector, test scores data\n",
    "    unif_vals = (N, S) matrix, uniform values that generate S\n",
    "                simulations of N observations\n",
    "    mu        = scalar, mean of the nontruncated normal distribution\n",
    "                from which the truncated normal is derived\n",
    "    sigma     = scalar > 0, standard deviation of the nontruncated\n",
    "                normal distribution from which the truncated normal is\n",
    "                derived\n",
    "    cut_lb    = scalar or string, ='None' if no lower bound cutoff is\n",
    "                given, otherwise is scalar lower bound value of\n",
    "                distribution. Values below this cutoff have zero\n",
    "                probability\n",
    "    cut_ub    = scalar or string, ='None' if no upper bound cutoff is\n",
    "                given, otherwise is scalar lower bound value of\n",
    "                distribution. Values below this cutoff have zero\n",
    "                probability\n",
    "    simple    = boolean, =True if errors are simple difference, =False\n",
    "                if errors are percent deviation from data moments\n",
    "    \n",
    "    OTHER FUNCTIONS AND FILES CALLED BY THIS FUNCTION:\n",
    "        data_moments4()\n",
    "    \n",
    "    OBJECTS CREATED WITHIN FUNCTION:\n",
    "    mean_data  = scalar, mean value of data\n",
    "    var_data   = scalar > 0, variance of data\n",
    "    moms_data  = (4, 1) matrix, column vector of two data moments\n",
    "    mean_model = scalar, mean value from model\n",
    "    var_model  = scalar > 0, variance from model\n",
    "    moms_model = (2, 1) matrix, column vector of two model moments\n",
    "    err_vec    = (2, 1) matrix, column vector of two moment error\n",
    "                 functions\n",
    "    \n",
    "    FILES CREATED BY THIS FUNCTION: None\n",
    "    \n",
    "    RETURNS: err_vec\n",
    "    --------------------------------------------------------------------\n",
    "    '''\n",
    "    sim_vals = trunc_norm_draws(unif_vals, mu, sigma, cut_lb, cut_ub)\n",
    "    bpct_1_dat, bpct_2_dat, bpct_3_dat, bpct_4_dat = \\\n",
    "        data_moments4(data_vals)\n",
    "    moms_data = np.array([[bpct_1_dat], [bpct_2_dat], [bpct_3_dat],\n",
    "                          [bpct_4_dat]])\n",
    "    bpct_1_sim, bpct_2_sim, bpct_3_sim, bpct_4_sim = \\\n",
    "        data_moments4(sim_vals)\n",
    "    bpct_1_mod = bpct_1_sim.mean()\n",
    "    bpct_2_mod = bpct_2_sim.mean()\n",
    "    bpct_3_mod = bpct_3_sim.mean()\n",
    "    bpct_4_mod = bpct_4_sim.mean()\n",
    "    moms_model = np.array([[bpct_1_mod], [bpct_2_mod], [bpct_3_mod],\n",
    "                          [bpct_4_mod]])\n",
    "    if simple:\n",
    "        err_vec = moms_model - moms_data\n",
    "    else:\n",
    "        err_vec = (moms_model - moms_data) / moms_data\n",
    "    \n",
    "    return err_vec"
   ]
  },
  {
   "cell_type": "code",
   "execution_count": 25,
   "metadata": {},
   "outputs": [],
   "source": [
    "def criterion4(params, *args):\n",
    "    '''\n",
    "    --------------------------------------------------------------------\n",
    "    This function computes the SMM weighted sum of squared moment errors\n",
    "    criterion function value given parameter values and an estimate of\n",
    "    the weighting matrix.\n",
    "    --------------------------------------------------------------------\n",
    "    INPUTS:\n",
    "    params    = (2,) vector, ([mu, sigma])\n",
    "    mu        = scalar, mean of the normally distributed random variable\n",
    "    sigma     = scalar > 0, standard deviation of the normally\n",
    "                distributed random variable\n",
    "    args      = length 5 tuple,\n",
    "                (xvals, unif_vals, cut_lb, cut_ub, W_hat)\n",
    "    xvals     = (N,) vector, values of the truncated normally\n",
    "                distributed random variable\n",
    "    unif_vals = (N, S) matrix, matrix of draws from U(0,1) distribution.\n",
    "                This fixes the seed of the draws for the simulations\n",
    "    cut_lb    = scalar or string, ='None' if no lower bound cutoff is\n",
    "                given, otherwise is scalar lower bound value of\n",
    "                distribution. Values below this cutoff have zero\n",
    "                probability\n",
    "    cut_ub    = scalar or string, ='None' if no upper bound cutoff is\n",
    "                given, otherwise is scalar lower bound value of\n",
    "                distribution. Values below this cutoff have zero\n",
    "                probability\n",
    "    W_hat     = (R, R) matrix, estimate of optimal weighting matrix\n",
    "    \n",
    "    OTHER FUNCTIONS AND FILES CALLED BY THIS FUNCTION:\n",
    "        norm_pdf()\n",
    "    \n",
    "    OBJECTS CREATED WITHIN FUNCTION:\n",
    "    err        = (2, 1) matrix, column vector of two moment error\n",
    "                 functions\n",
    "    crit_val   = scalar > 0, GMM criterion function value\n",
    "    \n",
    "    FILES CREATED BY THIS FUNCTION: None\n",
    "    \n",
    "    RETURNS: crit_val\n",
    "    --------------------------------------------------------------------\n",
    "    '''\n",
    "    mu, sigma = params\n",
    "    xvals, unif_vals, cut_lb, cut_ub, W_hat = args\n",
    "    \n",
    "    # # These next two lines diagnose a problems in the next frame \n",
    "    # print('mu=', mu)\n",
    "    # print('sigma', sigma)\n",
    "    \n",
    "    err = err_vec4(xvals, unif_vals, mu, sigma, cut_lb, cut_ub,\n",
    "                   simple=False)\n",
    "    crit_val = err.T @ W_hat @ err\n",
    "    \n",
    "    return crit_val"
   ]
  },
  {
   "cell_type": "markdown",
   "metadata": {},
   "source": [
    "Now we will execute the SMM minimization problem, but a strange issue will arise. And the issue has to do with the minimizer."
   ]
  },
  {
   "cell_type": "code",
   "execution_count": 26,
   "metadata": {},
   "outputs": [
    {
     "name": "stdout",
     "output_type": "stream",
     "text": [
      "mu_SMM4_1= 300.0  sig_SMM4_1 30.0\n",
      "      fun: array([[12.83620605]])\n",
      " hess_inv: <2x2 LbfgsInvHessProduct with dtype=float64>\n",
      "      jac: array([0., 0.])\n",
      "  message: b'CONVERGENCE: NORM_OF_PROJECTED_GRADIENT_<=_PGTOL'\n",
      "     nfev: 3\n",
      "      nit: 0\n",
      "   status: 0\n",
      "  success: True\n",
      "        x: array([300.,  30.])\n"
     ]
    }
   ],
   "source": [
    "mu_init4_1 = 300\n",
    "sig_init4_1 = 30\n",
    "params_init4_1 = np.array([mu_init4_1, sig_init4_1])\n",
    "W_hat4_1 = np.eye(4)\n",
    "smm_args4_1 = (pts, unif_vals_2, 0.0, 450, W_hat4_1)\n",
    "results4_1 = opt.minimize(criterion4, params_init4_1, args=(smm_args4_1),\n",
    "                          method='L-BFGS-B',\n",
    "                          bounds=((1e-10, None), (1e-10, None)))\n",
    "mu_SMM4_1, sig_SMM4_1 = results4_1.x\n",
    "print('mu_SMM4_1=', mu_SMM4_1, ' sig_SMM4_1', sig_SMM4_1)\n",
    "print(results4_1)"
   ]
  },
  {
   "cell_type": "markdown",
   "metadata": {},
   "source": [
    "Note that the optimization problem only did three function evaluations, and it decided that the parameter values that minimized the criterion function are the initial values. Something is wrong.\n",
    "\n",
    "To see what is happening in the minimizer, let's insert a line in the `criterion4()` function that prints out the values of $\\mu$ and $\\sigma$ for each function evaluation in the minimizer as well as the error vector associated with each guess of $\\mu$ and $\\sigma$."
   ]
  },
  {
   "cell_type": "markdown",
   "metadata": {},
   "source": [
    "Note that the three function evaluations are for guesses of $\\mu$ and $\\sigma$ of:\n",
    "\n",
    "* Guess 1: $\\mu$=`mu_init` and $\\sigma$=`sig_init`\n",
    "* Guess 2: $\\mu$=`mu_init + 0.00000001` and $\\sigma$=`sig_init`\n",
    "* Guess 3: $\\mu$=`mu_init` and $\\sigma$=`sig_init + 0.00000001`\n",
    "\n",
    "This is the `L-BFGS-B` method's way of computing the Jacobian or slope (gradient) matrix of the criterion function by finite difference. However, the epsilon of `0.00000001` seems to be too small. We can set this step size to be bigger by using the `minimize()` function's `options={}` argument.\n",
    "\n",
    "The `options={}` argument in the `minimize()` function is a dictionary of solver options available to each particular method. In our case, we want to look at the `options={}` arguments for the [`L-BFGS-B` method](https://docs.scipy.org/doc/scipy-0.18.1/reference/optimize.minimize-lbfgsb.html#optimize-minimize-lbfgsb) of the `scipy.minimize()` function. Looking at this documentation, we find that we can set the `eps` option to something other than its default which is `options={'eps': 1e-08}`. In our case, we want to set that epsilon value used the finite differnce estimation of the Jacobian to be something bigger. Our means and variances seem to be in the 100's, so let's see if we get a solution setting the epsilon equal to 1.0."
   ]
  },
  {
   "cell_type": "code",
   "execution_count": null,
   "metadata": {},
   "outputs": [],
   "source": [
    "results4_1 = opt.minimize(criterion4, params_init4_1, args=(smm_args4_1),\n",
    "                          method='L-BFGS-B',\n",
    "                          bounds=((1e-10, None), (1e-10, None)),\n",
    "                          options={'eps': 1.0})\n",
    "mu_SMM4_1, sig_SMM4_1 = results4_1.x\n",
    "print('mu_SMM4_1=', mu_SMM4_1, ' sig_SMM4_1', sig_SMM4_1)\n",
    "print(results4_1)"
   ]
  },
  {
   "cell_type": "markdown",
   "metadata": {},
   "source": [
    "Let's plot the PDF implied by these results against the histogram of the data."
   ]
  },
  {
   "cell_type": "code",
   "execution_count": null,
   "metadata": {},
   "outputs": [],
   "source": [
    "# Plot the histogram of the data\n",
    "count, bins, ignored = plt.hist(pts, 30, density=True,\n",
    "                                edgecolor='black', linewidth=1.2)\n",
    "plt.title('Econ 381 scores: 2011-2012', fontsize=20)\n",
    "plt.xlabel('Total points')\n",
    "plt.ylabel('Percent of scores')\n",
    "plt.xlim([0, 550])  # This gives the xmin and xmax to be plotted\"\n",
    "\n",
    "# Plot the estimated SMM PDF\n",
    "dist_pts = np.linspace(cut_lb, cut_ub, 500)\n",
    "plt.plot(dist_pts, trunc_norm_pdf(dist_pts, mu_SMM4_1, sig_SMM4_1,\n",
    "         cut_lb, cut_ub), linewidth=2, color='k',\n",
    "         label='1: $\\mu_{SMM4\\_1}$,$\\sigma_{SMM4\\_1}$')\n",
    "plt.legend(loc='upper left')"
   ]
  },
  {
   "cell_type": "markdown",
   "metadata": {},
   "source": [
    "Let's print the data moments and the model moments as well as the error vector evaluated at the SMM estimates."
   ]
  },
  {
   "cell_type": "code",
   "execution_count": null,
   "metadata": {},
   "outputs": [],
   "source": [
    "bpct_1_data, bpct_2_data, bpct_3_data, bpct_4_data = data_moments4(pts)\n",
    "print(bpct_1_data, bpct_2_data, bpct_3_data, bpct_4_data)\n",
    "sim_vals4_1 = trunc_norm_draws(unif_vals_2, mu_SMM4_1, sig_SMM4_1, 0.0, 450)\n",
    "bpct_1_sim4_1, bpct_2_sim4_1, bpct_3_sim4_1, bpct_4_sim4_1 = data_moments4(sim_vals4_1)\n",
    "bpct_1_model4_1 = bpct_1_sim4_1.mean()\n",
    "bpct_2_model4_1 = bpct_2_sim4_1.mean()\n",
    "bpct_3_model4_1 = bpct_3_sim4_1.mean()\n",
    "bpct_4_model4_1 = bpct_4_sim4_1.mean()\n",
    "print(bpct_1_model4_1, bpct_2_model4_1, bpct_3_model4_1, bpct_4_model4_1)\n",
    "err4_1 = err_vec4(pts, unif_vals_2, mu_SMM4_1, sig_SMM4_1, 0.0, 450,\n",
    "                  False)\n",
    "crit_params = np.array([mu_SMM4_1, sig_SMM4_1])\n",
    "criterion4_1 = criterion4(crit_params, pts, unif_vals_2, 0.0, 450, W_hat4_1)\n",
    "print('Error vector =', err4_1.reshape(4,))\n",
    "print('Criterion=', criterion4_1)"
   ]
  },
  {
   "cell_type": "markdown",
   "metadata": {},
   "source": [
    "We can compute the estimator of the variance-covariance matrix $\\hat{\\Sigma}$ of the SMM parameter estimator by computing the Jacobian of the error vector. In this case, the Jacobian $d(\\tilde{x},x|\\theta)$ is $R\\times K = 4\\times 2$."
   ]
  },
  {
   "cell_type": "code",
   "execution_count": null,
   "metadata": {},
   "outputs": [],
   "source": [
    "def Jac_err4(data_vals, unif_vals, mu, sigma, cut_lb, cut_ub, simple=False):\n",
    "    '''\n",
    "    This function computes the Jacobian matrix of partial derivatives of the R x 1 moment\n",
    "    error vector e(x|theta) with respect to the K parameters theta_i in the K x 1 parameter vector\n",
    "    theta. The resulting matrix is R x K Jacobian.\n",
    "    '''\n",
    "    Jac_err = np.zeros((4, 2))\n",
    "    h_mu = 1e-4 * mu\n",
    "    h_sig = 1e-4 * sigma\n",
    "    Jac_err[:, 0] = \\\n",
    "        ((err_vec4(data_vals, unif_vals, mu + h_mu, sigma, cut_lb, cut_ub, simple) -\n",
    "          err_vec4(data_vals, unif_vals, mu - h_mu, sigma, cut_lb, cut_ub, simple)) / (2 * h_mu)).flatten()\n",
    "    Jac_err[:, 1] = \\\n",
    "        ((err_vec4(data_vals, unif_vals, mu, sigma + h_sig, cut_lb, cut_ub, simple) -\n",
    "          err_vec4(data_vals, unif_vals, mu, sigma - h_sig, cut_lb, cut_ub, simple)) / (2 * h_sig)).flatten()\n",
    "    \n",
    "    return Jac_err"
   ]
  },
  {
   "cell_type": "code",
   "execution_count": null,
   "metadata": {},
   "outputs": [],
   "source": [
    "d_err4_1 = Jac_err4(pts, unif_vals_2, mu_SMM4_1, sig_SMM4_1, 0.0, 450.0, False)\n",
    "print(d_err4_1)\n",
    "print(W_hat4_1)\n",
    "SigHat4_1 = (1 / S) * lin.inv(d_err4_1.T @ W_hat4_1 @ d_err4_1)\n",
    "print(SigHat4_1)\n",
    "print('Std. err. mu_hat=', np.sqrt(SigHat4_1[0, 0]))\n",
    "print('Std. err. sig_hat=', np.sqrt(SigHat4_1[1, 1]))"
   ]
  },
  {
   "cell_type": "markdown",
   "metadata": {},
   "source": [
    "#### 4.1.4. Four moments, two-step optimal weighting matrix\n",
    "Let's see how much things change if we use the two-step estimator for the optimal weighting matrix $W$ instead of the identity matrix."
   ]
  },
  {
   "cell_type": "code",
   "execution_count": null,
   "metadata": {},
   "outputs": [],
   "source": [
    "def get_Err_mat4(pts, unif_vals, mu, sigma, cut_lb, cut_ub, simple=False):\n",
    "    '''\n",
    "    --------------------------------------------------------------------\n",
    "    This function computes the R x S matrix of errors from each\n",
    "    simulated moment for each moment error. In this function, we have\n",
    "    hard coded R = 4.\n",
    "    --------------------------------------------------------------------\n",
    "    INPUTS:\n",
    "    xvals     = (N,) vector, test scores data\n",
    "    unif_vals = (N, S) matrix, uniform random variables that generate\n",
    "                the N observations of simulated data for S simulations\n",
    "    mu        = scalar, mean of the normally distributed random variable\n",
    "    sigma     = scalar > 0, standard deviation of the normally\n",
    "                distributed random variable\n",
    "    cut_lb    = scalar or string, ='None' if no cutoff is given,\n",
    "                otherwise is scalar lower bound value of distribution.\n",
    "                Values below this value have zero probability\n",
    "    cut_ub    = scalar or string, ='None' if no cutoff is given,\n",
    "                otherwise is scalar upper bound value of distribution.\n",
    "                Values above this value have zero probability\n",
    "    simple    = boolean, =True if errors are simple difference, =False\n",
    "                if errors are percent deviation from data moments\n",
    "    \n",
    "    OTHER FUNCTIONS AND FILES CALLED BY THIS FUNCTION:\n",
    "        model_moments()\n",
    "    \n",
    "    OBJECTS CREATED WITHIN FUNCTION:\n",
    "    R          = integer = 4, hard coded number of moments\n",
    "    S          = integer >= R, number of simulated datasets\n",
    "    Err_mat    = (R, S) matrix, error by moment and simulated data\n",
    "    mean_model = scalar, mean value from model\n",
    "    var_model  = scalar > 0, variance from model\n",
    "    \n",
    "    FILES CREATED BY THIS FUNCTION: None\n",
    "    \n",
    "    RETURNS: Err_mat\n",
    "    --------------------------------------------------------------------\n",
    "    '''\n",
    "    R = 4\n",
    "    S = unif_vals.shape[1]\n",
    "    Err_mat = np.zeros((R, S))\n",
    "    bpct_1_dat, bpct_2_dat, bpct_3_dat, bpct_4_dat = data_moments4(pts)\n",
    "    sim_vals = trunc_norm_draws(unif_vals, mu, sigma, cut_lb, cut_ub)\n",
    "    bpct_1_sim, bpct_2_sim, bpct_3_sim, bpct_4_sim = data_moments4(sim_vals)\n",
    "    if simple:\n",
    "        Err_mat[0, :] = bpct_1_sim - bpct_1_dat\n",
    "        Err_mat[1, :] = bpct_2_sim - bpct_2_dat\n",
    "        Err_mat[2, :] = bpct_3_sim - bpct_3_dat\n",
    "        Err_mat[3, :] = bpct_4_sim - bpct_4_dat\n",
    "    else:\n",
    "        Err_mat[0, :] = (bpct_1_sim - bpct_1_dat) / bpct_1_dat\n",
    "        Err_mat[1, :] = (bpct_2_sim - bpct_2_dat) / bpct_2_dat\n",
    "        Err_mat[2, :] = (bpct_3_sim - bpct_3_dat) / bpct_3_dat\n",
    "        Err_mat[3, :] = (bpct_4_sim - bpct_4_dat) / bpct_4_dat\n",
    "    \n",
    "    return Err_mat"
   ]
  },
  {
   "cell_type": "code",
   "execution_count": null,
   "metadata": {},
   "outputs": [],
   "source": [
    "Err_mat4 = get_Err_mat4(pts, unif_vals_2, mu_SMM4_1, sig_SMM4_1, 0.0, 450.0, False)\n",
    "VCV4 = (1 / S) * (Err_mat4 @ Err_mat4.T)\n",
    "print(VCV4)\n",
    "# Because VCV4 is poorly conditioned we use the pseudo-inverse to invert it, which\n",
    "# uses the SVD\n",
    "W_hat4_2 = lin.pinv(VCV4)\n",
    "print(W_hat4_2)"
   ]
  },
  {
   "cell_type": "code",
   "execution_count": null,
   "metadata": {},
   "outputs": [],
   "source": [
    "params_init4_2 = np.array([mu_SMM4_1, sig_SMM4_1])\n",
    "# params_init2_2 = np.array([400, 70])\n",
    "# W_hat[1, 1] = 2.0\n",
    "# W_hat[2, 2] = 2.0\n",
    "smm_args4_2 = (pts, unif_vals_2, 0.0, 450, W_hat4_2)\n",
    "results4_2 = opt.minimize(criterion4, params_init4_2, args=(smm_args4_2),\n",
    "                          method='SLSQP',\n",
    "                          bounds=((1e-10, None), (1e-10, None)),\n",
    "                          options={'eps': 1.0})\n",
    "mu_SMM4_2, sig_SMM4_2 = results4_2.x\n",
    "print('mu_SMM4_2=', mu_SMM4_2, ' sig_SMM4_2', sig_SMM4_2)\n",
    "print(results4_2)"
   ]
  },
  {
   "cell_type": "markdown",
   "metadata": {},
   "source": [
    "The optimal weighting matrix $\\hat{W}_{2step}$ does not make a difference on the point estimates. But it will make a difference on the standard errors."
   ]
  },
  {
   "cell_type": "code",
   "execution_count": null,
   "metadata": {},
   "outputs": [],
   "source": [
    "# Plot the histogram of the data\n",
    "count, bins, ignored = plt.hist(pts, 30, density=True,\n",
    "                                edgecolor='black', linewidth=1.2)\n",
    "plt.title('Econ 381 scores: 2011-2012', fontsize=20)\n",
    "plt.xlabel('Total points')\n",
    "plt.ylabel('Percent of scores')\n",
    "plt.xlim([0, 550])  # This gives the xmin and xmax to be plotted\"\n",
    "\n",
    "# Plot the estimated SMM PDF\n",
    "dist_pts = np.linspace(cut_lb, cut_ub, 500)\n",
    "plt.plot(dist_pts, trunc_norm_pdf(dist_pts, mu_SMM4_2, sig_SMM4_2,\n",
    "         0.0, 450), linewidth=2, color='k',\n",
    "         label='1: $\\mu_{SMM4\\_2}$,$\\sigma_{SMM4\\_2}$')\n",
    "plt.legend(loc='upper left')"
   ]
  },
  {
   "cell_type": "code",
   "execution_count": null,
   "metadata": {},
   "outputs": [],
   "source": [
    "print(bpct_1_data, bpct_2_data, bpct_3_data, bpct_4_data)\n",
    "sim_vals4_2 = trunc_norm_draws(unif_vals_2, mu_SMM4_2, sig_SMM4_2, 0.0, 450)\n",
    "bpct_1_sim4_2, bpct_2_sim4_2, bpct_3_sim4_2, bpct_4_sim4_2 = data_moments4(sim_vals4_2)\n",
    "bpct_1_model4_2 = bpct_1_sim4_2.mean()\n",
    "bpct_2_model4_2 = bpct_2_sim4_2.mean()\n",
    "bpct_3_model4_2 = bpct_3_sim4_2.mean()\n",
    "bpct_4_model4_2 = bpct_4_sim4_2.mean()\n",
    "print(bpct_1_model4_2, bpct_2_model4_2, bpct_3_model4_2, bpct_4_model4_2)\n",
    "err4_2 = err_vec4(pts, unif_vals_2, mu_SMM4_2, sig_SMM4_2, 0.0, 450,\n",
    "                  False)\n",
    "crit_params = np.array([mu_SMM4_2, sig_SMM4_2])\n",
    "criterion4_2 = criterion4(crit_params, pts, unif_vals_2, 0.0, 450, W_hat4_2)\n",
    "print('Error vector =', err4_2.reshape(4,))\n",
    "print('Criterion=', criterion4_2)"
   ]
  },
  {
   "cell_type": "markdown",
   "metadata": {},
   "source": [
    "The criterion function for different values of $\\mu$ and $\\sigma$ here has a minimum, although it looks like there is a valley floor ridge along which values of $\\mu$ and $\\sigma$ produce approximately the same criterion function value."
   ]
  },
  {
   "cell_type": "code",
   "execution_count": null,
   "metadata": {},
   "outputs": [],
   "source": [
    "# Note that this will take a few minutes because the intgr.quad() commands\n",
    "# are a little slow\n",
    "mu_vals = np.linspace(340, 380, 50)\n",
    "sig_vals = np.linspace(20, 70, 50)\n",
    "# mu_vals = np.linspace(350, 370, 50)\n",
    "# sig_vals = np.linspace(85, 98, 50)\n",
    "crit_vals4 = np.zeros((50, 50))\n",
    "for mu_ind in range(50):\n",
    "    for sig_ind in range(50):\n",
    "        crit_vals4[mu_ind, sig_ind] = \\\n",
    "            criterion4(np.array([mu_vals[mu_ind], sig_vals[sig_ind]]),\n",
    "                       pts, unif_vals_2, 0.0, 450, W_hat4_2)\n",
    "\n",
    "mu_mesh, sig_mesh = np.meshgrid(mu_vals, sig_vals)\n",
    "\n",
    "fig = plt.figure()\n",
    "ax = fig.gca(projection='3d')\n",
    "ax.plot_surface(sig_mesh, mu_mesh, crit_vals4, rstride=8,\n",
    "                cstride=1, cmap=cmap1)\n",
    "ax.set_title('Criterion function for values of mu and sigma')\n",
    "ax.set_xlabel(r'$\\sigma$')\n",
    "ax.set_ylabel(r'$\\mu$')\n",
    "ax.set_zlabel(r'Crit. func.')"
   ]
  },
  {
   "cell_type": "markdown",
   "metadata": {},
   "source": [
    "As has been true in our other examples of GMM and SMM, the standard errors on the estimated parameter vector decrease substantially with the incorporation of an optimal weighting matrix."
   ]
  },
  {
   "cell_type": "code",
   "execution_count": null,
   "metadata": {},
   "outputs": [],
   "source": [
    "d_err4_2 = Jac_err4(pts, unif_vals_2, mu_SMM4_2, sig_SMM4_2, 0.0, 450.0, False)\n",
    "print(d_err4_2)\n",
    "print(W_hat4_2)\n",
    "SigHat4_2 = (1 / S) * lin.inv(d_err4_2.T @ W_hat4_2 @ d_err4_2)\n",
    "print(SigHat4_2)\n",
    "print('Std. err. mu_hat=', np.sqrt(SigHat4_2[0, 0]))\n",
    "print('Std. err. sig_hat=', np.sqrt(SigHat4_2[1, 1]))"
   ]
  },
  {
   "cell_type": "markdown",
   "metadata": {},
   "source": [
    "### 4.2. Brock and Mirman (1972) estimation by SMM\n",
    "Give Brock and Mirman (1972) example."
   ]
  },
  {
   "cell_type": "markdown",
   "metadata": {},
   "source": [
    "## 5. Identification\n",
    "An issue that we saw in the examples from the previous section is that there is some science as well as some art in choosing moments to identify the parameters in an SMM estimation as well as in GMM. Suppose the parameter vector $\\theta$ has $K$ elements, or rather, $K$ parameters to be estimated. In order to estimate $\\theta$ by GMM, you must have at least as many moments as parameters to estimate $R\\geq K$. If you have exactly as many moments as parameters to be estimated $R=K$, the model is said to be *exactly identified*. If you have more moments than parameters to be estimated $R>K$, the model is said to be *overidentified*. If you have fewer moments than parameters to be estimated $R<K$, the model is said to be *underidentified*. There are good reasons to overidentify $R>K$ the model in SMM estimation as we saw in the previous example. The main reason is that not all moments are orthogonal. That is, some moments convey roughly the same information about the data and, therefore, do not separately identify any extra parameters. So a good SMM model often is overidentified $R>K$.\n",
    "\n",
    "One last point about MM regards moment selection and verification of results. The real world has an infinite supply of potential moments that describe some part of the data. Choosing moments to estimate parameters by SMM requires understanding of the model, intuition about its connections to the real world, and artistry. A good SMM estimation will include moments that have some relation to or story about their connection to particular parameters of the model to be estimated. In addition, a good verification of a SMM estimation is to take some moment from the data that was not used in the estimation and see how well the corresponding moment from the estimated model matches that *outside moment*."
   ]
  },
  {
   "cell_type": "markdown",
   "metadata": {},
   "source": [
    "## 6. Indirect Inference\n",
    "Indirect inference is a particular application of SMM with some specific characteristics. As moments to match it uses parameters of an auxiliary model that can be estimated both on the real-world data and on the simulated data. Smith (2008) gives a great summary of the topic with some examples. See also Gourieroux and Monfort (1996, ch. 4) for a textbook treatment of the topic."
   ]
  },
  {
   "cell_type": "markdown",
   "metadata": {},
   "source": [
    "### 6.1. Restatement of the general SMM estimation problem\n",
    "Define a model or data generating process (DGP) as a system of equations,\n",
    "\n",
    "$$ F(x_t,z_t|\\theta)=0 $$\n",
    "\n",
    "which are functions of a vector of endogenous variables $x_t$, exogenous variables $z_t$, and parameters $\\theta$. In the general simulated method of moments (SMM), one would choose data moments $m(x_t,z_t)$ that are just statistics of the data and model moments $\\hat{m}(\\tilde{x}_t,\\tilde{z}_t|\\theta)$ that are averages of the same data moments calculated on simulated samples of the data. The SMM estimator is to choose the parameter vector $\\hat{\\theta}_{SMM}$ to minimize some distance of the model moments from the data moments.\n",
    "\n",
    "$$ \\hat{\\theta}_{SMM}=\\theta:\\quad \\min_{\\theta} ||\\hat{m}(\\tilde{x}_t,\\tilde{z}_t|\\theta) - m(x_t,z_t)|| $$"
   ]
  },
  {
   "cell_type": "markdown",
   "metadata": {},
   "source": [
    "### 6.2. Indirect inference estimation problem\n",
    "Indirect inference is to change the model moments from being stastics that are calculated directly from the simulated data to being statistics that are calculated indirectly from the simulated data. These indirect inference model moments are parameters from an auxiliary model.\n",
    "\n",
    "Let an auxiliary model be defined as $g(x_t,z_t|\\phi)=0$. The parameters of the auxiliary model will be the moments we use to identify the model parameters $\\theta$. Suppose that the model parameter vector $\\theta$ has $K$ elements. Then the auxiliary model parameter vector $\\phi$ must have $R$ elements such that $R\\geq K$. This is the typical identification restriction that the number of model moments must be at least as many as the number of model parameters being estimated.\n",
    "\n",
    "When the auxiliary model is run on real-world data $g(x_t,z_t|\\phi)=0$, the resulting values of the auxiliary model parameters are the data moments $\\hat{\\phi}(x_t,z_t)$. Note that these data moments $\\hat{\\phi}$ have a hat on them to represent that these moments are usually estimated in some way. When the auxiliary model is run on the $s$th simulation of the data given model parameters $g(\\tilde{x}_{s,t},\\tilde{z}_{s,t}|\\phi)=0$, the auxiliary model parameters are the $s$th estimate of the model moments $\\hat{\\phi}_s(\\tilde{x}_{s,t},\\tilde{z}_{s,t}|\\theta)$. The model moments are then the average of these auxiliary model parameter estimates across the simulations.\n",
    "\n",
    "$$ \\hat{\\phi}(\\tilde{x}_{t},\\tilde{z}_{t}|\\theta) = \\frac{1}{S}\\sum_{s=1}^S \\hat{\\phi}_s(\\tilde{x}_{s,t},\\tilde{z}_{s,t}|\\theta) $$\n",
    "\n",
    "The indirect inference estimation method is simply to choose a model parameter vector $\\theta$ that minimizes some distance metric between the model moments $\\hat{\\phi}(\\tilde{x}_{t},\\tilde{z}_{t}|\\theta)$ and the data moments $\\hat{\\phi}(x_t,z_t)$.\n",
    "\n",
    "$$ \\hat{\\theta}_{SMM}=\\theta:\\quad \\min_{\\theta} ||\\hat{\\phi}(\\tilde{x}_{t},\\tilde{z}_{t}|\\theta) - \\hat{\\phi}(x_t,z_t)|| $$\n",
    " \n",
    "In most examples of indirect, the data moments and model moments are some regression of endogenous variables on exogenous variables. In the univariate case, it is usually linear regression. In the multivariate case, it is usually a vector autoregression (VAR). But most examples are reduced form parameter estimation exercises. Other examples are probit, logit, and two-stage IV regressions. The key is that these statistics be computationally tractable and have convenient or accurate data availability."
   ]
  },
  {
   "cell_type": "markdown",
   "metadata": {},
   "source": [
    "### 6.3. Hypothesis testing with indirect inference\n",
    "* Wald test\n",
    "* likelihood ratio test"
   ]
  },
  {
   "cell_type": "markdown",
   "metadata": {},
   "source": [
    "## 7. References\n",
    "* Adda, Jerome and Russell Cooper, *Dynamic Economics: Quantitative Methods and Applications*, MIT Press (2003).\n",
    "* Brock, William A. and Leonard J. Mirman, \"Optimal Economic Growth and Uncertainty: The Discounted Case,\" *Journal of Economic Theory*, 4:3, pp. 479-513 (June 1972).\n",
    "* Davidson, Russell and James G. MacKinnon, *Econometric Theory and Methods*, Oxford University Press (2004).\n",
    "* Duffie, Darrell and Kenneth J. Singleton, \"Simulated Moment Estimation of Markov Models of Asset Prices\", *Econometrica*, 61:4, pp. 929-952 (July 1993).\n",
    "* Gourieroux, Christian and Alain Monfort, *Simulation-based Econometric Methods*, Oxford University Press (1996).\n",
    "* Laroque, G. and B. Salanie, \"Simulation Based Estimation Models with Lagged Latent Variables\", *Journal of Applied Econometrics*, 8:Supplement, pp. 119-133 (December 1993).\n",
    "* Lee, Bong-Soo and Beth Fisher Ingram, \"Simulation Estimation of Time Series Models\", *Journal of Econometrics*, 47:2-3, pp. 197-205 (February 1991).\n",
    "* McFadden, Daniel, \"A Method of Simulated Moments for Estimation of Discrete Response Models without Numerical Integration,\" *Econometrica*, 57:5, pp. 995-1026 (September 1989).\n",
    "* Newey, Whitney K. and Kenneth D. West, \"A Simple, Positive, Semi-definite, Heteroskedasticy and Autocorrelation Consistent Covariance Matrix,\" *Econometrica*, 55:3, pp. 703-708 (May 1987).\n",
    "* Smith, Anthony A. Jr., \"[Indirect Inference](http://www.econ.yale.edu/smith/palgrave7.pdf),\" *New Palgrave Dictionary of Economics*, 2nd edition, (2008)."
   ]
  }
 ],
 "metadata": {
  "anaconda-cloud": {},
  "kernelspec": {
   "display_name": "Python 3",
   "language": "python",
   "name": "python3"
  },
  "language_info": {
   "codemirror_mode": {
    "name": "ipython",
    "version": 3
   },
   "file_extension": ".py",
   "mimetype": "text/x-python",
   "name": "python",
   "nbconvert_exporter": "python",
   "pygments_lexer": "ipython3",
   "version": "3.7.1"
  }
 },
 "nbformat": 4,
 "nbformat_minor": 1
}
